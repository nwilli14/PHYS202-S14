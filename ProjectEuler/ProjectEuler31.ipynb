{
 "metadata": {
  "name": "",
  "signature": "sha256:d4eb020945031ab7385450ed91d3202a36a563f35b24f45520feb455af5de77a"
 },
 "nbformat": 3,
 "nbformat_minor": 0,
 "worksheets": [
  {
   "cells": [
    {
     "cell_type": "code",
     "collapsed": false,
     "input": [
      "pence = [200, 100, 50, 10, 5, 1]\n",
      "combos = 1\n",
      "\n",
      "for n in pence:\n",
      "    combos *= n / n + 1\n",
      "print combos"
     ],
     "language": "python",
     "metadata": {},
     "outputs": [
      {
       "output_type": "stream",
       "stream": "stdout",
       "text": [
        "64\n"
       ]
      }
     ],
     "prompt_number": 3
    },
    {
     "cell_type": "code",
     "collapsed": false,
     "input": [
      "combos = 1\n",
      "combos *= 200 / 100 \n",
      "combos *= 100 / 50\n",
      "combos *= 100 / 20\n",
      "combos *= 50 / 10\n",
      "combos *= 10 / 5\n",
      "combos *= 10 / 2\n",
      "combos *= 5 / 1\n",
      "combos *= 2 # 2+2+1=5\n",
      "print combos"
     ],
     "language": "python",
     "metadata": {},
     "outputs": [
      {
       "output_type": "stream",
       "stream": "stdout",
       "text": [
        "10000\n"
       ]
      }
     ],
     "prompt_number": 7
    },
    {
     "cell_type": "code",
     "collapsed": false,
     "input": [],
     "language": "python",
     "metadata": {},
     "outputs": []
    }
   ],
   "metadata": {}
  }
 ]
}