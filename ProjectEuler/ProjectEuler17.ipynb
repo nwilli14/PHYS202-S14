{
 "metadata": {
  "name": "",
  "signature": "sha256:43097ca8cc7b36e20cf25556d0463c8a4e0d05df254d2810cba1e98454c8d96f"
 },
 "nbformat": 3,
 "nbformat_minor": 0,
 "worksheets": [
  {
   "cells": [
    {
     "cell_type": "heading",
     "level": 1,
     "metadata": {},
     "source": [
      "Project Euler 17\n"
     ]
    },
    {
     "cell_type": "heading",
     "level": 2,
     "metadata": {},
     "source": [
      "Number letter counts"
     ]
    },
    {
     "cell_type": "markdown",
     "metadata": {},
     "source": [
      "If the numbers 1 to 5 are written out in words: one, two, three, four, five, then there are 3 + 3 + 5 + 4 + 4 = 19 letters used in total.\n",
      "\n",
      "If all the numbers from 1 to 1000 (one thousand) inclusive were written out in words, how many letters would be used?\n",
      "\n",
      "\n",
      "NOTE: Do not count spaces or hyphens. For example, 342 (three hundred and forty-two) contains 23 letters and 115 (one hundred and fifteen) contains 20 letters. The use of \"and\" when writing out numbers is in compliance with British usage."
     ]
    },
    {
     "cell_type": "code",
     "collapsed": false,
     "input": [
      "ones = {0:0, 1:3, 2:3, 3:5, 4:4, 5:4, 6:3, 7:5, 8:5, 9:4, 10:3, 11:6, 12:6, 13:8, 14:8, 15:7, 16:7, 17:9, 18:8, 19:8}\n",
      "tens = {0:0, 2:6, 3:6, 4:5, 5:5, 6:5, 7:7, 8:6, 9:6}\n",
      "letters = 0\n",
      "\n",
      "for number in range(1,1001):\n",
      "    if number == 1000:\n",
      "        on = number % 10 #ones digits\n",
      "        te = (number % 100 - on) / 10 #tens digit\n",
      "        hu = (number % 1000 - te - on)/100 #hundreds digit\n",
      "        th = (number % 10000 - hu - te - on)/1000 #thousands digit\n",
      "        letters += ones[th] + 8\n",
      "        print letters\n",
      "        \n",
      "    if number >=100:\n",
      "        on = number % 10 #ones digits\n",
      "        te = (number % 100 - on) / 10 #tens digit\n",
      "        hu = (number % 1000 - te - on)/100 #hundreds digit\n",
      "        if te == 1:\n",
      "            teen = te*10 + on\n",
      "            letters += ones[hu] + 10\n",
      "            letters += ones[teen]\n",
      "        else:\n",
      "            if te > 0 or on > 0:\n",
      "                letters += ones[hu] + 10\n",
      "                letters += tens[te]\n",
      "                letters += ones[on]\n",
      "            else:\n",
      "                letters += ones[hu] + 7\n",
      "        \n",
      "    if number < 100 and number >= 20:\n",
      "        on = number % 10 #ones digits\n",
      "        te = (number % 100 - on) / 10 #tens digit\n",
      "        letters += ones[on] \n",
      "        letters += tens[te] \n",
      "        \n",
      "    if number <=19:\n",
      "        letters += ones[number]"
     ],
     "language": "python",
     "metadata": {},
     "outputs": [
      {
       "output_type": "stream",
       "stream": "stdout",
       "text": [
        "21124\n"
       ]
      }
     ],
     "prompt_number": 26
    }
   ],
   "metadata": {}
  }
 ]
}