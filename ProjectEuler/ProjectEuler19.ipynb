{
 "metadata": {
  "name": "",
  "signature": "sha256:d3bed5b5a71a622bb81bc9fc3b325ea34129317e25b3ff823e0cef5af39e782f"
 },
 "nbformat": 3,
 "nbformat_minor": 0,
 "worksheets": [
  {
   "cells": [
    {
     "cell_type": "heading",
     "level": 1,
     "metadata": {},
     "source": [
      "Counting Sundays"
     ]
    },
    {
     "cell_type": "heading",
     "level": 2,
     "metadata": {},
     "source": [
      "Problem 19"
     ]
    },
    {
     "cell_type": "markdown",
     "metadata": {},
     "source": [
      "You are given the following information, but you may prefer to do some research for yourself.\n",
      "\n",
      "1 Jan 1900 was a Monday.\n",
      "\n",
      "Thirty days has September,\n",
      "\n",
      "April, June and November.\n",
      "\n",
      "All the rest have thirty-one,\n",
      "\n",
      "Saving February alone,\n",
      "\n",
      "Which has twenty-eight, rain or shine.\n",
      "\n",
      "And on leap years, twenty-nine.\n",
      "\n",
      "A leap year occurs on any year evenly divisible by 4, but not on a century unless it is divisible by 400.\n",
      "\n",
      "How many Sundays fell on the first of the month during the twentieth century (1 Jan 1901 to 31 Dec 2000)?"
     ]
    },
    {
     "cell_type": "code",
     "collapsed": false,
     "input": [
      "import numpy as np\n",
      "days_of_week = ['Sunday', 'Monday', 'Tuesday', 'Wednesday', 'Thursday', 'Friday', 'Saturday']\n",
      "norm_year = {}\n",
      "leap_year = {}\n",
      "\n",
      "years = []\n",
      "weekday = 2\n",
      "sundays = 0\n",
      "years = np.arange(1901, 2001)"
     ],
     "language": "python",
     "metadata": {},
     "outputs": [],
     "prompt_number": 77
    },
    {
     "cell_type": "code",
     "collapsed": false,
     "input": [
      "for year in years:\n",
      "    \n",
      "    if year % 4 == 0:\n",
      "        for day in range(1, 367):\n",
      "            if weekday > 6:\n",
      "                weekday = 0\n",
      "            leap_year[day] = days_of_week[weekday]\n",
      "            weekday += 1\n",
      "        \n",
      "        if leap_year[1] == 'Sunday': #january\n",
      "            sundays += 1\n",
      "        if leap_year[32] == 'Sunday': #Feburary\n",
      "            sundays += 1\n",
      "        if leap_year[61] == 'Sunday': #March\n",
      "            sundays += 1\n",
      "        if leap_year[92] == 'Sunday': #April\n",
      "            sundays += 1\n",
      "        if leap_year[122] == 'Sunday': #May\n",
      "            sundays += 1\n",
      "        if leap_year[153] == 'Sunday': #June\n",
      "            sundays += 1\n",
      "        if leap_year[183] == 'Sunday': #July\n",
      "            sundays += 1\n",
      "        if leap_year[214] == 'Sunday': #August\n",
      "            sundays += 1\n",
      "        if leap_year[245] == 'Sunday': #September\n",
      "            sundays += 1\n",
      "        if leap_year[275] == 'Sunday': #October\n",
      "            sundays += 1\n",
      "        if leap_year[306] == 'Sunday': #November\n",
      "            sundays += 1\n",
      "        if leap_year[336] == 'Sunday': #December\n",
      "            sundays += 1\n",
      "        leap_year = {}\n",
      "    \n",
      "    else:\n",
      "        for day in range(1, 366):\n",
      "            if weekday > 6:\n",
      "                weekday = 0\n",
      "            norm_year[day] = days_of_week[weekday]\n",
      "            weekday += 1\n",
      "        \n",
      "        if norm_year[1] == 'Sunday': #january\n",
      "            sundays += 1\n",
      "        if norm_year[32] == 'Sunday': #Feburary\n",
      "            sundays += 1\n",
      "        if norm_year[60] == 'Sunday': #March\n",
      "            sundays += 1\n",
      "        if norm_year[91] == 'Sunday': #April\n",
      "            sundays += 1\n",
      "        if norm_year[121] == 'Sunday': #May\n",
      "            sundays += 1\n",
      "        if norm_year[152] == 'Sunday': #June\n",
      "            sundays += 1\n",
      "        if norm_year[182] == 'Sunday': #July\n",
      "            sundays += 1\n",
      "        if norm_year[213] == 'Sunday': #August\n",
      "            sundays += 1\n",
      "        if norm_year[244] == 'Sunday': #September\n",
      "            sundays += 1\n",
      "        if norm_year[274] == 'Sunday': #October\n",
      "            sundays += 1\n",
      "        if norm_year[305] == 'Sunday': #November\n",
      "            sundays += 1\n",
      "        if norm_year[335] == 'Sunday': #December\n",
      "            sundays += 1\n",
      "        norm_year = {}\n",
      "print sundays"
     ],
     "language": "python",
     "metadata": {},
     "outputs": [
      {
       "output_type": "stream",
       "stream": "stdout",
       "text": [
        "171\n"
       ]
      }
     ],
     "prompt_number": 78
    },
    {
     "cell_type": "code",
     "collapsed": false,
     "input": [],
     "language": "python",
     "metadata": {},
     "outputs": []
    }
   ],
   "metadata": {}
  }
 ]
}