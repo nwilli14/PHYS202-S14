{
 "metadata": {
  "name": "",
  "signature": "sha256:07b1b7c5b94e7420a087088994b49d503f846392c3f8070b94fafd86954ea87d"
 },
 "nbformat": 3,
 "nbformat_minor": 0,
 "worksheets": [
  {
   "cells": [
    {
     "cell_type": "heading",
     "level": 1,
     "metadata": {},
     "source": [
      "Project Euler 4"
     ]
    },
    {
     "cell_type": "heading",
     "level": 2,
     "metadata": {},
     "source": [
      "Largest Palindrome Product"
     ]
    },
    {
     "cell_type": "markdown",
     "metadata": {},
     "source": [
      "A palindromic number reads the same both ways. The largest palindrome made from the product of two 2-digit numbers is 9009 = 91 \u00d7 99.\n",
      "\n",
      "Find the largest palindrome made from the product of two 3-digit numbers."
     ]
    },
    {
     "cell_type": "code",
     "collapsed": false,
     "input": [
      "import numpy as np"
     ],
     "language": "python",
     "metadata": {},
     "outputs": [],
     "prompt_number": 1
    },
    {
     "cell_type": "code",
     "collapsed": false,
     "input": [
      "soln = 0\n",
      "for i in np.arange(99,10,-1):\n",
      "    for n in np.arange(i,10,-1):\n",
      "        pro = i*n\n",
      "        if pro > soln:\n",
      "            test = str(pro)\n",
      "            if test == test[::-1]:\n",
      "                soln = pro\n",
      "print soln "
     ],
     "language": "python",
     "metadata": {},
     "outputs": [
      {
       "output_type": "stream",
       "stream": "stdout",
       "text": [
        "9009\n"
       ]
      }
     ],
     "prompt_number": 2
    },
    {
     "cell_type": "code",
     "collapsed": false,
     "input": [
      "soln = 0\n",
      "for i in np.arange(999,100,-1):\n",
      "    for n in np.arange(i,100,-1):\n",
      "        pro = i*n\n",
      "        if pro > soln:\n",
      "            test = str(pro)\n",
      "            if test == test[::-1]:\n",
      "                soln = pro\n",
      "print soln "
     ],
     "language": "python",
     "metadata": {},
     "outputs": [
      {
       "output_type": "stream",
       "stream": "stdout",
       "text": [
        "906609\n"
       ]
      }
     ],
     "prompt_number": 3
    },
    {
     "cell_type": "code",
     "collapsed": false,
     "input": [],
     "language": "python",
     "metadata": {},
     "outputs": [],
     "prompt_number": 3
    }
   ],
   "metadata": {}
  }
 ]
}