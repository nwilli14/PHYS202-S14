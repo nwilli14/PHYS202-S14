{
 "metadata": {
  "name": "",
  "signature": "sha256:63ee3dfb6ad745d446a2b9d06546daa4fb9a9ba4c5f46f7c8525cd61c28b9094"
 },
 "nbformat": 3,
 "nbformat_minor": 0,
 "worksheets": [
  {
   "cells": [
    {
     "cell_type": "heading",
     "level": 1,
     "metadata": {},
     "source": [
      "Multiples of 3 and 5"
     ]
    },
    {
     "cell_type": "heading",
     "level": 3,
     "metadata": {},
     "source": [
      "Problem 1"
     ]
    },
    {
     "cell_type": "markdown",
     "metadata": {},
     "source": [
      "If we list all the natural numbers below 10 that are multiples of 3 or 5, we get 3, 5, 6 and 9. The sum of these multiples is 23.\n",
      "\n",
      "Find the sum of all the multiples of 3 or 5 below 1000."
     ]
    },
    {
     "cell_type": "markdown",
     "metadata": {},
     "source": [
      "driver: Nick\n",
      "\n",
      "Navagator: Jack"
     ]
    },
    {
     "cell_type": "code",
     "collapsed": false,
     "input": [
      "numbers = range(0, 10)\n",
      "total = 0\n",
      "for n in numbers:\n",
      "    if n % 3 == 0:\n",
      "        total = n + total\n",
      "    elif n % 5 == 0:\n",
      "        total = n + total\n",
      "print total"
     ],
     "language": "python",
     "metadata": {},
     "outputs": [
      {
       "output_type": "stream",
       "stream": "stdout",
       "text": [
        "23\n"
       ]
      }
     ],
     "prompt_number": 1
    },
    {
     "cell_type": "code",
     "collapsed": false,
     "input": [
      "numbers = range(0, 1000)\n",
      "total = 0\n",
      "for n in numbers:\n",
      "    if n % 3 == 0:\n",
      "        total = n + total\n",
      "    elif n % 5 == 0:\n",
      "        total = n + total\n",
      "print total"
     ],
     "language": "python",
     "metadata": {},
     "outputs": [
      {
       "output_type": "stream",
       "stream": "stdout",
       "text": [
        "233168\n"
       ]
      }
     ],
     "prompt_number": 2
    },
    {
     "cell_type": "code",
     "collapsed": false,
     "input": [],
     "language": "python",
     "metadata": {},
     "outputs": []
    }
   ],
   "metadata": {}
  }
 ]
}