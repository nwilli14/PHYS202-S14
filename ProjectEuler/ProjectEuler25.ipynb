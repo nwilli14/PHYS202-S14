{
 "metadata": {
  "name": "",
  "signature": "sha256:dfdf49deebb8b777e9714a3100f88a5901b2136562dffa477fd27b0489f27cd7"
 },
 "nbformat": 3,
 "nbformat_minor": 0,
 "worksheets": [
  {
   "cells": [
    {
     "cell_type": "heading",
     "level": 1,
     "metadata": {},
     "source": [
      "Project Euler 25"
     ]
    },
    {
     "cell_type": "heading",
     "level": 2,
     "metadata": {},
     "source": [
      "Fibonacci Sequence of 1000 digits"
     ]
    },
    {
     "cell_type": "markdown",
     "metadata": {},
     "source": [
      "The Fibonacci sequence is defined by the recurrence relation:\n",
      "\n",
      "Fn = Fn\u22121 + Fn\u22122, where F1 = 1 and F2 = 1.\n",
      "Hence the first 12 terms will be:\n",
      "\n",
      "F1 = 1\n",
      "F2 = 1\n",
      "F3 = 2\n",
      "F4 = 3\n",
      "F5 = 5\n",
      "F6 = 8\n",
      "F7 = 13\n",
      "F8 = 21\n",
      "F9 = 34\n",
      "F10 = 55\n",
      "F11 = 89\n",
      "F12 = 144\n",
      "The 12th term, F12, is the first term to contain three digits.\n",
      "\n",
      "What is the first term in the Fibonacci sequence to contain 1000 digits?"
     ]
    },
    {
     "cell_type": "code",
     "collapsed": false,
     "input": [
      "F = [1,1]\n",
      "\n",
      "\n",
      "for i in range(5000):\n",
      "    if len(str(F[i+1]))>=3:\n",
      "        print len(F)\n",
      "        break\n",
      "    else:    \n",
      "        F.append(F[i] + (F[i+1]))"
     ],
     "language": "python",
     "metadata": {},
     "outputs": [
      {
       "output_type": "stream",
       "stream": "stdout",
       "text": [
        "12\n"
       ]
      }
     ],
     "prompt_number": 1
    },
    {
     "cell_type": "code",
     "collapsed": false,
     "input": [
      "F = [1,1]\n",
      "\n",
      "\n",
      "for i in range(5000):\n",
      "    if len(str(F[i+1]))>=1000:\n",
      "        print len(F)\n",
      "        break\n",
      "    else:    \n",
      "        F.append(F[i] + (F[i+1]))"
     ],
     "language": "python",
     "metadata": {},
     "outputs": [
      {
       "output_type": "stream",
       "stream": "stdout",
       "text": [
        "4782\n"
       ]
      }
     ],
     "prompt_number": 2
    },
    {
     "cell_type": "code",
     "collapsed": false,
     "input": [],
     "language": "python",
     "metadata": {},
     "outputs": []
    }
   ],
   "metadata": {}
  }
 ]
}