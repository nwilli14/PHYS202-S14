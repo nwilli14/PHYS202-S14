{
 "metadata": {
  "name": "",
  "signature": "sha256:0d88630e3e5b0fbbc87979c201726dbec9e58258c6bd51802ddfab8c9abafc5b"
 },
 "nbformat": 3,
 "nbformat_minor": 0,
 "worksheets": [
  {
   "cells": [
    {
     "cell_type": "heading",
     "level": 1,
     "metadata": {},
     "source": [
      "Power Digit Sum"
     ]
    },
    {
     "cell_type": "code",
     "collapsed": false,
     "input": [
      "power = str(2**15) #set a string equal to 2 to the x\n",
      "digits = list(power) #a array equal to the individule characters or the string power\n",
      "\n",
      "total = 0 #initalize a sum at 0\n",
      "for num in digits: #a for loop that takes each individule number in the array and adds them to total\n",
      "    total += int(num)\n",
      "print total"
     ],
     "language": "python",
     "metadata": {},
     "outputs": [
      {
       "output_type": "stream",
       "stream": "stdout",
       "text": [
        "26\n"
       ]
      }
     ],
     "prompt_number": 13
    },
    {
     "cell_type": "code",
     "collapsed": false,
     "input": [
      "power = str(2**1000) #set a string equal to 2 to the x\n",
      "digits = list(power) #a array equal to the individule characters or the string power\n",
      "\n",
      "total = 0 #initalize a sum at 0\n",
      "for num in digits: #a for loop that takes each individule number in the array and adds them to total\n",
      "    total += int(num)\n",
      "print total"
     ],
     "language": "python",
     "metadata": {},
     "outputs": [
      {
       "output_type": "stream",
       "stream": "stdout",
       "text": [
        "1366\n"
       ]
      }
     ],
     "prompt_number": 14
    },
    {
     "cell_type": "code",
     "collapsed": false,
     "input": [],
     "language": "python",
     "metadata": {},
     "outputs": []
    }
   ],
   "metadata": {}
  }
 ]
}