{
 "metadata": {
  "name": "",
  "signature": "sha256:63e0e79a1a0a29aab76eabbd1a18ab4000de9165af8f851be0770573435b064c"
 },
 "nbformat": 3,
 "nbformat_minor": 0,
 "worksheets": [
  {
   "cells": [
    {
     "cell_type": "code",
     "collapsed": false,
     "input": [
      "n = 10\n",
      "sum_of_squares = 0\n",
      "summ = 0\n",
      "for i in range(n + 1):\n",
      "    sum_of_squares += i**2\n",
      "\n",
      "for num in range(n+1):\n",
      "    summ += num\n",
      "summ = summ**2\n",
      "\n",
      "print summ - sum_of_squares"
     ],
     "language": "python",
     "metadata": {},
     "outputs": [
      {
       "output_type": "stream",
       "stream": "stdout",
       "text": [
        "2640\n"
       ]
      }
     ],
     "prompt_number": 5
    },
    {
     "cell_type": "code",
     "collapsed": false,
     "input": [
      "n = 100\n",
      "sum_of_squares = 0\n",
      "summ = 0\n",
      "for i in range(n + 1):\n",
      "    sum_of_squares += i**2\n",
      "\n",
      "for num in range(n+1):\n",
      "    summ += num\n",
      "summ = summ**2\n",
      "\n",
      "print summ - sum_of_squares"
     ],
     "language": "python",
     "metadata": {},
     "outputs": [
      {
       "output_type": "stream",
       "stream": "stdout",
       "text": [
        "25164150\n"
       ]
      }
     ],
     "prompt_number": 6
    },
    {
     "cell_type": "code",
     "collapsed": false,
     "input": [],
     "language": "python",
     "metadata": {},
     "outputs": []
    }
   ],
   "metadata": {}
  }
 ]
}