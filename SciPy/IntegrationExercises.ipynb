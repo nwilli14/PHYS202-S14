{
 "metadata": {
  "name": "",
  "signature": "sha256:b45dea17be9bc8ac891bc73d31e196b111278bcabf352093444fda4c08caad2e"
 },
 "nbformat": 3,
 "nbformat_minor": 0,
 "worksheets": [
  {
   "cells": [
    {
     "cell_type": "heading",
     "level": 1,
     "metadata": {},
     "source": [
      "Integration Exercises"
     ]
    },
    {
     "cell_type": "code",
     "collapsed": false,
     "input": [
      "%pylab inline\n",
      "import numpy as np\n",
      "import matplotlib.pyplot as plt"
     ],
     "language": "python",
     "metadata": {},
     "outputs": [
      {
       "output_type": "stream",
       "stream": "stdout",
       "text": [
        "Populating the interactive namespace from numpy and matplotlib\n"
       ]
      }
     ],
     "prompt_number": 2
    },
    {
     "cell_type": "heading",
     "level": 2,
     "metadata": {},
     "source": [
      "Question 1"
     ]
    },
    {
     "cell_type": "markdown",
     "metadata": {},
     "source": [
      "(a) Write two functions trapz(func,x) and simps(func,x) to compute the integral of the function func over the variable x using the trapezoidal rule and Simpson's rule to a file called Integrators.py. Do not use the scipy.integrate built-in functions. Include docstrings with each function that describe what they do. Then import the module and use the functions to answer the following questions."
     ]
    },
    {
     "cell_type": "code",
     "collapsed": false,
     "input": [
      "%%file integrators.py\n",
      "import numpy as np\n",
      "import matplotlib.pyplot as plt\n",
      "def traps(func, a, b, N):\n",
      "    \"\"\"This takes a function and approximates the definite integral\n",
      "    from a to b by using N trapizodes\n",
      "    h is the width of each trapizode\"\"\"\n",
      "    h = (b-a)/N\n",
      "    k = np.arange(1,N)\n",
      "    I = h*(0.5*func(a) + 0.5*func(b) + func(a+k*h).sum())\n",
      "    #print \"Trap rule integral =\"\n",
      "    return I\n",
      "    \n",
      "    \n",
      "def simps(func, a, b, N):\n",
      "    \"\"\"This takes a function and approximates the definite integral\n",
      "    form a to b by using N quadratics\"\"\"\n",
      "    h = (b-a)/N\n",
      "    \n",
      "    k1 = np.arange(1,N/2+1)\n",
      "    K2 = np.arange(1,N/2)\n",
      "    I = (1./3.)*h*(func(a) +func(b) + 4.*func(a+(2*k1-1)*h).sum() + 2.*func(a+2*K2*h).sum())\n",
      "    #print \"simps rule integral =\"\n",
      "    return I"
     ],
     "language": "python",
     "metadata": {},
     "outputs": [
      {
       "output_type": "stream",
       "stream": "stdout",
       "text": [
        "Overwriting integrators.py\n"
       ]
      }
     ],
     "prompt_number": 62
    },
    {
     "cell_type": "markdown",
     "metadata": {},
     "source": [
      "(b) Use your trapz and simps functions from part (a) to calculate the integral of x4\u22122x+1 from x = 0 to x = 2 with N = 10, N = 100, and N = 1000. Then compare your result to the known correct value of 4.4. What is the percent error in each case?"
     ]
    },
    {
     "cell_type": "code",
     "collapsed": false,
     "input": [
      "import integrators as myint\n",
      "def fun(x):\n",
      "    return x**4 - 2*x + 1"
     ],
     "language": "python",
     "metadata": {},
     "outputs": [],
     "prompt_number": 4
    },
    {
     "cell_type": "code",
     "collapsed": false,
     "input": [
      "print 'Trap rule integral =', myint.traps(fun, 0., 2., 10)\n",
      "print 'simps rule integral =', myint.simps(fun, 0., 2., 10)\n",
      "print \"10 Traps % error =\", (myint.traps(fun, 0., 2., 10) - 4.4)/(myint.traps(fun, 0., 2., 10)) * 100\n",
      "print '10 Simps % error =', (myint.simps(fun, 0., 2., 10) - 4.4)/myint.simps(fun, 0., 2., 10) * 100\n",
      "\n",
      "print 'Trap rule integral =', myint.traps(fun, 0., 2., 100)\n",
      "print 'simps rule integral =', myint.simps(fun, 0., 2., 100)\n",
      "print \"100 Traps % error =\", (myint.traps(fun, 0., 2., 100) - 4.4)/(myint.traps(fun, 0., 2., 100)) * 100\n",
      "print '100 Simps % error =', (myint.simps(fun, 0., 2., 100) - 4.4)/myint.simps(fun, 0., 2., 100) * 100\n",
      "\n",
      "print 'Trap rule integral =', myint.traps(fun, 0., 2., 1000)\n",
      "print 'simps rule integral =', myint.simps(fun, 0., 2., 1000)\n",
      "print \"1000 Traps % error =\", (myint.traps(fun, 0., 2., 1000) - 4.4)/(myint.traps(fun, 0., 2., 1000)) * 100\n",
      "print '1000 Simps % error =', (myint.simps(fun, 0., 2., 1000) - 4.4)/myint.simps(fun, 0., 2., 1000) * 100\n"
     ],
     "language": "python",
     "metadata": {},
     "outputs": [
      {
       "output_type": "stream",
       "stream": "stdout",
       "text": [
        "Trap rule integral = 4.50656\n",
        "simps rule integral = 4.40042666667\n",
        "10 Traps % error = 2.36455300717\n",
        "10 Simps % error = 0.00969602947593\n",
        "Trap rule integral = 4.401066656\n",
        "simps rule integral = 4.40000004267\n",
        "100 Traps % error = 0.0242363064087\n",
        "100 Simps % error = 9.69696959783e-07\n",
        "Trap rule integral = 4.40001066667\n",
        "simps rule integral = 4.4\n",
        "1000 Traps % error = 0.000242423630481\n",
        "1000 Simps % error = 9.69729347326e-11\n"
       ]
      }
     ],
     "prompt_number": 5
    },
    {
     "cell_type": "heading",
     "level": 2,
     "metadata": {},
     "source": [
      "Question 2"
     ]
    },
    {
     "cell_type": "code",
     "collapsed": false,
     "input": [
      "import scipy.integrate as integrate\n",
      "func = lambda x: np.exp(-x**2)\n",
      "x = np.arange(0.,3.1, 0.1)\n",
      "print x\n",
      "result = integrate.cumtrapz(func(x), x, initial=0)\n",
      "print result"
     ],
     "language": "python",
     "metadata": {},
     "outputs": [
      {
       "output_type": "stream",
       "stream": "stdout",
       "text": [
        "[ 0.   0.1  0.2  0.3  0.4  0.5  0.6  0.7  0.8  0.9  1.   1.1  1.2  1.3  1.4\n",
        "  1.5  1.6  1.7  1.8  1.9  2.   2.1  2.2  2.3  2.4  2.5  2.6  2.7  2.8  2.9\n",
        "  3. ]\n",
        "[ 0.          0.09950249  0.19704446  0.29078049  0.37908424  0.46063146\n",
        "  0.53445532  0.59997046  0.6569664   0.70557392  0.7462108   0.77951463\n",
        "  0.80627088  0.82734325  0.84361215  0.85592503  0.86506023  0.87170427\n",
        "  0.87644128  0.87975207  0.88202044  0.88354398  0.88454709  0.88519453\n",
        "  0.88560418  0.88585826  0.88601274  0.88610482  0.88615862  0.88618943\n",
        "  0.88620673]\n"
       ]
      }
     ],
     "prompt_number": 6
    },
    {
     "cell_type": "markdown",
     "metadata": {},
     "source": [
      "(b) Plot the integrand as a function of t and E(x) as a function of x (both ranging from 0 to 3) on the same graph."
     ]
    },
    {
     "cell_type": "code",
     "collapsed": false,
     "input": [
      "plt.plot(x, func(x), label=\"e^((-x)^2))\")\n",
      "plt.plot(x, result, label='integral')\n",
      "plt.legend(loc ='center right')\n",
      "\n",
      "plt.show()"
     ],
     "language": "python",
     "metadata": {},
     "outputs": [
      {
       "metadata": {},
       "output_type": "display_data",
       "png": "[encoded data removed]",
       "text": [
        "<matplotlib.figure.Figure at 0x9f7d160>"
       ]
      }
     ],
     "prompt_number": 7
    },
    {
     "cell_type": "heading",
     "level": 2,
     "metadata": {},
     "source": [
      "Question 3"
     ]
    },
    {
     "cell_type": "markdown",
     "metadata": {},
     "source": [
      "(a) What is the probability of finding the particle between L/3 and L/2 for the ground state (n = 1) and for the first excited state (n = 2)? Let L = 1. Perform the integral using both scipy.integrate.trapz and scipy.integrate.quad with an accuracy of 6 sig figs. How many slices did you need to use for scipy.integrate.trapz?"
     ]
    },
    {
     "cell_type": "code",
     "collapsed": false,
     "input": [
      "def psi(x, n, L):\n",
      "    return sqrt(2/L)*np.sin(n*np.pi*x/L)\n",
      "x = linspace(1/3., 1/2., 37)\n",
      "def psi2(x, n, L):\n",
      "    return (2/L)*np.sin(n*np.pi*x/L)**2\n",
      "\n",
      "print \"traps, n=1\", integrate.trapz(psi2(x, 1, 1.), x)\n",
      "result, error = integrate.quad(psi2, 1/3., 1/2., args=(1,1))\n",
      "print \"actual, n=1\", result\n",
      "print \"percent differnece\", abs((integrate.trapz(psi2(x, 1, 1.), x)-result))\n",
      "print \"slices needed =\", len(x)"
     ],
     "language": "python",
     "metadata": {},
     "outputs": [
      {
       "output_type": "stream",
       "stream": "stdout",
       "text": [
        "traps, n=1 0.304489171381\n",
        "actual, n=1 0.304498890522\n",
        "percent differnece 9.71914086151e-06\n",
        "slices needed = 37\n"
       ]
      }
     ],
     "prompt_number": 8
    },
    {
     "cell_type": "code",
     "collapsed": false,
     "input": [
      "y = linspace(1/3., 1/2., 52)\n",
      "print \"traps, n=2\", integrate.trapz(psi2(y, 2, 1.), y)\n",
      "result, error = integrate.quad(psi2, 1/3., 1/2., args=(2,1))\n",
      "print \"actual, n=2\", result\n",
      "print \"percent differnece\", abs((integrate.trapz(psi2(y, 2, 1.), y)-result))\n",
      "print \"slices needed =\", len(y)"
     ],
     "language": "python",
     "metadata": {},
     "outputs": [
      {
       "output_type": "stream",
       "stream": "stdout",
       "text": [
        "traps, n=2 0.0977602403852\n",
        "actual, n=2 0.0977505547389\n",
        "percent differnece 9.6856462687e-06\n",
        "slices needed = 52\n"
       ]
      }
     ],
     "prompt_number": 9
    },
    {
     "cell_type": "markdown",
     "metadata": {},
     "source": [
      "(b) Make a plot of |\u03c8(x)|2 vs. x for the first two excited states with L=1."
     ]
    },
    {
     "cell_type": "code",
     "collapsed": false,
     "input": [
      "z = linspace(1/3., 1/2., 2)\n",
      "print \"traps, n=2\", integrate.trapz(psi2(z, 3, 1.), z)\n",
      "result, error = integrate.quad(psi2, 1/3., 1/2., args=(3,1))\n",
      "print \"actual, n=2\", result\n",
      "print \"percent differnece\", abs((integrate.trapz(psi2(z, 3, 1.), z)-result))\n",
      "print \"slices needed =\", len(z)"
     ],
     "language": "python",
     "metadata": {},
     "outputs": [
      {
       "output_type": "stream",
       "stream": "stdout",
       "text": [
        "traps, n=2 0.166666666667\n",
        "actual, n=2 0.166666666667\n",
        "percent differnece 1.11022302463e-16\n",
        "slices needed = 2\n"
       ]
      }
     ],
     "prompt_number": 10
    },
    {
     "cell_type": "code",
     "collapsed": false,
     "input": [
      "plt.plot(x, psi2(x,2,1), label='n=2')\n",
      "plt.plot(x, psi2(x,3,1), label='n=3')\n",
      "plt.title('$\\psi$^2 vs x', fontsize=20)\n",
      "plt.legend(loc='upper center')\n",
      "\n",
      "plt.show()"
     ],
     "language": "python",
     "metadata": {},
     "outputs": [
      {
       "metadata": {},
       "output_type": "display_data",
       "png": "[encoded data removed]",
       "text": [
        "<matplotlib.figure.Figure at 0xa0d6630>"
       ]
      }
     ],
     "prompt_number": 11
    },
    {
     "cell_type": "heading",
     "level": 2,
     "metadata": {},
     "source": [
      "Question 4"
     ]
    },
    {
     "cell_type": "markdown",
     "metadata": {},
     "source": [
      "(a) Use numerical integration to find M, r\u20d7 cm, and Icm. Note that you need M to compute r\u20d7 cm and r\u20d7 cm to compute Icm. The moments of inertia Icm are Ixx, Iyy, and Izz, where e.g. Ixx=\u222b((y\u2212ycm)2+(z\u2212zcm)2)\u03c1dV, etc.\n"
     ]
    },
    {
     "cell_type": "code",
     "collapsed": false,
     "input": [
      "rho = lambda z,y,x : 100*(y+0.1)+(100)*z**2\n",
      "xmin = -0.1\n",
      "xmax = 0.1\n",
      "ymin = lambda x : -0.1\n",
      "ymax = lambda x : 0.1\n",
      "zmin = lambda x,y: -0.5\n",
      "zmax = lambda x,y: 0.5\n",
      "M, e = integrate.tplquad(rho, -0.1, 0.1, ymin, ymax, zmin, zmax)\n",
      "print M"
     ],
     "language": "python",
     "metadata": {},
     "outputs": [
      {
       "output_type": "stream",
       "stream": "stdout",
       "text": [
        "0.733333333333\n"
       ]
      }
     ],
     "prompt_number": 29
    },
    {
     "cell_type": "code",
     "collapsed": false,
     "input": [
      "rhox = lambda z,y,x : (100*(y+0.1)+(100)*z**2)*x\n",
      "rhoy = lambda z,y,x : (100*(y+0.1)+(100)*z**2)*y\n",
      "rhoz = lambda z,y,x : (100*(y+0.1)+(100)*z**2)*z\n",
      "xcm, errx = integrate.tplquad(rhox,-0.1, 0.1, ymin, ymax, zmin, zmax)\n",
      "ycm, erry = integrate.tplquad(rhoy,-0.1, 0.1, ymin, ymax, zmin, zmax)\n",
      "zcm, errz = integrate.tplquad(rhoz,-0.1, 0.1, ymin, ymax, zmin, zmax)\n",
      "rcm = [xcm, ycm, zcm]\n",
      "print rcm"
     ],
     "language": "python",
     "metadata": {},
     "outputs": [
      {
       "output_type": "stream",
       "stream": "stdout",
       "text": [
        "[0.0, 0.013333333333333336, 0.0]\n"
       ]
      }
     ],
     "prompt_number": 36
    },
    {
     "cell_type": "code",
     "collapsed": false,
     "input": [
      "rx =  lambda z,y,x: ((y-ycm)**2 + (z-zcm)**2)*100*(y+0.1)+(100)*z**2\n",
      "ry =  lambda z,y,x: ((x-xcm)**2 + (z-zcm)**2)*100*(y+0.1)+(100)*z**2\n",
      "rz =  lambda z,y,x: ((y-ycm)**2 + (x-xcm)**2)*100*(y+0.1)+(100)*z**2\n",
      "Ixx, ex = integrate.tplquad(rx,-0.1, 0.1, ymin, ymax, zmin, zmax)\n",
      "Iyy, ex = integrate.tplquad(ry,-0.1, 0.1, ymin, ymax, zmin, zmax)\n",
      "Izz, ex = integrate.tplquad(rz,-0.1, 0.1, ymin, ymax, zmin, zmax)\n",
      "Icm = [Ixx, Iyy, Izz]\n",
      "print Icm"
     ],
     "language": "python",
     "metadata": {},
     "outputs": [
      {
       "output_type": "stream",
       "stream": "stdout",
       "text": [
        "[0.3677155555555556, 0.36800000000000005, 0.33571555555555554]\n"
       ]
      }
     ],
     "prompt_number": 37
    },
    {
     "cell_type": "code",
     "collapsed": false,
     "input": [
      "print M\n",
      "print rcm\n",
      "print Icm"
     ],
     "language": "python",
     "metadata": {},
     "outputs": [
      {
       "output_type": "stream",
       "stream": "stdout",
       "text": [
        "0.733333333333\n",
        "[0.0, 0.013333333333333336, 0.0]\n",
        "[0.3677155555555556, 0.36800000000000005, 0.33571555555555554]\n"
       ]
      }
     ],
     "prompt_number": 38
    },
    {
     "cell_type": "markdown",
     "metadata": {},
     "source": [
      "(b) The mass, center of mass, and moments of inertia can be easily computed analytically for a rectangular box of uniform density. (Compute them yourself or look them up). Verify your algorithm from part (a) works by having it compute the result for this test case. How accurate (how many sig figs?) is the numerical result?"
     ]
    },
    {
     "cell_type": "code",
     "collapsed": false,
     "input": [
      "x = 0.2\n",
      "y = 0.2\n",
      "z = 1\n",
      "\n",
      "Ix = 1/12.*M*(y**2+z**2)\n",
      "Iy = 1/12.*M*(x**2+z**2)\n",
      "Iz = 1/12.*M*(x**2+y**2)\n",
      "I = [Ix, Iy, Iz]\n",
      "\n",
      "print I"
     ],
     "language": "python",
     "metadata": {},
     "outputs": [
      {
       "output_type": "stream",
       "stream": "stdout",
       "text": [
        "[5.488888888888891e-05, 5.488888888888891e-05, 4.222222222222224e-06]\n"
       ]
      }
     ],
     "prompt_number": 61
    },
    {
     "cell_type": "code",
     "collapsed": false,
     "input": [],
     "language": "python",
     "metadata": {},
     "outputs": [],
     "prompt_number": 52
    },
    {
     "cell_type": "markdown",
     "metadata": {},
     "source": [
      "(c) Finally, change the density function to something of your choosing (different from that used in parts (a) and (b)) and recompute M, r\u20d7 cm and Icm for that case."
     ]
    },
    {
     "cell_type": "code",
     "collapsed": false,
     "input": [
      "rho = lambda z,y,x : x**(2.)+y**(3.)+z**(4.)\n",
      "xmin = -0.1\n",
      "xmax = 0.1\n",
      "ymin = lambda x : -0.1\n",
      "ymax = lambda x : 0.1\n",
      "zmin = lambda x,y: -0.5\n",
      "zmax = lambda x,y: 0.5\n",
      "M, e = integrate.tplquad(rho, -0.1, 0.1, ymin, ymax, zmin, zmax)\n",
      "print M"
     ],
     "language": "python",
     "metadata": {},
     "outputs": [
      {
       "output_type": "stream",
       "stream": "stdout",
       "text": [
        "0.000633333333333\n"
       ]
      }
     ],
     "prompt_number": 56
    },
    {
     "cell_type": "code",
     "collapsed": false,
     "input": [
      "rhox = lambda z,y,x : (x**(2.)+y**(3.)+z**(4.))*x\n",
      "rhoy = lambda z,y,x : (x**(2.)+y**(3.)+z**(4.))*y\n",
      "rhoz = lambda z,y,x : (x**(2.)+y**(3.)+z**(4.))*z\n",
      "xcm, errx = integrate.tplquad(rhox,-0.1, 0.1, ymin, ymax, zmin, zmax)\n",
      "ycm, erry = integrate.tplquad(rhoy,-0.1, 0.1, ymin, ymax, zmin, zmax)\n",
      "zcm, errz = integrate.tplquad(rhoz,-0.1, 0.1, ymin, ymax, zmin, zmax)\n",
      "rcm = [xcm, ycm, zcm]\n",
      "print rcm"
     ],
     "language": "python",
     "metadata": {},
     "outputs": [
      {
       "output_type": "stream",
       "stream": "stdout",
       "text": [
        "[0.0, 8.000000000000002e-07, 0.0]\n"
       ]
      }
     ],
     "prompt_number": 57
    },
    {
     "cell_type": "code",
     "collapsed": false,
     "input": [
      "rx =  lambda z,y,x: ((y-ycm)**2 + (z-zcm)**2)*x**(2.)+y**(3.)+z**(4.)\n",
      "ry =  lambda z,y,x: ((x-xcm)**2 + (z-zcm)**2)*x**(2.)+y**(3.)+z**(4.)\n",
      "rz =  lambda z,y,x: ((y-ycm)**2 + (x-xcm)**2)*x**(2.)+y**(3.)+z**(4.)\n",
      "Ixx, ex = integrate.tplquad(rx,-0.1, 0.1, ymin, ymax, zmin, zmax)\n",
      "Iyy, ex = integrate.tplquad(ry,-0.1, 0.1, ymin, ymax, zmin, zmax)\n",
      "Izz, ex = integrate.tplquad(rz,-0.1, 0.1, ymin, ymax, zmin, zmax)\n",
      "Icm = [Ixx, Iyy, Izz]\n",
      "print Icm"
     ],
     "language": "python",
     "metadata": {},
     "outputs": [
      {
       "output_type": "stream",
       "stream": "stdout",
       "text": [
        "[0.000511555555555641, 0.0005119111111111113, 0.0005012444444445299]\n"
       ]
      }
     ],
     "prompt_number": 58
    },
    {
     "cell_type": "code",
     "collapsed": false,
     "input": [],
     "language": "python",
     "metadata": {},
     "outputs": []
    }
   ],
   "metadata": {}
  }
 ]
}