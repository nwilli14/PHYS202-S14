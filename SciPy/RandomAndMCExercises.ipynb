{
 "metadata": {
  "name": "",
  "signature": "sha256:b7984b389ce76514739416f1ef80b1271dce45de02cb0f96ce0058136d56eefe"
 },
 "nbformat": 3,
 "nbformat_minor": 0,
 "worksheets": [
  {
   "cells": [
    {
     "cell_type": "heading",
     "level": 1,
     "metadata": {},
     "source": [
      "Random Numbers, Monte Carlo Sampling and Simulation Exercises"
     ]
    },
    {
     "cell_type": "code",
     "collapsed": false,
     "input": [
      "%pylab inline"
     ],
     "language": "python",
     "metadata": {},
     "outputs": [
      {
       "output_type": "stream",
       "stream": "stdout",
       "text": [
        "Populating the interactive namespace from numpy and matplotlib\n"
       ]
      }
     ],
     "prompt_number": 1
    },
    {
     "cell_type": "code",
     "collapsed": false,
     "input": [
      "def CDFviewer(xmax = 0.95):\n",
      "\n",
      "    #Plot the full function first\n",
      "    x = np.arange(0.,np.pi+0.001,0.01)\n",
      "    f = lambda x: alpha*beta**-alpha*x**(alpha-1)*exp**-(x/beta)**a\n",
      "    plt.plot(x,f(x),label='True distribution',lw=3)\n",
      "\n",
      "    #Now show the CDF up to the xmax limit\n",
      "    xcdf = np.arange(0.,xmax+0.001,0.01)\n",
      "    F = lambda x: (np.cos(0)-np.cos(x))/2.\n",
      "    plt.plot(xcdf,F(xcdf),label='Cumulative function',lw=3)\n",
      "\n",
      "    plt.plot((xmax,xmax),(0.,f(xmax)),\"b--\")\n",
      "    plt.fill_between(xcdf,0.,f(xcdf),alpha=0.1)\n",
      "    \n",
      "    #Use trapz with the true distribution as a comparison, but only integrate\n",
      "    #up to xmax\n",
      "    total = trapz(f(x),x)\n",
      "    area = trapz(f(xcdf),xcdf)\n",
      "    frac = area/total\n",
      "    \n",
      "    plt.text(2.0,0.6,\"CDF value = %.3f\"%F(xmax),fontsize=12)\n",
      "    plt.text(2.0,0.5,\"Shaded area = %.3f\"%frac,fontsize=12)\n",
      "    \n",
      "    plt.xlim(0,3.5)\n",
      "    plt.ylim(0,1.1)\n",
      "\n",
      "    plt.legend(loc=\"upper left\")\n",
      "    plt.show()"
     ],
     "language": "python",
     "metadata": {},
     "outputs": []
    }
   ],
   "metadata": {}
  }
 ]
}