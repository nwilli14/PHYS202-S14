{
 "metadata": {
  "name": "",
  "signature": "sha256:d1dc310709ec1765c50ae40d3346d23693d2c552510903628e16c0adf1f70c04"
 },
 "nbformat": 3,
 "nbformat_minor": 0,
 "worksheets": [
  {
   "cells": [
    {
     "cell_type": "heading",
     "level": 1,
     "metadata": {},
     "source": [
      "Monte Carlo integration Exercises"
     ]
    },
    {
     "cell_type": "code",
     "collapsed": false,
     "input": [
      "%pylab inline\n",
      "import numpy as np\n",
      "import matplotlib.pyplot as plt"
     ],
     "language": "python",
     "metadata": {},
     "outputs": [
      {
       "output_type": "stream",
       "stream": "stdout",
       "text": [
        "Populating the interactive namespace from numpy and matplotlib\n"
       ]
      }
     ],
     "prompt_number": 1
    },
    {
     "cell_type": "heading",
     "level": 2,
     "metadata": {},
     "source": [
      "Question 1"
     ]
    },
    {
     "cell_type": "markdown",
     "metadata": {},
     "source": [
      "Let\u2019s compute the electric potential from a plane of charge as shown in the figure using Monte Carlo integration."
     ]
    },
    {
     "cell_type": "markdown",
     "metadata": {},
     "source": [
      "The integral comes from summing all the potentials from the chunks of \u201cpoint\u201d charges. Just as we summed two charges for a dipole, now we\u2019ll sum many charges. The important part is to understand how dQ, modeled as a point charge, is related to \u03c3dA, where \u03c3 is the surface charge density = charge/area (\u03c3=Q/A ) Review your notes from PHYS 133 if you need a refresher.\n",
      "We want to use our previously defined pointPotential() function from Electrostatics.py, so we have to import it."
     ]
    },
    {
     "cell_type": "code",
     "collapsed": false,
     "input": [
      "from Electrostatics import *"
     ],
     "language": "python",
     "metadata": {},
     "outputs": [],
     "prompt_number": 2
    },
    {
     "cell_type": "code",
     "collapsed": false,
     "input": [
      "from IPython.html.widgets import interact, interactive"
     ],
     "language": "python",
     "metadata": {},
     "outputs": [],
     "prompt_number": 4
    },
    {
     "cell_type": "code",
     "collapsed": false,
     "input": [
      "def sampleMean(N=10000,xmin=-1,xmax=1,ymin=0,ymax=2):\n",
      "\n",
      "    #Set up the function\n",
      "    x = np.arange(-1.,1.,0.001)\n",
      "    y = np.arange(0.,2.,0.001)\n",
      "    q = (1*10**-6)*(0.001*0.001)\n",
      "    f = pointPotential(2 ,3, q, x, y)\n",
      "    #Iana = lambda x: (2./3.)*x**(3./2.) - np.cos(x)\n",
      "    #Iexact = Iana(xmax)-Iana(xmin)\n",
      "\n",
      "    ##########################################################\n",
      "    #Here's the integration part:\n",
      "    samples_x = xmin + (xmax-xmin)*np.random.random_sample(N);\n",
      "    samples_y = ymin + (ymax-ymin)*np.random.random_sample(N);\n",
      "    \n",
      "    \n",
      "    approx = pointPotential(2,3,q,samples_x,samples_y)\n",
      "    I = approx.mean()*(xmax-xmin)*(ymax-ymin)\n",
      "    \n",
      "\n",
      "    #Numerical uncertainty\n",
      "    Iunc = (xmax-xmin)*np.sqrt( ((approx**2).mean()-(approx.mean())**2)/N )\n",
      "\n",
      "\n",
      "    print \"I_samplemean =\", I, \" +/- \",Iunc\n",
      "    \n",
      "\n",
      "    \n",
      "    \n",
      "sampleMean(N=10)\n",
      "sampleMean(N=100)\n",
      "sampleMean(N=1000)\n",
      "sampleMean(N=10000)\n",
      "sampleMean(N=100000)\n",
      "sampleMean(N=1000000)"
     ],
     "language": "python",
     "metadata": {},
     "outputs": [
      {
       "output_type": "stream",
       "stream": "stdout",
       "text": [
        "I_samplemean = 0.0126166310814  +/-  0.000588497436495\n",
        "I_samplemean = 0.0127109748485  +/-  0.000139202555851\n",
        "I_samplemean = 0.0128901730481  +/-  4.50135370599e-05\n",
        "I_samplemean = 0.0130094195033  +/-  1.47421038089e-05\n",
        "I_samplemean = 0.013013045539  +/-  4.67152348168e-06\n",
        "I_samplemean ="
       ]
      },
      {
       "output_type": "stream",
       "stream": "stdout",
       "text": [
        " 0.0130304045018  +/-  1.48684398101e-06\n"
       ]
      }
     ],
     "prompt_number": 5
    },
    {
     "cell_type": "code",
     "collapsed": false,
     "input": [
      "def sampleMean(N=10000,xmin=-1,xmax=1,ymin=0,ymax=2):\n",
      "\n",
      "    #Set up the function\n",
      "    x = np.arange(-1.,1.,0.001)\n",
      "    y = np.arange(0.,2.,0.001)\n",
      "    q = (1*10**-6)*(0.001*0.001)\n",
      "    f = pointPotential(2 ,3, q, x, y)\n",
      "    #Iana = lambda x: (2./3.)*x**(3./2.) - np.cos(x)\n",
      "    #Iexact = Iana(xmax)-Iana(xmin)\n",
      "\n",
      "    ##########################################################\n",
      "    #Here's the integration part:\n",
      "    samples_x = xmin + (xmax-xmin)*np.random.random_sample(N);\n",
      "    samples_y = ymin + (ymax-ymin)*np.random.random_sample(N);\n",
      "    \n",
      "    \n",
      "    approx = pointPotential(2,3,q,samples_x,samples_y)\n",
      "    I = approx.mean()*(xmax-xmin)*(ymax-ymin)\n",
      "    \n",
      "\n",
      "    #Numerical uncertainty\n",
      "    Iunc = (xmax-xmin)*np.sqrt( ((approx**2).mean()-(approx.mean())**2)/N )\n",
      "\n",
      "\n",
      "    print \"I_samplemean =\", I, \" +/- \",Iunc\n",
      "    \n",
      "\n",
      "    \n",
      "    \n",
      "print sampleMean(N=10)\n",
      "print sampleMean(N=100)\n",
      "print sampleMean(N=1000)\n",
      "print sampleMean(N=10000)\n",
      "print sampleMean(N=100000)\n",
      "print sampleMean(N=1000000)"
     ],
     "language": "python",
     "metadata": {},
     "outputs": [
      {
       "output_type": "stream",
       "stream": "stdout",
       "text": [
        "I_samplemean = 0.0142955602893  +/-  0.000587853996185\n",
        "None\n",
        "I_samplemean = 0.0134675831939  +/-  0.000167956668408\n",
        "None\n",
        "I_samplemean = 0.013117405656  +/-  4.97209959673e-05\n",
        "None\n",
        "I_samplemean = 0.0129858856177  +/-  1.47045901919e-05\n",
        "None\n",
        "I_samplemean = 0.0130292191408  +/-  4.71144724845e-06\n",
        "None\n",
        "I_samplemean ="
       ]
      },
      {
       "output_type": "stream",
       "stream": "stdout",
       "text": [
        " 0.0130265386117  +/-  1.48665519065e-06\n",
        "None\n"
       ]
      }
     ],
     "prompt_number": 5
    },
    {
     "cell_type": "code",
     "collapsed": false,
     "input": [],
     "language": "python",
     "metadata": {},
     "outputs": [],
     "prompt_number": 5
    },
    {
     "cell_type": "heading",
     "level": 2,
     "metadata": {},
     "source": [
      "Question 2"
     ]
    },
    {
     "cell_type": "markdown",
     "metadata": {},
     "source": [
      "Use the sample mean method to compute the volume of a sphere with radius 1 using spherical coordinates:\n",
      "V=\u222b10\u222b\u03c00\u222b2\u03c00r2sin(\u03b8)drd\u03b8d\u03d5\n",
      "for N=(101,102,103,104,105,106). Report the value and statistical uncertainty for each sample size. How does the result depend on N?"
     ]
    },
    {
     "cell_type": "code",
     "collapsed": false,
     "input": [
      "def sphere_vol(N,rmin=0,rmax=1,theta_min=0,theta_max=np.pi,phi_min=0,phi_max=2*np.pi):\n",
      "    #set up the function\n",
      "    f = lambda r, theta, phi: r**2*np.sin(theta)\n",
      "    \n",
      "    #integration\n",
      "    r= (rmax-rmin)*np.random.random_sample(N)\n",
      "    theta = (theta_max-theta_min)*np.random.random_sample(N)\n",
      "    phi = (phi_max-phi_min)*np.random.random_sample(N)\n",
      "    \n",
      "    approx = theta_max*phi_max*f(r, theta, phi)\n",
      "    I = approx.mean()\n",
      "    \n",
      "    err = (rmax)*(theta_max)*(phi_max)*np.sqrt(((f(r,theta,phi)**2).mean() - (f(r,theta,phi).mean())**2)/N)\n",
      "    print \"I =\", I, \"+/-\", err, \"N=\", N\n",
      "    \n",
      "sphere_vol(10) \n",
      "sphere_vol(100)\n",
      "sphere_vol(1000) \n",
      "sphere_vol(10000)\n",
      "sphere_vol(100000) \n",
      "sphere_vol(1000000) "
     ],
     "language": "python",
     "metadata": {},
     "outputs": [
      {
       "output_type": "stream",
       "stream": "stdout",
       "text": [
        "I = 2.23134688674 +/- 0.646287234319 N= 10\n",
        "I = 3.51040713416 +/- 0.434453348784 N= 100\n",
        "I = 4.3398912934 +/- 0.150729416272 N= 1000\n",
        "I = 4.18910563289 +/- 0.0464547291903 N= 10000\n",
        "I = 4.19882180336 +/- 0.0146107287787 N= 100000\n",
        "I ="
       ]
      },
      {
       "output_type": "stream",
       "stream": "stdout",
       "text": [
        " 4.19137794476 +/- 0.00462792857849 N= 1000000\n"
       ]
      }
     ],
     "prompt_number": 6
    },
    {
     "cell_type": "heading",
     "level": 2,
     "metadata": {},
     "source": [
      "Question 3"
     ]
    },
    {
     "cell_type": "markdown",
     "metadata": {},
     "source": [
      "(a) Use the hit or miss Monte Carlo method to estimate the integral of f(x)=41\u2212x2\u2212\u2212\u2212\u2212\u2212\u221a in the interval 0\u2264x\u22641 as a function of N, the number of samples. Let N range from 101 to 106 and use at least 100 different values for N.\n",
      "(np.logspace might be useful here to get evenly spaced values for N.)\n"
     ]
    },
    {
     "cell_type": "code",
     "collapsed": false,
     "input": [
      "def hitOrMiss(N=10, xmin=0,xmax=1):\n",
      "    f = lambda x: 4*sqrt(1-x**2)\n",
      "    x = np.arange(-1.,2.,0.001)\n",
      "    \n",
      "    \n",
      "    subx = x[logical_and((x>xmin),(x<xmax))]\n",
      "    print subx\n",
      "    ymax = f(subx).max()*1.05\n",
      "    ymin= 0.\n",
      "    \n",
      "    for n in np.logspace(10,1000000):\n",
      "        #integration\n",
      "        x = (xmax-xmin)*np.random.random_sample(n)\n",
      "        y = (ymax-ymin)*np.random.random_sample(n)\n",
      "    \n",
      "        newmask = (y < f(x))\n",
      "        I = (xmax)*ymax*newmax.sum()/newmask.size\n",
      "        print \"I=\", I, \"for N=\", n\n",
      "hitOrMiss()"
     ],
     "language": "python",
     "metadata": {},
     "outputs": []
    },
    {
     "cell_type": "code",
     "collapsed": false,
     "input": [],
     "language": "python",
     "metadata": {},
     "outputs": []
    },
    {
     "cell_type": "code",
     "collapsed": false,
     "input": [],
     "language": "python",
     "metadata": {},
     "outputs": []
    }
   ],
   "metadata": {}
  }
 ]
}