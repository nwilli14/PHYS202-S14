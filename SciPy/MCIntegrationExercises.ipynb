{
 "metadata": {
  "name": "",
  "signature": "sha256:9619a5e1d793c38420e456cabaa6fbac49642163016d2158b7f8343020ad14d2"
 },
 "nbformat": 3,
 "nbformat_minor": 0,
 "worksheets": [
  {
   "cells": [
    {
     "cell_type": "heading",
     "level": 1,
     "metadata": {},
     "source": [
      "Monte Carlo integration Exercises"
     ]
    },
    {
     "cell_type": "code",
     "collapsed": false,
     "input": [
      "%pylab inline\n",
      "import numpy as np\n",
      "import matplotlib.pyplot as plt"
     ],
     "language": "python",
     "metadata": {},
     "outputs": [
      {
       "output_type": "stream",
       "stream": "stdout",
       "text": [
        "Populating the interactive namespace from numpy and matplotlib\n"
       ]
      }
     ],
     "prompt_number": 1
    },
    {
     "cell_type": "heading",
     "level": 2,
     "metadata": {},
     "source": [
      "Question 1"
     ]
    },
    {
     "cell_type": "markdown",
     "metadata": {},
     "source": [
      "Let\u2019s compute the electric potential from a plane of charge as shown in the figure using Monte Carlo integration."
     ]
    },
    {
     "cell_type": "markdown",
     "metadata": {},
     "source": [
      "The integral comes from summing all the potentials from the chunks of \u201cpoint\u201d charges. Just as we summed two charges for a dipole, now we\u2019ll sum many charges. The important part is to understand how dQ, modeled as a point charge, is related to \u03c3dA, where \u03c3 is the surface charge density = charge/area (\u03c3=Q/A ) Review your notes from PHYS 133 if you need a refresher.\n",
      "We want to use our previously defined pointPotential() function from Electrostatics.py, so we have to import it."
     ]
    },
    {
     "cell_type": "code",
     "collapsed": false,
     "input": [
      "from Electrostatics import *"
     ],
     "language": "python",
     "metadata": {},
     "outputs": [],
     "prompt_number": 2
    },
    {
     "cell_type": "code",
     "collapsed": false,
     "input": [
      "from IPython.html.widgets import interact, interactive"
     ],
     "language": "python",
     "metadata": {},
     "outputs": [],
     "prompt_number": 3
    },
    {
     "cell_type": "markdown",
     "metadata": {},
     "source": [
      "(a) Use the sample mean method to compute the potential at point P(2,3) due to the disk of charge for different numbers of samples N=(101,102,103,104,105,106). Report the value and its statistical uncertainty for each sample size. How does the result depend on N?"
     ]
    },
    {
     "cell_type": "code",
     "collapsed": false,
     "input": [
      "def sampleMean(N=10000,xmin=-1,xmax=1,ymin=0,ymax=2):\n",
      "\n",
      "    #Set up the function\n",
      "    q = 1e-6\n",
      "   \n",
      "\n",
      "    ##########################################################\n",
      "    #Here's the integration part:\n",
      "    samples_x = xmin + (xmax-xmin)*np.random.random_sample(N);\n",
      "    samples_y = ymin + (ymax-ymin)*np.random.random_sample(N);\n",
      "    \n",
      "    \n",
      "    approx = pointPotential(2,3,q,samples_x,samples_y)\n",
      "    I = approx.mean()*(xmax-xmin)*(ymax-ymin)\n",
      "    \n",
      "\n",
      "    #Numerical uncertainty\n",
      "    Iunc = (xmax-xmin)*np.sqrt( ((approx**2).mean()-(approx.mean())**2)/N )\n",
      "\n",
      "\n",
      "    print \"I_samplemean =\", I, \" +/- \",Iunc, \"N=\", N\n",
      "    \n",
      "\n",
      "    \n",
      "    \n",
      "sampleMean(N=10)\n",
      "sampleMean(N=100)\n",
      "sampleMean(N=1000)\n",
      "sampleMean(N=10000)\n",
      "sampleMean(N=100000)\n",
      "sampleMean(N=1000000)"
     ],
     "language": "python",
     "metadata": {},
     "outputs": [
      {
       "output_type": "stream",
       "stream": "stdout",
       "text": [
        "I_samplemean = 11821.0851182  +/-  336.386744229 N= 10\n",
        "I_samplemean = 13145.5600284  +/-  132.974936053 N= 100\n",
        "I_samplemean = 13033.3341879  +/-  48.1027516352 N= 1000\n",
        "I_samplemean = 13026.5853889  +/-  14.8551859276 N= 10000\n",
        "I_samplemean = 13012.9668868  +/-  4.69202445494 N= 100000\n",
        "I_samplemean ="
       ]
      },
      {
       "output_type": "stream",
       "stream": "stdout",
       "text": [
        " 13030.2182785  +/-  1.48605381394 N= 1000000\n"
       ]
      }
     ],
     "prompt_number": 4
    },
    {
     "cell_type": "markdown",
     "metadata": {},
     "source": [
      "(b) Now use the same method to compute the electric potential, V, at point P(2,3), from a disk centered on the origin with radius, R=1.2 m, and charge density, \u03c3 = 2 nC/m2 .\n"
     ]
    },
    {
     "cell_type": "code",
     "collapsed": false,
     "input": [
      "def sampleMean2(N=10000,rmin=0.,rmax=1.2,theta_min=0,theta_max=2*np.pi):\n",
      "\n",
      "    #Set up the function\n",
      "    \n",
      "    sig = 2e-9\n",
      "    k = 9e9\n",
      "    r0 = sqrt(13)\n",
      "    f = lambda r, theta: k*sig/abs(r-r0)*r\n",
      "\n",
      "    ##########################################################\n",
      "    #Here's the integration part:\n",
      "    samples_r = (rmax)*np.random.random_sample(N)\n",
      "    samples_theta = theta_max*np.random.random_sample(N)\n",
      "    \n",
      "    approx = f(samples_r,samples_theta)\n",
      "    I = approx.mean()*(rmax)*(theta_max)\n",
      "    \n",
      "\n",
      "    #Numerical uncertainty\n",
      "    Iunc = (rmax)*(theta_max)*np.sqrt( ((approx**2).mean()-(approx.mean())**2)/N )\n",
      "\n",
      "\n",
      "    print \"I_samplemean =\", I, \" +/- \",Iunc, \"N=\", N\n",
      "    \n",
      "\n",
      "    \n",
      "    \n",
      "sampleMean2(N=10)\n",
      "sampleMean2(N=100)\n",
      "sampleMean2(N=1000)\n",
      "sampleMean2(N=10000)\n",
      "sampleMean2(N=100000)\n",
      "sampleMean2(N=1000000)"
     ],
     "language": "python",
     "metadata": {},
     "outputs": [
      {
       "output_type": "stream",
       "stream": "stdout",
       "text": [
        "I_samplemean = 34.1722344882  +/-  5.75503437077 N= 10\n",
        "I_samplemean = 28.3178460016  +/-  1.88709398349 N= 100\n",
        "I_samplemean = 29.3720324914  +/-  0.59640497175 N= 1000\n",
        "I_samplemean = 29.5072600841  +/-  0.193106986748 N= 10000\n",
        "I_samplemean = 29.2134458848  +/-  0.061020793017 N= 100000\n",
        "I_samplemean ="
       ]
      },
      {
       "output_type": "stream",
       "stream": "stdout",
       "text": [
        " 29.2838550424  +/-  0.0193379302625 N= 1000000\n"
       ]
      }
     ],
     "prompt_number": 17
    },
    {
     "cell_type": "code",
     "collapsed": false,
     "input": [],
     "language": "python",
     "metadata": {},
     "outputs": [],
     "prompt_number": 5
    },
    {
     "cell_type": "heading",
     "level": 2,
     "metadata": {},
     "source": [
      "Question 2"
     ]
    },
    {
     "cell_type": "markdown",
     "metadata": {},
     "source": [
      "Use the sample mean method to compute the volume of a sphere with radius 1 using spherical coordinates:\n",
      "V=\u222b10\u222b\u03c00\u222b2\u03c00r2sin(\u03b8)drd\u03b8d\u03d5\n",
      "for N=(101,102,103,104,105,106). Report the value and statistical uncertainty for each sample size. How does the result depend on N?"
     ]
    },
    {
     "cell_type": "code",
     "collapsed": false,
     "input": [
      "def sphere_vol(N,rmin=0,rmax=1,theta_min=0,theta_max=np.pi,phi_min=0,phi_max=2*np.pi):\n",
      "    #set up the function\n",
      "    f = lambda r, theta, phi: r**2*np.sin(theta)\n",
      "    \n",
      "    #integration\n",
      "    r= (rmax-rmin)*np.random.random_sample(N)\n",
      "    theta = (theta_max-theta_min)*np.random.random_sample(N)\n",
      "    phi = (phi_max-phi_min)*np.random.random_sample(N)\n",
      "    \n",
      "    approx = theta_max*phi_max*f(r, theta, phi)\n",
      "    I = approx.mean()\n",
      "    \n",
      "    err = (rmax)*(theta_max)*(phi_max)*np.sqrt(((f(r,theta,phi)**2).mean() - (f(r,theta,phi).mean())**2)/N)\n",
      "    print \"I =\", I, \"+/-\", err, \"N=\", N\n",
      "    \n",
      "sphere_vol(10) \n",
      "sphere_vol(100)\n",
      "sphere_vol(1000) \n",
      "sphere_vol(10000)\n",
      "sphere_vol(100000) \n",
      "sphere_vol(1000000) "
     ],
     "language": "python",
     "metadata": {},
     "outputs": [
      {
       "output_type": "stream",
       "stream": "stdout",
       "text": [
        "I = 7.75629623715 +/- 1.69813426348 N= 10\n",
        "I = 4.40314794632 +/- 0.492405439583 N= 100\n",
        "I = 4.33177706752 +/- 0.146736884661 N= 1000\n",
        "I = 4.21475083262 +/- 0.0467933939887 N= 10000\n",
        "I = 4.20720098951 +/- 0.0146533119703 N= 100000\n",
        "I ="
       ]
      },
      {
       "output_type": "stream",
       "stream": "stdout",
       "text": [
        " 4.18388098209 +/- 0.00462722983351 N= 1000000\n"
       ]
      }
     ],
     "prompt_number": 6
    },
    {
     "cell_type": "heading",
     "level": 2,
     "metadata": {},
     "source": [
      "Question 3"
     ]
    },
    {
     "cell_type": "markdown",
     "metadata": {},
     "source": [
      "(a) Use the hit or miss Monte Carlo method to estimate the integral of f(x)=41\u2212x2\u2212\u2212\u2212\u2212\u2212\u221a in the interval 0\u2264x\u22641 as a function of N, the number of samples. Let N range from 101 to 106 and use at least 100 different values for N.\n",
      "(np.logspace might be useful here to get evenly spaced values for N.)\n"
     ]
    },
    {
     "cell_type": "code",
     "collapsed": false,
     "input": [
      "def hitOrMiss(N=10, xmin=0,xmax=1):\n",
      "    f = lambda x: 4*sqrt(1-x**2)\n",
      "    x = np.arange(-1.,2.,0.001)\n",
      "    \n",
      "    \n",
      "    subx = x[logical_and((x>xmin),(x<xmax))]\n",
      "    ymax = f(subx).max()*1.05\n",
      "    ymin= 0.\n",
      "    \n",
      "    for n in np.logspace(1,6,6):\n",
      "        #integration\n",
      "        x = (xmax-xmin)*np.random.random_sample(n)\n",
      "        y = (ymax-ymin)*np.random.random_sample(n)\n",
      "    \n",
      "        newmask = (y < f(x))\n",
      "        I = (xmax)*ymax*newmask.sum()/newmask.size\n",
      "        print \"I=\", I, \"for N=\", n\n",
      "hitOrMiss()"
     ],
     "language": "python",
     "metadata": {},
     "outputs": [
      {
       "output_type": "stream",
       "stream": "stdout",
       "text": [
        "I= 3.78 for N= 10.0\n",
        "I= 3.024 for N= 100.0\n",
        "I= 3.1542 for N= 1000.0\n",
        "I= 3.12564 for N= 10000.0\n",
        "I= 3.146724 for N= 100000.0\n",
        "I="
       ]
      },
      {
       "output_type": "stream",
       "stream": "stdout",
       "text": [
        " 3.1417512 for N= 1000000.0\n"
       ]
      }
     ],
     "prompt_number": 7
    },
    {
     "cell_type": "markdown",
     "metadata": {},
     "source": [
      "(b) Calculate the percent error for the N values from part (a) using the exact result \u03c0. Make a log-log plot of the error as a function of N.\n",
      "What is the approximate functional dependence of the error on N for large N, for example N\u2265104?"
     ]
    },
    {
     "cell_type": "code",
     "collapsed": false,
     "input": [
      "def hitOrMiss(N=10, xmin=0,xmax=1):\n",
      "    f = lambda x: 4*sqrt(1-x**2)\n",
      "    x = np.arange(-1.,2.,0.001)\n",
      "    Iexact = np.pi\n",
      "    \n",
      "    subx = x[logical_and((x>xmin),(x<xmax))]\n",
      "    ymax = f(subx).max()*1.05\n",
      "    ymin= 0.\n",
      "    Narr = []\n",
      "    Ierror = []\n",
      "    for n in np.logspace(1,6,100):\n",
      "        #integration\n",
      "        x = (xmax-xmin)*np.random.random_sample(n)\n",
      "        y = (ymax-ymin)*np.random.random_sample(n)\n",
      "    \n",
      "        newmask = (y < f(x))\n",
      "        I = (xmax)*ymax*newmask.sum()/newmask.size\n",
      "        Ierr = 100*np.abs(Iexact-I)/Iexact\n",
      "        #print \"I=\", I, \"Error on I=\", Ierr,\"%\", \"for N=\", n\n",
      "        Ierror.append(Ierr)\n",
      "        Narr.append(n)\n",
      "        #plot\n",
      "    plt.plot(Narr, Ierror, 'o')\n",
      "    plt.ylabel(\"Error\")\n",
      "    plt.xlabel(\"Number of cells\")\n",
      "    plt.yscale('log')\n",
      "    plt.xscale('log')\n",
      "    plt.grid()\n",
      "    plt.show()\n",
      "hitOrMiss()"
     ],
     "language": "python",
     "metadata": {},
     "outputs": [
      {
       "metadata": {},
       "output_type": "display_data",
       "png": "[encoded data removed]",
       "text": [
        "<matplotlib.figure.Figure at 0x3d7c940>"
       ]
      }
     ],
     "prompt_number": 8
    },
    {
     "cell_type": "markdown",
     "metadata": {},
     "source": [
      "What is the approximate functional dependence of the error on N for large N, for example N\u2265104?"
     ]
    },
    {
     "cell_type": "markdown",
     "metadata": {},
     "source": [
      "The dependence is approximately linear, and changes by a factor of 10 for every factor of 10 you increase the number of cells by "
     ]
    },
    {
     "cell_type": "markdown",
     "metadata": {},
     "source": [
      "(c) Estimate the same integral using the sample mean method and compute the statistical uncertainty and error as a function of the number of samples N for N\u2265104. Use at least 100 different values for N.\n",
      "Make a log-log plot of both the statistical uncertainty and the error as a function of N.\n",
      "How many samples are needed to determine the result to two decimal places? What is the approximate functional dependence of the error on N for large N?"
     ]
    },
    {
     "cell_type": "code",
     "collapsed": false,
     "input": [
      "def s_mean(N, xmin=0,xmax=1):\n",
      "    #set up the function\n",
      "    f = lambda x: 4*sqrt(1-x**2)\n",
      "    Narr = []\n",
      "    Ierr = []\n",
      "    uncer = []\n",
      "    Iexact = np.pi\n",
      "    #integration\n",
      "    for i in N:\n",
      "        x= (xmax-xmin)*np.random.random_sample(i)\n",
      "    \n",
      "    \n",
      "        approx = xmax*f(x)\n",
      "        I = approx.mean()\n",
      "        \n",
      "        err = 100*np.abs(Iexact-I)/Iexact\n",
      "        uncert = (xmax)*np.sqrt(((f(x)**2).mean() - (f(x).mean())**2)/i)\n",
      "        Narr.append(i)\n",
      "        Ierr.append(err)\n",
      "        uncer.append(uncert)\n",
      "    #print \"I =\", I, \"+/-\", err, \"N=\", N\n",
      "    \n",
      "    plt.plot(Narr, Ierr, 'bo', label=\"Error\")\n",
      "    plt.plot(Narr, uncer, 'ro', label='uncertainty')\n",
      "    plt.ylabel(\"Error\")\n",
      "    plt.xlabel(\"Number of cells\")\n",
      "    plt.yscale('log')\n",
      "    plt.xscale('log')\n",
      "    plt.legend(loc='lower left')\n",
      "    plt.grid()\n",
      "    plt.show()\n",
      "n = np.logspace(4,7,100)\n",
      "s_mean(n)"
     ],
     "language": "python",
     "metadata": {},
     "outputs": [
      {
       "metadata": {},
       "output_type": "display_data",
       "png": "[encoded data removed]",
       "text": [
        "<matplotlib.figure.Figure at 0xa79a780>"
       ]
      }
     ],
     "prompt_number": 12
    },
    {
     "cell_type": "markdown",
     "metadata": {},
     "source": [
      "How many samples are needed to determine the result to two decimal places? What is the approximate functional dependence of the error on N for large N?"
     ]
    },
    {
     "cell_type": "markdown",
     "metadata": {},
     "source": [
      "\n",
      "\n",
      "You need approximatly 10^6 cells for there to be a more than 50% chance of being accurate to two decimal places\n",
      "\n",
      "The dependence is approximately linear, and changes by a factor of 10 for every factor of 10 you increase the number of cells by "
     ]
    },
    {
     "cell_type": "code",
     "collapsed": false,
     "input": [],
     "language": "python",
     "metadata": {},
     "outputs": []
    }
   ],
   "metadata": {}
  }
 ]
}