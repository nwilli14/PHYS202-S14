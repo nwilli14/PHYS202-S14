{
 "metadata": {
  "name": "",
  "signature": "sha256:fec305fbcd267cbd3d4ec19072034c2dc9e82ec6700273a26bc0ae248588ca56"
 },
 "nbformat": 3,
 "nbformat_minor": 0,
 "worksheets": [
  {
   "cells": [
    {
     "cell_type": "heading",
     "level": 1,
     "metadata": {},
     "source": [
      "Monte Carlo integration Exercises"
     ]
    },
    {
     "cell_type": "code",
     "collapsed": false,
     "input": [
      "%pylab inline\n",
      "import numpy as np\n",
      "import matplotlib.pyplot as plt"
     ],
     "language": "python",
     "metadata": {},
     "outputs": [
      {
       "output_type": "stream",
       "stream": "stdout",
       "text": [
        "Populating the interactive namespace from numpy and matplotlib\n"
       ]
      }
     ],
     "prompt_number": 1
    },
    {
     "cell_type": "heading",
     "level": 2,
     "metadata": {},
     "source": [
      "Question 1"
     ]
    },
    {
     "cell_type": "markdown",
     "metadata": {},
     "source": [
      "Let\u2019s compute the electric potential from a plane of charge as shown in the figure using Monte Carlo integration."
     ]
    },
    {
     "cell_type": "markdown",
     "metadata": {},
     "source": [
      "The integral comes from summing all the potentials from the chunks of \u201cpoint\u201d charges. Just as we summed two charges for a dipole, now we\u2019ll sum many charges. The important part is to understand how dQ, modeled as a point charge, is related to \u03c3dA, where \u03c3 is the surface charge density = charge/area (\u03c3=Q/A ) Review your notes from PHYS 133 if you need a refresher.\n",
      "We want to use our previously defined pointPotential() function from Electrostatics.py, so we have to import it."
     ]
    },
    {
     "cell_type": "code",
     "collapsed": false,
     "input": [
      "from Electrostatics import *"
     ],
     "language": "python",
     "metadata": {},
     "outputs": [],
     "prompt_number": 2
    },
    {
     "cell_type": "code",
     "collapsed": false,
     "input": [
      "from IPython.html.widgets import interact, interactive"
     ],
     "language": "python",
     "metadata": {},
     "outputs": [],
     "prompt_number": 3
    },
    {
     "cell_type": "code",
     "collapsed": false,
     "input": [
      "def sampleMean(N=10000,xmin=-1,xmax=1,ymin=0,ymax=2):\n",
      "\n",
      "    #Set up the function\n",
      "    x = np.arange(-1.,1.,0.001)\n",
      "    y = np.arange(0.,2.,0.001)\n",
      "    q = (1*10**-6)*(0.001*0.001)\n",
      "    f = pointPotential(2 ,3, q, x, y)\n",
      "    #Iana = lambda x: (2./3.)*x**(3./2.) - np.cos(x)\n",
      "    #Iexact = Iana(xmax)-Iana(xmin)\n",
      "\n",
      "    ##########################################################\n",
      "    #Here's the integration part:\n",
      "    samples_x = xmin + (xmax-xmin)*np.random.random_sample(N);\n",
      "    samples_y = ymin + (ymax-ymin)*np.random.random_sample(N);\n",
      "    \n",
      "    \n",
      "    approx = pointPotential(2,3,q,samples_x,samples_y)\n",
      "    I = approx.mean()*(xmax-xmin)*(ymax-ymin)\n",
      "    \n",
      "\n",
      "    #Numerical uncertainty\n",
      "    Iunc = (xmax-xmin)*np.sqrt( ((approx**2).mean()-(approx.mean())**2)/N )\n",
      "\n",
      "\n",
      "    print \"I_samplemean =\", I, \" +/- \",Iunc\n",
      "    \n",
      "\n",
      "    \n",
      "    \n",
      "sampleMean(N=10)\n",
      "sampleMean(N=100)\n",
      "sampleMean(N=1000)\n",
      "sampleMean(N=10000)\n",
      "sampleMean(N=100000)\n",
      "sampleMean(N=1000000)"
     ],
     "language": "python",
     "metadata": {},
     "outputs": [
      {
       "output_type": "stream",
       "stream": "stdout",
       "text": [
        "I_samplemean = 0.0129742319065  +/-  0.000303035397998\n",
        "I_samplemean = 0.0133148491509  +/-  0.000158171606123\n",
        "I_samplemean = 0.0131470471298  +/-  4.76890741412e-05\n",
        "I_samplemean = 0.0130290281051  +/-  1.49030843088e-05\n",
        "I_samplemean = 0.013012294309  +/-  4.70015698039e-06\n",
        "I_samplemean ="
       ]
      },
      {
       "output_type": "stream",
       "stream": "stdout",
       "text": [
        " 0.0130268342534  +/-  1.48479509668e-06\n"
       ]
      }
     ],
     "prompt_number": 23
    },
    {
     "cell_type": "code",
     "collapsed": false,
     "input": [
      "def sampleMean(N=10000,xmin=-1,xmax=1,ymin=0,ymax=2):\n",
      "\n",
      "    #Set up the function\n",
      "    x = np.arange(-1.,1.,0.001)\n",
      "    y = np.arange(0.,2.,0.001)\n",
      "    q = (1*10**-6)*(0.001*0.001)\n",
      "    f = pointPotential(2 ,3, q, x, y)\n",
      "    #Iana = lambda x: (2./3.)*x**(3./2.) - np.cos(x)\n",
      "    #Iexact = Iana(xmax)-Iana(xmin)\n",
      "\n",
      "    ##########################################################\n",
      "    #Here's the integration part:\n",
      "    samples_x = xmin + (xmax-xmin)*np.random.random_sample(N);\n",
      "    samples_y = ymin + (ymax-ymin)*np.random.random_sample(N);\n",
      "    \n",
      "    \n",
      "    approx = pointPotential(2,3,q,samples_x,samples_y)\n",
      "    I = approx.mean()*(xmax-xmin)*(ymax-ymin)\n",
      "    \n",
      "\n",
      "    #Numerical uncertainty\n",
      "    Iunc = (xmax-xmin)*np.sqrt( ((approx**2).mean()-(approx.mean())**2)/N )\n",
      "\n",
      "\n",
      "    print \"I_samplemean =\", I, \" +/- \",Iunc\n",
      "    \n",
      "\n",
      "    \n",
      "    \n",
      "print sampleMean(N=10)\n",
      "print sampleMean(N=100)\n",
      "print sampleMean(N=1000)\n",
      "print sampleMean(N=10000)\n",
      "print sampleMean(N=100000)\n",
      "print sampleMean(N=1000000)"
     ],
     "language": "python",
     "metadata": {},
     "outputs": [
      {
       "output_type": "stream",
       "stream": "stdout",
       "text": [
        "I_samplemean = 0.0134648633023  +/-  0.00048071681768\n",
        "None\n",
        "I_samplemean = 0.0135760522208  +/-  0.000148307065045\n",
        "None\n",
        "I_samplemean = 0.0128800247065  +/-  4.41131642619e-05\n",
        "None\n",
        "I_samplemean = 0.0130138409531  +/-  1.47254950385e-05\n",
        "None\n",
        "I_samplemean = 0.0130314560918  +/-  4.6999587494e-06\n",
        "None\n",
        "I_samplemean ="
       ]
      },
      {
       "output_type": "stream",
       "stream": "stdout",
       "text": [
        " 0.013026554195  +/-  1.48644031403e-06\n",
        "None\n"
       ]
      }
     ],
     "prompt_number": 5
    },
    {
     "cell_type": "code",
     "collapsed": false,
     "input": [],
     "language": "python",
     "metadata": {},
     "outputs": [],
     "prompt_number": 5
    },
    {
     "cell_type": "heading",
     "level": 2,
     "metadata": {},
     "source": [
      "Question 2"
     ]
    },
    {
     "cell_type": "markdown",
     "metadata": {},
     "source": [
      "Use the sample mean method to compute the volume of a sphere with radius 1 using spherical coordinates:\n",
      "V=\u222b10\u222b\u03c00\u222b2\u03c00r2sin(\u03b8)drd\u03b8d\u03d5\n",
      "for N=(101,102,103,104,105,106). Report the value and statistical uncertainty for each sample size. How does the result depend on N?"
     ]
    },
    {
     "cell_type": "code",
     "collapsed": false,
     "input": [
      "def sphere_vol(N,rmin=0,rmax=1,theta_min=0,theta_max=np.pi,phi_min=0,phi_max=2*np.pi):\n",
      "    #set up the function\n",
      "    f = lambda r, theta, phi: r**2*np.sin(theta)\n",
      "    \n",
      "    #integration\n",
      "    r= (rmax-rmin)*np.random.random_sample(N)\n",
      "    theta = (theta_max-theta_min)*np.random.random_sample(N)\n",
      "    phi = (phi_max-phi_min)*np.random.random_sample(N)\n",
      "    \n",
      "    approx = theta_max*phi_max*f(r, theta, phi)\n",
      "    I = approx.mean()\n",
      "    \n",
      "    err = (rmax)*(theta_max)*(phi_max)*np.sqrt(((f(r,theta,phi)**2).mean() - (f(r,theta,phi).mean())**2)/N)\n",
      "    print \"I =\", I, \"+/-\", err, \"N=\", N\n",
      "    \n",
      "sphere_vol(10) \n",
      "sphere_vol(100)\n",
      "sphere_vol(1000) \n",
      "sphere_vol(10000)\n",
      "sphere_vol(100000) \n",
      "sphere_vol(1000000) "
     ],
     "language": "python",
     "metadata": {},
     "outputs": [
      {
       "output_type": "stream",
       "stream": "stdout",
       "text": [
        "I = 6.49523313676 +/- 1.70163187617 N= 10\n",
        "I = 4.55188820742 +/- 0.49989219255 N= 100\n",
        "I = 4.20257642638 +/- 0.146591577845 N= 1000\n",
        "I = 4.15267565296 +/- 0.0457379378202 N= 10000\n",
        "I ="
       ]
      },
      {
       "output_type": "stream",
       "stream": "stdout",
       "text": [
        " 4.18388602862 +/- 0.0146721896534 N= 100000\n",
        "I ="
       ]
      },
      {
       "output_type": "stream",
       "stream": "stdout",
       "text": [
        " 4.19125402357 +/- 0.00462741392046 N= 1000000\n"
       ]
      }
     ],
     "prompt_number": 22
    },
    {
     "cell_type": "heading",
     "level": 2,
     "metadata": {},
     "source": [
      "Question 3"
     ]
    },
    {
     "cell_type": "markdown",
     "metadata": {},
     "source": [
      "(a) Use the hit or miss Monte Carlo method to estimate the integral of f(x)=41\u2212x2\u2212\u2212\u2212\u2212\u2212\u221a in the interval 0\u2264x\u22641 as a function of N, the number of samples. Let N range from 101 to 106 and use at least 100 different values for N.\n",
      "(np.logspace might be useful here to get evenly spaced values for N.)\n"
     ]
    },
    {
     "cell_type": "code",
     "collapsed": false,
     "input": [
      "def hitOrMiss(N=10, xmin=0,xmax=1):\n",
      "    f = lambda x: 4*sqrt(1-x**2)\n",
      "    x = np.arange(-1.,2.,0.001)\n",
      "    \n",
      "    \n",
      "    subx = x[logical_and((x>xmin),(x<xmax))]\n",
      "    ymax = f(subx).max()*1.05\n",
      "    ymin= 0.\n",
      "    \n",
      "    for n in np.logspace(10,1000000):\n",
      "        #integration\n",
      "        x = (xmax-xmin)*np.random.random_sample(n)\n",
      "        y = (ymax-ymin)*np.random.random_sample(n)\n",
      "    \n",
      "        newmask = (y < f(x))\n",
      "        I = (xmax)*ymax*newmax.sum()/newmask.size\n",
      "        print \"I=\", I, \"for N=\", n\n",
      "hitOrMiss()"
     ],
     "language": "python",
     "metadata": {},
     "outputs": [
      {
       "output_type": "stream",
       "stream": "stderr",
       "text": [
        "C:\\Users\\Nick the Wizard\\Anaconda\\lib\\site-packages\\numpy\\core\\function_base.py:168: RuntimeWarning: overflow encountered in power\n",
        "  return _nx.power(base, y)\n"
       ]
      },
      {
       "ename": "MemoryError",
       "evalue": "",
       "output_type": "pyerr",
       "traceback": [
        "\u001b[1;31m---------------------------------------------------------------------------\u001b[0m\n\u001b[1;31mMemoryError\u001b[0m                               Traceback (most recent call last)",
        "\u001b[1;32m<ipython-input-27-0e2811eacbe8>\u001b[0m in \u001b[0;36m<module>\u001b[1;34m()\u001b[0m\n\u001b[0;32m     16\u001b[0m         \u001b[0mI\u001b[0m \u001b[1;33m=\u001b[0m \u001b[1;33m(\u001b[0m\u001b[0mxmax\u001b[0m\u001b[1;33m)\u001b[0m\u001b[1;33m*\u001b[0m\u001b[0mymax\u001b[0m\u001b[1;33m*\u001b[0m\u001b[0mnewmax\u001b[0m\u001b[1;33m.\u001b[0m\u001b[0msum\u001b[0m\u001b[1;33m(\u001b[0m\u001b[1;33m)\u001b[0m\u001b[1;33m/\u001b[0m\u001b[0mnewmask\u001b[0m\u001b[1;33m.\u001b[0m\u001b[0msize\u001b[0m\u001b[1;33m\u001b[0m\u001b[0m\n\u001b[0;32m     17\u001b[0m         \u001b[1;32mprint\u001b[0m \u001b[1;34m\"I=\"\u001b[0m\u001b[1;33m,\u001b[0m \u001b[0mI\u001b[0m\u001b[1;33m,\u001b[0m \u001b[1;34m\"for N=\"\u001b[0m\u001b[1;33m,\u001b[0m \u001b[0mn\u001b[0m\u001b[1;33m\u001b[0m\u001b[0m\n\u001b[1;32m---> 18\u001b[1;33m \u001b[0mhitOrMiss\u001b[0m\u001b[1;33m(\u001b[0m\u001b[1;33m)\u001b[0m\u001b[1;33m\u001b[0m\u001b[0m\n\u001b[0m",
        "\u001b[1;32m<ipython-input-27-0e2811eacbe8>\u001b[0m in \u001b[0;36mhitOrMiss\u001b[1;34m(N, xmin, xmax)\u001b[0m\n\u001b[0;32m     10\u001b[0m     \u001b[1;32mfor\u001b[0m \u001b[0mn\u001b[0m \u001b[1;32min\u001b[0m \u001b[0mnp\u001b[0m\u001b[1;33m.\u001b[0m\u001b[0mlogspace\u001b[0m\u001b[1;33m(\u001b[0m\u001b[1;36m10\u001b[0m\u001b[1;33m,\u001b[0m\u001b[1;36m1000000\u001b[0m\u001b[1;33m)\u001b[0m\u001b[1;33m:\u001b[0m\u001b[1;33m\u001b[0m\u001b[0m\n\u001b[0;32m     11\u001b[0m         \u001b[1;31m#integration\u001b[0m\u001b[1;33m\u001b[0m\u001b[1;33m\u001b[0m\u001b[0m\n\u001b[1;32m---> 12\u001b[1;33m         \u001b[0mx\u001b[0m \u001b[1;33m=\u001b[0m \u001b[1;33m(\u001b[0m\u001b[0mxmax\u001b[0m\u001b[1;33m-\u001b[0m\u001b[0mxmin\u001b[0m\u001b[1;33m)\u001b[0m\u001b[1;33m*\u001b[0m\u001b[0mnp\u001b[0m\u001b[1;33m.\u001b[0m\u001b[0mrandom\u001b[0m\u001b[1;33m.\u001b[0m\u001b[0mrandom_sample\u001b[0m\u001b[1;33m(\u001b[0m\u001b[0mn\u001b[0m\u001b[1;33m)\u001b[0m\u001b[1;33m\u001b[0m\u001b[0m\n\u001b[0m\u001b[0;32m     13\u001b[0m         \u001b[0my\u001b[0m \u001b[1;33m=\u001b[0m \u001b[1;33m(\u001b[0m\u001b[0mymax\u001b[0m\u001b[1;33m-\u001b[0m\u001b[0mymin\u001b[0m\u001b[1;33m)\u001b[0m\u001b[1;33m*\u001b[0m\u001b[0mnp\u001b[0m\u001b[1;33m.\u001b[0m\u001b[0mrandom\u001b[0m\u001b[1;33m.\u001b[0m\u001b[0mrandom_sample\u001b[0m\u001b[1;33m(\u001b[0m\u001b[0mn\u001b[0m\u001b[1;33m)\u001b[0m\u001b[1;33m\u001b[0m\u001b[0m\n\u001b[0;32m     14\u001b[0m \u001b[1;33m\u001b[0m\u001b[0m\n",
        "\u001b[1;32mC:\\Users\\Nick the Wizard\\Anaconda\\lib\\site-packages\\numpy\\random\\mtrand.pyd\u001b[0m in \u001b[0;36mmtrand.RandomState.random_sample (numpy\\random\\mtrand\\mtrand.c:6434)\u001b[1;34m()\u001b[0m\n",
        "\u001b[1;32mC:\\Users\\Nick the Wizard\\Anaconda\\lib\\site-packages\\numpy\\random\\mtrand.pyd\u001b[0m in \u001b[0;36mmtrand.cont0_array (numpy\\random\\mtrand\\mtrand.c:1720)\u001b[1;34m()\u001b[0m\n",
        "\u001b[1;31mMemoryError\u001b[0m: "
       ]
      }
     ],
     "prompt_number": 27
    },
    {
     "cell_type": "code",
     "collapsed": false,
     "input": [],
     "language": "python",
     "metadata": {},
     "outputs": []
    }
   ],
   "metadata": {}
  }
 ]
}