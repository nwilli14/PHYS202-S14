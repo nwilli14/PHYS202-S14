{
 "metadata": {
  "name": "",
  "signature": "sha256:620d282624c10d104c1159b80b0d7ec5bb04522d4aa9f00d24a9ea50e486d326"
 },
 "nbformat": 3,
 "nbformat_minor": 0,
 "worksheets": [
  {
   "cells": [
    {
     "cell_type": "code",
     "collapsed": false,
     "input": [
      "%pylab inline\n",
      "import numpy as np\n",
      "from matplotlib import pyplot as plt\n",
      "from scipy.integrate import odeint"
     ],
     "language": "python",
     "metadata": {},
     "outputs": [
      {
       "output_type": "stream",
       "stream": "stdout",
       "text": [
        "Populating the interactive namespace from numpy and matplotlib\n"
       ]
      },
      {
       "output_type": "stream",
       "stream": "stderr",
       "text": [
        "WARNING: pylab import has clobbered these variables: ['dist']\n",
        "`%matplotlib` prevents importing * from pylab and numpy\n"
       ]
      }
     ],
     "prompt_number": 2
    },
    {
     "cell_type": "code",
     "collapsed": false,
     "input": [
      "G = 4.494e-8 #kpc^3/(SolarMass/(10^8 years)^2)\n",
      "M = 10**11 #solarMasses\n",
      "Rmin = 20 #kpc\n",
      "stars = [12,18,24,30,36]\n",
      "dist = [.2,.3,.4,.5,.6]\n",
      "\n",
      "r0 = np.zeros(120)\n",
      "theta0 = np.zeros(120)\n",
      "theta = [0,.27,.59,1.75,2.66,2.88,3.15,3.42,3.73,4.88,5.7,6.02]\n",
      "\n",
      "i = 0\n",
      "e = .8660254038\n",
      "for si,n in enumerate(stars):\n",
      "    for x in range(n):\n",
      "        theta0[i] = np.linspace(0,2*np.pi,n)[x]\n",
      "        #r0[i] = .5*dist[si]*Rmin/sqrt(.25*np.cos(theta0[i])**2+np.sin(theta0[i]**2))\n",
      "        r0[i] = dist[si]*Rmin*(1-e**2)/(1+e*np.cos(theta0[i]))\n",
      "        i += 1\n",
      "\n",
      "\n",
      "\n",
      "v = sqrt(G*M/r0)\n",
      "vtheta = theta0 + np.pi/2\n",
      "\n",
      "x0 = r0*np.cos(theta0)\n",
      "y0 = r0*np.sin(theta0)\n",
      "vx0 = v*np.cos(vtheta)\n",
      "vy0 = v*np.sin(vtheta)\n",
      "xr1 = x0[0:12]\n",
      "yr1 = y0[0:12]\n",
      "vxr1 = vx0[0:12]\n",
      "vyr1 = vy0[0:12]\n",
      "\n",
      "plt.figure(figsize=(6,6))\n",
      "plt.scatter(xr1,yr1)\n",
      "#plt.xlim(-6,6)\n",
      "plt.ylim(-6,6)\n",
      "#plt.quiver(x0,y0,vx0,vy0)\n",
      "plt.grid()\n",
      "plt.show()"
     ],
     "language": "python",
     "metadata": {},
     "outputs": [
      {
       "metadata": {},
       "output_type": "display_data",
       "png": "[encoded data removed]",
       "text": [
        "<matplotlib.figure.Figure at 0xa465e10>"
       ]
      }
     ],
     "prompt_number": 17
    },
    {
     "cell_type": "markdown",
     "metadata": {},
     "source": [
      "calcuate the area of the ellipse and then divide into 12 parts and then place into a list of thetas"
     ]
    },
    {
     "cell_type": "code",
     "collapsed": false,
     "input": [
      "G = 4.494e-8 #kpc^3/(SolarMass/(10^8 years)^2)\n",
      "M = 10**11 #solarMasses\n",
      "Rmin = 20 #kpc\n",
      "stars = [12,18,24,30,36]\n",
      "dist = [.2,.3,.4,.5,.6]\n",
      "\n",
      "r0 = np.zeros(12)\n",
      "theta0 = np.zeros(120)\n",
      "theta = [0,.27,.59,1.75,2.66,2.88,3.15,3.42,3.73,4.88,5.7,6.02]\n",
      "\n",
      "i = 0\n",
      "e = .8660254038\n",
      "\n",
      "for x in range(12):\n",
      "    r0[i] = 0.3*Rmin*(1-e**2)/(1+e*np.cos(theta[i]))\n",
      "    i += 1\n",
      "\n",
      "\n",
      "\n",
      "#v = sqrt(G*M/r0)\n",
      "#vtheta = theta + np.pi/2\n",
      "\n",
      "x0 = r0*np.cos(theta)\n",
      "y0 = r0*np.sin(theta)\n",
      "#vx0 = v*np.cos(vtheta)\n",
      "#vy0 = v*np.sin(vtheta)\n",
      "xr1 = x0[0:12]\n",
      "yr1 = y0[0:12]\n",
      "#vxr1 = vx0[0:12]\n",
      "#vyr1 = vy0[0:12]\n",
      "\n",
      "plt.figure(figsize=(6,6))\n",
      "plt.scatter(xr1,yr1)\n",
      "#plt.xlim(-6,6)\n",
      "plt.ylim(-6,6)\n",
      "#plt.quiver(x0,y0,vx0,vy0)\n",
      "plt.grid()"
     ],
     "language": "python",
     "metadata": {},
     "outputs": [
      {
       "metadata": {},
       "output_type": "display_data",
       "png": "[encoded data removed]",
       "text": [
        "<matplotlib.figure.Figure at 0xa10fe80>"
       ]
      }
     ],
     "prompt_number": 12
    },
    {
     "cell_type": "code",
     "collapsed": false,
     "input": [],
     "language": "python",
     "metadata": {},
     "outputs": []
    }
   ],
   "metadata": {}
  }
 ]
}