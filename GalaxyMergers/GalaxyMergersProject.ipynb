{
 "metadata": {
  "name": "",
  "signature": "sha256:cf899d0acc4b9f4b6a32ec64f4a0a1e9fa701b4c347995cdb63421f8730cf0e8"
 },
 "nbformat": 3,
 "nbformat_minor": 0,
 "worksheets": [
  {
   "cells": [
    {
     "cell_type": "code",
     "collapsed": false,
     "input": [
      "import numpy as np\n",
      "from matplotlib import pyplot as plt\n",
      "from scipy.integrate import odeint"
     ],
     "language": "python",
     "metadata": {},
     "outputs": [],
     "prompt_number": 1
    },
    {
     "cell_type": "code",
     "collapsed": false,
     "input": [
      "def diffequ():\n",
      "    gamma = 6.67384e-11 #m^3/(kg*s^2)\n",
      "    M = 1.9891e41 #kg\n",
      "    rho = R - r\n",
      "    \n",
      "    dr^2dt = -gamma*(M/r**3-S/rho**3+S/R**3)\n",
      "    dR^2dt = -gamma*(M+S)/R**3"
     ],
     "language": "python",
     "metadata": {},
     "outputs": []
    },
    {
     "cell_type": "code",
     "collapsed": false,
     "input": [
      "C = -4 # a constant which is a combo of the grav const, masses, etc.\n",
      "timeLimit = 99\n",
      "\n",
      "# format [x velocity, x position, y velocity, y position]\n",
      "\n",
      "loc = [1, 10, 2, 5] # initial values\n",
      "\n",
      "# function used by odeint which returns various derivatives\n",
      "\n",
      "def R(r, t):\n",
      "    xaccel = np.cos(np.arctan2(r[3], r[1])) * (C / (r[1]**2 + r[3]**2)**.5)\n",
      "    xvel = r[0]\n",
      "    yaccel = np.sin(np.arctan2(r[3], r[1])) * C / (r[1]**2 + r[3]**2)**.5\n",
      "    yvel = r[2]\n",
      "\n",
      "    return np.array([xaccel, xvel, yaccel, yvel])\n",
      "\n",
      "loc = odeint(R, loc, np.linspace(0, timeLimit, timeLimit + 1))\n",
      "\n",
      "x = loc[:,1] # extracts the x values from loc\n",
      "y = loc[:,3] # extracts the y values from loc\n",
      "\n",
      "plt.plot(x, y) #plot trajectory\n",
      "plt.scatter(0, 0, s=400, c = 'r') #center of galaxy\n",
      "plt.annotate(\"t = 0\", xy = (loc[1, 1], loc[1,3]), xytext=(loc[1, 1] + 2, loc[1,3]- 15), arrowprops=dict(facecolor='black', shrink=0.05, width=.5)) #label start\n",
      "plt.grid()\n",
      "plt.show()"
     ],
     "language": "python",
     "metadata": {},
     "outputs": [
      {
       "output_type": "stream",
       "stream": "stdout",
       "text": [
        "[  1.00000000e+01   1.08506195e+01   1.14376772e+01   1.18017282e+01\n",
        "   1.19720502e+01   1.19706400e+01   1.18145753e+01   1.15174855e+01\n",
        "   1.10905152e+01   1.05429867e+01   9.88287966e+00   9.11720232e+00\n",
        "   8.25230420e+00   7.29417148e+00   6.24874895e+00   5.12234722e+00\n",
        "   3.92223325e+00   2.65759151e+00   1.34125180e+00  -6.88831782e-03\n",
        "  -1.35233169e+00  -2.62734070e+00  -3.68058798e+00  -4.17882332e+00\n",
        "  -3.80436430e+00  -2.81285603e+00  -1.56427585e+00  -2.29522364e-01\n",
        "   1.11588320e+00   2.43414443e+00   3.70379654e+00   4.91119617e+00\n",
        "   6.04671276e+00   7.10283129e+00   8.07311075e+00   8.95155311e+00\n",
        "   9.73217579e+00   1.04086807e+01   1.09741572e+01   1.14207731e+01\n",
        "   1.17394150e+01   1.19192264e+01   1.19469768e+01   1.18061500e+01\n",
        "   1.14755617e+01   1.09271553e+01   1.01222990e+01   9.00523702e+00\n",
        "   7.49124790e+00   5.44897914e+00   2.72556946e+00  -5.31890416e-01\n",
        "  -3.74160819e+00  -6.61061107e+00  -9.11474623e+00  -1.12836888e+01\n",
        "  -1.31489576e+01  -1.47363481e+01  -1.60659775e+01  -1.71533702e+01\n",
        "  -1.80104432e+01  -1.86462443e+01  -1.90674763e+01  -1.92788577e+01\n",
        "  -1.92833609e+01  -1.90823549e+01  -1.86756676e+01  -1.80615765e+01\n",
        "  -1.72367273e+01  -1.61959746e+01  -1.49321347e+01  -1.34356414e+01\n",
        "  -1.16941199e+01  -9.69200213e+00  -7.41075641e+00  -4.83223880e+00\n",
        "  -1.95693918e+00   1.10826750e+00   3.92577286e+00   6.02285444e+00\n",
        "   7.46180962e+00   8.43528928e+00   9.07046799e+00   9.44536195e+00\n",
        "   9.61063738e+00   9.60130696e+00   9.44286616e+00   9.15470017e+00\n",
        "   8.75209904e+00   8.24752271e+00   7.65144133e+00   6.97292779e+00\n",
        "   6.22010494e+00   5.40051373e+00   4.52145175e+00   3.59032742e+00\n",
        "   2.61508484e+00   1.60478062e+00   5.70455503e-01  -4.73422835e-01]\n"
       ]
      }
     ],
     "prompt_number": 5
    },
    {
     "cell_type": "code",
     "collapsed": false,
     "input": [],
     "language": "python",
     "metadata": {},
     "outputs": []
    }
   ],
   "metadata": {}
  }
 ]
}