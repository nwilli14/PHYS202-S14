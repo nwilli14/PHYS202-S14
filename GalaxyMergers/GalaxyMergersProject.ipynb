{
 "metadata": {
  "name": "",
  "signature": "sha256:3b056d825e80a508fbe0284522dd26460bbe6be23788b55009d667b0c624e08b"
 },
 "nbformat": 3,
 "nbformat_minor": 0,
 "worksheets": [
  {
   "cells": [
    {
     "cell_type": "code",
     "collapsed": false,
     "input": [
      "import numpy as np\n",
      "from matplotlib import pyplot as plt\n",
      "from scipy.integrate import odeint"
     ],
     "language": "python",
     "metadata": {},
     "outputs": [],
     "prompt_number": 2
    },
    {
     "cell_type": "code",
     "collapsed": false,
     "input": [
      "G = 4.302e-6 #kpc/SolarMass*(km/s)^2\n",
      "M = 10e11 #solarMasses\n",
      "Rmin = 25 #kpc\n",
      "stars = [12,18,24,30,36]\n",
      "dist = [.2,.3,.4,.5,.6]\n",
      "\n",
      "r0 = np.zeros(120)\n",
      "th0 = np.zeros(120)\n",
      "i = 0\n",
      "\n",
      "for si,n in enumerate(stars):\n",
      "    for x in range(n):\n",
      "        r0[i] = dist[si]*Rmin\n",
      "        th0[i] = np.linspace(0,2*np.pi,n)[x]\n",
      "        i += 1\n",
      "\n",
      "v = sqrt(G*M/r0)\n",
      "vtheta = th0 + np.pi/2\n",
      "\n"
     ],
     "language": "python",
     "metadata": {},
     "outputs": [],
     "prompt_number": 7
    },
    {
     "cell_type": "code",
     "collapsed": false,
     "input": [],
     "language": "python",
     "metadata": {},
     "outputs": []
    }
   ],
   "metadata": {}
  }
 ]
}