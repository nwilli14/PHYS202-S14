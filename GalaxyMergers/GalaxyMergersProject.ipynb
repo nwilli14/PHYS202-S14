{
 "metadata": {
  "name": "",
  "signature": "sha256:c1c953691c65bdd9a1e62975ddede5c13af9776267b06fd1b5fc6b43bd1ccf6e"
 },
 "nbformat": 3,
 "nbformat_minor": 0,
 "worksheets": [
  {
   "cells": [
    {
     "cell_type": "code",
     "collapsed": false,
     "input": [
      "def diffequ():\n",
      "    gamma = 6.67384e-11 #m^3/(kg*s^2)\n",
      "    M = 1.9891e41 #kg\n",
      "    rho = R - r\n",
      "    \n",
      "    dr^2dt = -gamma*(M/r**3-S/rho**3+S/R**3)\n",
      "    dR^2dt = -gamma*(M+S)/R**3"
     ],
     "language": "python",
     "metadata": {},
     "outputs": []
    },
    {
     "cell_type": "code",
     "collapsed": false,
     "input": [],
     "language": "python",
     "metadata": {},
     "outputs": []
    }
   ],
   "metadata": {}
  }
 ]
}