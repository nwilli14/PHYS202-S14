{
 "metadata": {
  "name": "",
  "signature": "sha256:9418bd31b0fe515bd1aed2accd385b638bc00785532b8c6d073661f43bd0b1fe"
 },
 "nbformat": 3,
 "nbformat_minor": 0,
 "worksheets": [
  {
   "cells": [
    {
     "cell_type": "code",
     "collapsed": false,
     "input": [
      "import numpy as np\n",
      "from matplotlib import pyplot as plt\n",
      "from scipy.integrate import odeint"
     ],
     "language": "python",
     "metadata": {},
     "outputs": [],
     "prompt_number": 1
    },
    {
     "cell_type": "code",
     "collapsed": false,
     "input": [
      "G = 4.302e-6 #kpc/SolarMass*(km/s)^2\n",
      "M = 10e11 #solarMasses\n",
      "Rmin = 2"
     ],
     "language": "python",
     "metadata": {},
     "outputs": []
    }
   ],
   "metadata": {}
  }
 ]
}