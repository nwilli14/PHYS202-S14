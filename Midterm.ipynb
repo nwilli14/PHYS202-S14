{
 "metadata": {
  "name": "",
  "signature": "sha256:eb6f8ab3068b86f70e6ef1abdaf3e8db1f77081043b03ddf3e7ea1b0943eb747"
 },
 "nbformat": 3,
 "nbformat_minor": 0,
 "worksheets": [
  {
   "cells": [
    {
     "cell_type": "heading",
     "level": 1,
     "metadata": {},
     "source": [
      "Midterm"
     ]
    },
    {
     "cell_type": "heading",
     "level": 2,
     "metadata": {},
     "source": [
      "Question 1"
     ]
    },
    {
     "cell_type": "markdown",
     "metadata": {},
     "source": [
      "In Robert McCloskey\u2019s book Make Way for Ducklings, the names of the ducklings are Jack, Kack, Lack, Mack, Nack, Ouack, Pack, and Quack. This loop outputs these names in order:"
     ]
    },
    {
     "cell_type": "code",
     "collapsed": false,
     "input": [
      "prefixes = 'JKLMNOPQ' \n",
      "suffix = 'ack'\n",
      "for letter in prefixes: \n",
      "    print letter + suffix"
     ],
     "language": "python",
     "metadata": {},
     "outputs": [
      {
       "output_type": "stream",
       "stream": "stdout",
       "text": [
        "Jack\n",
        "Kack\n",
        "Lack\n",
        "Mack\n",
        "Nack\n",
        "Oack\n",
        "Pack\n",
        "Qack\n"
       ]
      }
     ],
     "prompt_number": 4
    },
    {
     "cell_type": "code",
     "collapsed": false,
     "input": [
      "prefixes = 'JKLMNOPQ' \n",
      "suffix = 'ack'\n",
      "for letter in prefixes: \n",
      "    if letter == 'O':\n",
      "        letter = 'Ou'\n",
      "    elif letter == 'Q':\n",
      "        letter = 'Qu'\n",
      "    print letter + suffix"
     ],
     "language": "python",
     "metadata": {},
     "outputs": [
      {
       "output_type": "stream",
       "stream": "stdout",
       "text": [
        "Jack\n",
        "Kack\n",
        "Lack\n",
        "Mack\n",
        "Nack\n",
        "Ouack\n",
        "Pack\n",
        "Quack\n"
       ]
      }
     ],
     "prompt_number": 5
    },
    {
     "cell_type": "heading",
     "level": 2,
     "metadata": {},
     "source": [
      "Question 2 "
     ]
    },
    {
     "cell_type": "markdown",
     "metadata": {},
     "source": [
      "Use ipythonblocks to create an 8x8 grid with the first initial of your last name embedded in it in a different color. Use slices and/or loops to set the values rather than setting each block by hand. Here is an example:"
     ]
    },
    {
     "cell_type": "code",
     "collapsed": false,
     "input": [
      "from ipythonblocks import BlockGrid\n",
      "grid = BlockGrid(8,8, fill=(123, 234, 123))\n",
      "grid"
     ],
     "language": "python",
     "metadata": {},
     "outputs": [
      {
       "html": [
        "<style type=\"text/css\">table.blockgrid {border: none;} .blockgrid tr {border: none;} .blockgrid td {padding: 0px;} #blocks26a72c1d-00d7-4ee6-872f-2630fe3cc60e td {border: 1px solid white;}</style><table id=\"blocks26a72c1d-00d7-4ee6-872f-2630fe3cc60e\" class=\"blockgrid\"><tbody><tr><td title=\"Index: [0, 0]&#10;Color: (123, 234, 123)\" style=\"width: 20px; height: 20px;background-color: rgb(123, 234, 123);\"></td><td title=\"Index: [0, 1]&#10;Color: (123, 234, 123)\" style=\"width: 20px; height: 20px;background-color: rgb(123, 234, 123);\"></td><td title=\"Index: [0, 2]&#10;Color: (123, 234, 123)\" style=\"width: 20px; height: 20px;background-color: rgb(123, 234, 123);\"></td><td title=\"Index: [0, 3]&#10;Color: (123, 234, 123)\" style=\"width: 20px; height: 20px;background-color: rgb(123, 234, 123);\"></td><td title=\"Index: [0, 4]&#10;Color: (123, 234, 123)\" style=\"width: 20px; height: 20px;background-color: rgb(123, 234, 123);\"></td><td title=\"Index: [0, 5]&#10;Color: (123, 234, 123)\" style=\"width: 20px; height: 20px;background-color: rgb(123, 234, 123);\"></td><td title=\"Index: [0, 6]&#10;Color: (123, 234, 123)\" style=\"width: 20px; height: 20px;background-color: rgb(123, 234, 123);\"></td><td title=\"Index: [0, 7]&#10;Color: (123, 234, 123)\" style=\"width: 20px; height: 20px;background-color: rgb(123, 234, 123);\"></td></tr><tr><td title=\"Index: [1, 0]&#10;Color: (123, 234, 123)\" style=\"width: 20px; height: 20px;background-color: rgb(123, 234, 123);\"></td><td title=\"Index: [1, 1]&#10;Color: (123, 234, 123)\" style=\"width: 20px; height: 20px;background-color: rgb(123, 234, 123);\"></td><td title=\"Index: [1, 2]&#10;Color: (123, 234, 123)\" style=\"width: 20px; height: 20px;background-color: rgb(123, 234, 123);\"></td><td title=\"Index: [1, 3]&#10;Color: (123, 234, 123)\" style=\"width: 20px; height: 20px;background-color: rgb(123, 234, 123);\"></td><td title=\"Index: [1, 4]&#10;Color: (123, 234, 123)\" style=\"width: 20px; height: 20px;background-color: rgb(123, 234, 123);\"></td><td title=\"Index: [1, 5]&#10;Color: (123, 234, 123)\" style=\"width: 20px; height: 20px;background-color: rgb(123, 234, 123);\"></td><td title=\"Index: [1, 6]&#10;Color: (123, 234, 123)\" style=\"width: 20px; height: 20px;background-color: rgb(123, 234, 123);\"></td><td title=\"Index: [1, 7]&#10;Color: (123, 234, 123)\" style=\"width: 20px; height: 20px;background-color: rgb(123, 234, 123);\"></td></tr><tr><td title=\"Index: [2, 0]&#10;Color: (123, 234, 123)\" style=\"width: 20px; height: 20px;background-color: rgb(123, 234, 123);\"></td><td title=\"Index: [2, 1]&#10;Color: (123, 234, 123)\" style=\"width: 20px; height: 20px;background-color: rgb(123, 234, 123);\"></td><td title=\"Index: [2, 2]&#10;Color: (123, 234, 123)\" style=\"width: 20px; height: 20px;background-color: rgb(123, 234, 123);\"></td><td title=\"Index: [2, 3]&#10;Color: (123, 234, 123)\" style=\"width: 20px; height: 20px;background-color: rgb(123, 234, 123);\"></td><td title=\"Index: [2, 4]&#10;Color: (123, 234, 123)\" style=\"width: 20px; height: 20px;background-color: rgb(123, 234, 123);\"></td><td title=\"Index: [2, 5]&#10;Color: (123, 234, 123)\" style=\"width: 20px; height: 20px;background-color: rgb(123, 234, 123);\"></td><td title=\"Index: [2, 6]&#10;Color: (123, 234, 123)\" style=\"width: 20px; height: 20px;background-color: rgb(123, 234, 123);\"></td><td title=\"Index: [2, 7]&#10;Color: (123, 234, 123)\" style=\"width: 20px; height: 20px;background-color: rgb(123, 234, 123);\"></td></tr><tr><td title=\"Index: [3, 0]&#10;Color: (123, 234, 123)\" style=\"width: 20px; height: 20px;background-color: rgb(123, 234, 123);\"></td><td title=\"Index: [3, 1]&#10;Color: (123, 234, 123)\" style=\"width: 20px; height: 20px;background-color: rgb(123, 234, 123);\"></td><td title=\"Index: [3, 2]&#10;Color: (123, 234, 123)\" style=\"width: 20px; height: 20px;background-color: rgb(123, 234, 123);\"></td><td title=\"Index: [3, 3]&#10;Color: (123, 234, 123)\" style=\"width: 20px; height: 20px;background-color: rgb(123, 234, 123);\"></td><td title=\"Index: [3, 4]&#10;Color: (123, 234, 123)\" style=\"width: 20px; height: 20px;background-color: rgb(123, 234, 123);\"></td><td title=\"Index: [3, 5]&#10;Color: (123, 234, 123)\" style=\"width: 20px; height: 20px;background-color: rgb(123, 234, 123);\"></td><td title=\"Index: [3, 6]&#10;Color: (123, 234, 123)\" style=\"width: 20px; height: 20px;background-color: rgb(123, 234, 123);\"></td><td title=\"Index: [3, 7]&#10;Color: (123, 234, 123)\" style=\"width: 20px; height: 20px;background-color: rgb(123, 234, 123);\"></td></tr><tr><td title=\"Index: [4, 0]&#10;Color: (123, 234, 123)\" style=\"width: 20px; height: 20px;background-color: rgb(123, 234, 123);\"></td><td title=\"Index: [4, 1]&#10;Color: (123, 234, 123)\" style=\"width: 20px; height: 20px;background-color: rgb(123, 234, 123);\"></td><td title=\"Index: [4, 2]&#10;Color: (123, 234, 123)\" style=\"width: 20px; height: 20px;background-color: rgb(123, 234, 123);\"></td><td title=\"Index: [4, 3]&#10;Color: (123, 234, 123)\" style=\"width: 20px; height: 20px;background-color: rgb(123, 234, 123);\"></td><td title=\"Index: [4, 4]&#10;Color: (123, 234, 123)\" style=\"width: 20px; height: 20px;background-color: rgb(123, 234, 123);\"></td><td title=\"Index: [4, 5]&#10;Color: (123, 234, 123)\" style=\"width: 20px; height: 20px;background-color: rgb(123, 234, 123);\"></td><td title=\"Index: [4, 6]&#10;Color: (123, 234, 123)\" style=\"width: 20px; height: 20px;background-color: rgb(123, 234, 123);\"></td><td title=\"Index: [4, 7]&#10;Color: (123, 234, 123)\" style=\"width: 20px; height: 20px;background-color: rgb(123, 234, 123);\"></td></tr><tr><td title=\"Index: [5, 0]&#10;Color: (123, 234, 123)\" style=\"width: 20px; height: 20px;background-color: rgb(123, 234, 123);\"></td><td title=\"Index: [5, 1]&#10;Color: (123, 234, 123)\" style=\"width: 20px; height: 20px;background-color: rgb(123, 234, 123);\"></td><td title=\"Index: [5, 2]&#10;Color: (123, 234, 123)\" style=\"width: 20px; height: 20px;background-color: rgb(123, 234, 123);\"></td><td title=\"Index: [5, 3]&#10;Color: (123, 234, 123)\" style=\"width: 20px; height: 20px;background-color: rgb(123, 234, 123);\"></td><td title=\"Index: [5, 4]&#10;Color: (123, 234, 123)\" style=\"width: 20px; height: 20px;background-color: rgb(123, 234, 123);\"></td><td title=\"Index: [5, 5]&#10;Color: (123, 234, 123)\" style=\"width: 20px; height: 20px;background-color: rgb(123, 234, 123);\"></td><td title=\"Index: [5, 6]&#10;Color: (123, 234, 123)\" style=\"width: 20px; height: 20px;background-color: rgb(123, 234, 123);\"></td><td title=\"Index: [5, 7]&#10;Color: (123, 234, 123)\" style=\"width: 20px; height: 20px;background-color: rgb(123, 234, 123);\"></td></tr><tr><td title=\"Index: [6, 0]&#10;Color: (123, 234, 123)\" style=\"width: 20px; height: 20px;background-color: rgb(123, 234, 123);\"></td><td title=\"Index: [6, 1]&#10;Color: (123, 234, 123)\" style=\"width: 20px; height: 20px;background-color: rgb(123, 234, 123);\"></td><td title=\"Index: [6, 2]&#10;Color: (123, 234, 123)\" style=\"width: 20px; height: 20px;background-color: rgb(123, 234, 123);\"></td><td title=\"Index: [6, 3]&#10;Color: (123, 234, 123)\" style=\"width: 20px; height: 20px;background-color: rgb(123, 234, 123);\"></td><td title=\"Index: [6, 4]&#10;Color: (123, 234, 123)\" style=\"width: 20px; height: 20px;background-color: rgb(123, 234, 123);\"></td><td title=\"Index: [6, 5]&#10;Color: (123, 234, 123)\" style=\"width: 20px; height: 20px;background-color: rgb(123, 234, 123);\"></td><td title=\"Index: [6, 6]&#10;Color: (123, 234, 123)\" style=\"width: 20px; height: 20px;background-color: rgb(123, 234, 123);\"></td><td title=\"Index: [6, 7]&#10;Color: (123, 234, 123)\" style=\"width: 20px; height: 20px;background-color: rgb(123, 234, 123);\"></td></tr><tr><td title=\"Index: [7, 0]&#10;Color: (123, 234, 123)\" style=\"width: 20px; height: 20px;background-color: rgb(123, 234, 123);\"></td><td title=\"Index: [7, 1]&#10;Color: (123, 234, 123)\" style=\"width: 20px; height: 20px;background-color: rgb(123, 234, 123);\"></td><td title=\"Index: [7, 2]&#10;Color: (123, 234, 123)\" style=\"width: 20px; height: 20px;background-color: rgb(123, 234, 123);\"></td><td title=\"Index: [7, 3]&#10;Color: (123, 234, 123)\" style=\"width: 20px; height: 20px;background-color: rgb(123, 234, 123);\"></td><td title=\"Index: [7, 4]&#10;Color: (123, 234, 123)\" style=\"width: 20px; height: 20px;background-color: rgb(123, 234, 123);\"></td><td title=\"Index: [7, 5]&#10;Color: (123, 234, 123)\" style=\"width: 20px; height: 20px;background-color: rgb(123, 234, 123);\"></td><td title=\"Index: [7, 6]&#10;Color: (123, 234, 123)\" style=\"width: 20px; height: 20px;background-color: rgb(123, 234, 123);\"></td><td title=\"Index: [7, 7]&#10;Color: (123, 234, 123)\" style=\"width: 20px; height: 20px;background-color: rgb(123, 234, 123);\"></td></tr></tbody></table>"
       ],
       "metadata": {},
       "output_type": "pyout",
       "prompt_number": 126,
       "text": [
        "<ipythonblocks.ipythonblocks.BlockGrid at 0x106afbf50>"
       ]
      }
     ],
     "prompt_number": 126
    },
    {
     "cell_type": "code",
     "collapsed": false,
     "input": [
      "for block in grid:\n",
      "    if block.col == 0 or block.col == 7:\n",
      "        block.red = 0\n",
      "        block.green = 0\n",
      "        block.blue = 0\n",
      "    if block.row == block.col:\n",
      "        block.red = 0\n",
      "        block.green = 0\n",
      "        block.blue = 0\n",
      "grid"
     ],
     "language": "python",
     "metadata": {},
     "outputs": [
      {
       "html": [
        "<style type=\"text/css\">table.blockgrid {border: none;} .blockgrid tr {border: none;} .blockgrid td {padding: 0px;} #blocks05cec932-f6bf-4c7c-bf84-3c684766b7f0 td {border: 1px solid white;}</style><table id=\"blocks05cec932-f6bf-4c7c-bf84-3c684766b7f0\" class=\"blockgrid\"><tbody><tr><td title=\"Index: [0, 0]&#10;Color: (0, 0, 0)\" style=\"width: 20px; height: 20px;background-color: rgb(0, 0, 0);\"></td><td title=\"Index: [0, 1]&#10;Color: (123, 234, 123)\" style=\"width: 20px; height: 20px;background-color: rgb(123, 234, 123);\"></td><td title=\"Index: [0, 2]&#10;Color: (123, 234, 123)\" style=\"width: 20px; height: 20px;background-color: rgb(123, 234, 123);\"></td><td title=\"Index: [0, 3]&#10;Color: (123, 234, 123)\" style=\"width: 20px; height: 20px;background-color: rgb(123, 234, 123);\"></td><td title=\"Index: [0, 4]&#10;Color: (123, 234, 123)\" style=\"width: 20px; height: 20px;background-color: rgb(123, 234, 123);\"></td><td title=\"Index: [0, 5]&#10;Color: (123, 234, 123)\" style=\"width: 20px; height: 20px;background-color: rgb(123, 234, 123);\"></td><td title=\"Index: [0, 6]&#10;Color: (123, 234, 123)\" style=\"width: 20px; height: 20px;background-color: rgb(123, 234, 123);\"></td><td title=\"Index: [0, 7]&#10;Color: (0, 0, 0)\" style=\"width: 20px; height: 20px;background-color: rgb(0, 0, 0);\"></td></tr><tr><td title=\"Index: [1, 0]&#10;Color: (0, 0, 0)\" style=\"width: 20px; height: 20px;background-color: rgb(0, 0, 0);\"></td><td title=\"Index: [1, 1]&#10;Color: (0, 0, 0)\" style=\"width: 20px; height: 20px;background-color: rgb(0, 0, 0);\"></td><td title=\"Index: [1, 2]&#10;Color: (123, 234, 123)\" style=\"width: 20px; height: 20px;background-color: rgb(123, 234, 123);\"></td><td title=\"Index: [1, 3]&#10;Color: (123, 234, 123)\" style=\"width: 20px; height: 20px;background-color: rgb(123, 234, 123);\"></td><td title=\"Index: [1, 4]&#10;Color: (123, 234, 123)\" style=\"width: 20px; height: 20px;background-color: rgb(123, 234, 123);\"></td><td title=\"Index: [1, 5]&#10;Color: (123, 234, 123)\" style=\"width: 20px; height: 20px;background-color: rgb(123, 234, 123);\"></td><td title=\"Index: [1, 6]&#10;Color: (123, 234, 123)\" style=\"width: 20px; height: 20px;background-color: rgb(123, 234, 123);\"></td><td title=\"Index: [1, 7]&#10;Color: (0, 0, 0)\" style=\"width: 20px; height: 20px;background-color: rgb(0, 0, 0);\"></td></tr><tr><td title=\"Index: [2, 0]&#10;Color: (0, 0, 0)\" style=\"width: 20px; height: 20px;background-color: rgb(0, 0, 0);\"></td><td title=\"Index: [2, 1]&#10;Color: (123, 234, 123)\" style=\"width: 20px; height: 20px;background-color: rgb(123, 234, 123);\"></td><td title=\"Index: [2, 2]&#10;Color: (0, 0, 0)\" style=\"width: 20px; height: 20px;background-color: rgb(0, 0, 0);\"></td><td title=\"Index: [2, 3]&#10;Color: (123, 234, 123)\" style=\"width: 20px; height: 20px;background-color: rgb(123, 234, 123);\"></td><td title=\"Index: [2, 4]&#10;Color: (123, 234, 123)\" style=\"width: 20px; height: 20px;background-color: rgb(123, 234, 123);\"></td><td title=\"Index: [2, 5]&#10;Color: (123, 234, 123)\" style=\"width: 20px; height: 20px;background-color: rgb(123, 234, 123);\"></td><td title=\"Index: [2, 6]&#10;Color: (123, 234, 123)\" style=\"width: 20px; height: 20px;background-color: rgb(123, 234, 123);\"></td><td title=\"Index: [2, 7]&#10;Color: (0, 0, 0)\" style=\"width: 20px; height: 20px;background-color: rgb(0, 0, 0);\"></td></tr><tr><td title=\"Index: [3, 0]&#10;Color: (0, 0, 0)\" style=\"width: 20px; height: 20px;background-color: rgb(0, 0, 0);\"></td><td title=\"Index: [3, 1]&#10;Color: (123, 234, 123)\" style=\"width: 20px; height: 20px;background-color: rgb(123, 234, 123);\"></td><td title=\"Index: [3, 2]&#10;Color: (123, 234, 123)\" style=\"width: 20px; height: 20px;background-color: rgb(123, 234, 123);\"></td><td title=\"Index: [3, 3]&#10;Color: (0, 0, 0)\" style=\"width: 20px; height: 20px;background-color: rgb(0, 0, 0);\"></td><td title=\"Index: [3, 4]&#10;Color: (123, 234, 123)\" style=\"width: 20px; height: 20px;background-color: rgb(123, 234, 123);\"></td><td title=\"Index: [3, 5]&#10;Color: (123, 234, 123)\" style=\"width: 20px; height: 20px;background-color: rgb(123, 234, 123);\"></td><td title=\"Index: [3, 6]&#10;Color: (123, 234, 123)\" style=\"width: 20px; height: 20px;background-color: rgb(123, 234, 123);\"></td><td title=\"Index: [3, 7]&#10;Color: (0, 0, 0)\" style=\"width: 20px; height: 20px;background-color: rgb(0, 0, 0);\"></td></tr><tr><td title=\"Index: [4, 0]&#10;Color: (0, 0, 0)\" style=\"width: 20px; height: 20px;background-color: rgb(0, 0, 0);\"></td><td title=\"Index: [4, 1]&#10;Color: (123, 234, 123)\" style=\"width: 20px; height: 20px;background-color: rgb(123, 234, 123);\"></td><td title=\"Index: [4, 2]&#10;Color: (123, 234, 123)\" style=\"width: 20px; height: 20px;background-color: rgb(123, 234, 123);\"></td><td title=\"Index: [4, 3]&#10;Color: (123, 234, 123)\" style=\"width: 20px; height: 20px;background-color: rgb(123, 234, 123);\"></td><td title=\"Index: [4, 4]&#10;Color: (0, 0, 0)\" style=\"width: 20px; height: 20px;background-color: rgb(0, 0, 0);\"></td><td title=\"Index: [4, 5]&#10;Color: (123, 234, 123)\" style=\"width: 20px; height: 20px;background-color: rgb(123, 234, 123);\"></td><td title=\"Index: [4, 6]&#10;Color: (123, 234, 123)\" style=\"width: 20px; height: 20px;background-color: rgb(123, 234, 123);\"></td><td title=\"Index: [4, 7]&#10;Color: (0, 0, 0)\" style=\"width: 20px; height: 20px;background-color: rgb(0, 0, 0);\"></td></tr><tr><td title=\"Index: [5, 0]&#10;Color: (0, 0, 0)\" style=\"width: 20px; height: 20px;background-color: rgb(0, 0, 0);\"></td><td title=\"Index: [5, 1]&#10;Color: (123, 234, 123)\" style=\"width: 20px; height: 20px;background-color: rgb(123, 234, 123);\"></td><td title=\"Index: [5, 2]&#10;Color: (123, 234, 123)\" style=\"width: 20px; height: 20px;background-color: rgb(123, 234, 123);\"></td><td title=\"Index: [5, 3]&#10;Color: (123, 234, 123)\" style=\"width: 20px; height: 20px;background-color: rgb(123, 234, 123);\"></td><td title=\"Index: [5, 4]&#10;Color: (123, 234, 123)\" style=\"width: 20px; height: 20px;background-color: rgb(123, 234, 123);\"></td><td title=\"Index: [5, 5]&#10;Color: (0, 0, 0)\" style=\"width: 20px; height: 20px;background-color: rgb(0, 0, 0);\"></td><td title=\"Index: [5, 6]&#10;Color: (123, 234, 123)\" style=\"width: 20px; height: 20px;background-color: rgb(123, 234, 123);\"></td><td title=\"Index: [5, 7]&#10;Color: (0, 0, 0)\" style=\"width: 20px; height: 20px;background-color: rgb(0, 0, 0);\"></td></tr><tr><td title=\"Index: [6, 0]&#10;Color: (0, 0, 0)\" style=\"width: 20px; height: 20px;background-color: rgb(0, 0, 0);\"></td><td title=\"Index: [6, 1]&#10;Color: (123, 234, 123)\" style=\"width: 20px; height: 20px;background-color: rgb(123, 234, 123);\"></td><td title=\"Index: [6, 2]&#10;Color: (123, 234, 123)\" style=\"width: 20px; height: 20px;background-color: rgb(123, 234, 123);\"></td><td title=\"Index: [6, 3]&#10;Color: (123, 234, 123)\" style=\"width: 20px; height: 20px;background-color: rgb(123, 234, 123);\"></td><td title=\"Index: [6, 4]&#10;Color: (123, 234, 123)\" style=\"width: 20px; height: 20px;background-color: rgb(123, 234, 123);\"></td><td title=\"Index: [6, 5]&#10;Color: (123, 234, 123)\" style=\"width: 20px; height: 20px;background-color: rgb(123, 234, 123);\"></td><td title=\"Index: [6, 6]&#10;Color: (0, 0, 0)\" style=\"width: 20px; height: 20px;background-color: rgb(0, 0, 0);\"></td><td title=\"Index: [6, 7]&#10;Color: (0, 0, 0)\" style=\"width: 20px; height: 20px;background-color: rgb(0, 0, 0);\"></td></tr><tr><td title=\"Index: [7, 0]&#10;Color: (0, 0, 0)\" style=\"width: 20px; height: 20px;background-color: rgb(0, 0, 0);\"></td><td title=\"Index: [7, 1]&#10;Color: (123, 234, 123)\" style=\"width: 20px; height: 20px;background-color: rgb(123, 234, 123);\"></td><td title=\"Index: [7, 2]&#10;Color: (123, 234, 123)\" style=\"width: 20px; height: 20px;background-color: rgb(123, 234, 123);\"></td><td title=\"Index: [7, 3]&#10;Color: (123, 234, 123)\" style=\"width: 20px; height: 20px;background-color: rgb(123, 234, 123);\"></td><td title=\"Index: [7, 4]&#10;Color: (123, 234, 123)\" style=\"width: 20px; height: 20px;background-color: rgb(123, 234, 123);\"></td><td title=\"Index: [7, 5]&#10;Color: (123, 234, 123)\" style=\"width: 20px; height: 20px;background-color: rgb(123, 234, 123);\"></td><td title=\"Index: [7, 6]&#10;Color: (123, 234, 123)\" style=\"width: 20px; height: 20px;background-color: rgb(123, 234, 123);\"></td><td title=\"Index: [7, 7]&#10;Color: (0, 0, 0)\" style=\"width: 20px; height: 20px;background-color: rgb(0, 0, 0);\"></td></tr></tbody></table>"
       ],
       "metadata": {},
       "output_type": "pyout",
       "prompt_number": 127,
       "text": [
        "<ipythonblocks.ipythonblocks.BlockGrid at 0x106afbf50>"
       ]
      }
     ],
     "prompt_number": 127
    },
    {
     "cell_type": "heading",
     "level": 2,
     "metadata": {},
     "source": [
      "Question 3"
     ]
    },
    {
     "cell_type": "markdown",
     "metadata": {},
     "source": [
      "\"99 Bottles of Beer\" is a traditional song in the United States and Canada. It is popular to sing on long trips, as it has a very repetitive format which is easy to memorize, and can take a long time to sing. The song's simple lyrics are as follows:\n",
      "99 bottles of beer on the wall, 99 bottles of beer.  \n",
      "Take one down, pass it around, 98 bottles of beer on the wall.\n",
      "The same verse is repeated, each time with one fewer bottle. The song is completed when the singer or singers reach zero.\n",
      "Your task here is to write a program capable of generating all the verses of the song."
     ]
    },
    {
     "cell_type": "code",
     "collapsed": false,
     "input": [
      "FirstLine = 'bottles of beer on the wall,'\n",
      "SecondLine = 'bottles of beer. '\n",
      "ThirdLine = 'Take one down pass it around,'\n",
      "FourthLine = 'bottles of beer on the wall.'\n",
      "beer = 99\n",
      "\n",
      "while beer >0:\n",
      "    print beer, FirstLine, beer, SecondLine, ThirdLine, beer - 1, FourthLine\n",
      "    beer -= 1"
     ],
     "language": "python",
     "metadata": {},
     "outputs": [
      {
       "output_type": "stream",
       "stream": "stdout",
       "text": [
        "99 bottles of beer on the wall, 99 bottles of beer.  Take one down pass it around, 98 bottles of beer on the wall.\n",
        "98 bottles of beer on the wall, 98 bottles of beer.  Take one down pass it around, 97 bottles of beer on the wall.\n",
        "97 bottles of beer on the wall, 97 bottles of beer.  Take one down pass it around, 96 bottles of beer on the wall.\n",
        "96 bottles of beer on the wall, 96 bottles of beer.  Take one down pass it around, 95 bottles of beer on the wall.\n",
        "95 bottles of beer on the wall, 95 bottles of beer.  Take one down pass it around, 94 bottles of beer on the wall.\n",
        "94 bottles of beer on the wall, 94 bottles of beer.  Take one down pass it around, 93 bottles of beer on the wall.\n",
        "93 bottles of beer on the wall, 93 bottles of beer.  Take one down pass it around, 92 bottles of beer on the wall.\n",
        "92 bottles of beer on the wall, 92 bottles of beer.  Take one down pass it around, 91 bottles of beer on the wall.\n",
        "91 bottles of beer on the wall, 91 bottles of beer.  Take one down pass it around, 90 bottles of beer on the wall.\n",
        "90 bottles of beer on the wall, 90 bottles of beer.  Take one down pass it around, 89 bottles of beer on the wall.\n",
        "89 bottles of beer on the wall, 89 bottles of beer.  Take one down pass it around, 88 bottles of beer on the wall.\n",
        "88 bottles of beer on the wall, 88 bottles of beer.  Take one down pass it around, 87 bottles of beer on the wall.\n",
        "87 bottles of beer on the wall, 87 bottles of beer.  Take one down pass it around, 86 bottles of beer on the wall.\n",
        "86 bottles of beer on the wall, 86 bottles of beer.  Take one down pass it around, 85 bottles of beer on the wall.\n",
        "85 bottles of beer on the wall, 85 bottles of beer.  Take one down pass it around, 84 bottles of beer on the wall.\n",
        "84 bottles of beer on the wall, 84 bottles of beer.  Take one down pass it around, 83 bottles of beer on the wall.\n",
        "83 bottles of beer on the wall, 83 bottles of beer.  Take one down pass it around, 82 bottles of beer on the wall.\n",
        "82 bottles of beer on the wall, 82 bottles of beer.  Take one down pass it around, 81 bottles of beer on the wall.\n",
        "81 bottles of beer on the wall, 81 bottles of beer.  Take one down pass it around, 80 bottles of beer on the wall.\n",
        "80 bottles of beer on the wall, 80 bottles of beer.  Take one down pass it around, 79 bottles of beer on the wall.\n",
        "79 bottles of beer on the wall, 79 bottles of beer.  Take one down pass it around, 78 bottles of beer on the wall.\n",
        "78 bottles of beer on the wall, 78 bottles of beer.  Take one down pass it around, 77 bottles of beer on the wall.\n",
        "77 bottles of beer on the wall, 77 bottles of beer.  Take one down pass it around, 76 bottles of beer on the wall.\n",
        "76 bottles of beer on the wall, 76 bottles of beer.  Take one down pass it around, 75 bottles of beer on the wall.\n",
        "75 bottles of beer on the wall, 75 bottles of beer.  Take one down pass it around, 74 bottles of beer on the wall.\n",
        "74 bottles of beer on the wall, 74 bottles of beer.  Take one down pass it around, 73 bottles of beer on the wall.\n",
        "73 bottles of beer on the wall, 73 bottles of beer.  Take one down pass it around, 72 bottles of beer on the wall.\n",
        "72 bottles of beer on the wall, 72 bottles of beer.  Take one down pass it around, 71 bottles of beer on the wall.\n",
        "71 bottles of beer on the wall, 71 bottles of beer.  Take one down pass it around, 70 bottles of beer on the wall.\n",
        "70 bottles of beer on the wall, 70 bottles of beer.  Take one down pass it around, 69 bottles of beer on the wall.\n",
        "69 bottles of beer on the wall, 69 bottles of beer.  Take one down pass it around, 68 bottles of beer on the wall.\n",
        "68 bottles of beer on the wall, 68 bottles of beer.  Take one down pass it around, 67 bottles of beer on the wall.\n",
        "67 bottles of beer on the wall, 67 bottles of beer.  Take one down pass it around, 66 bottles of beer on the wall.\n",
        "66 bottles of beer on the wall, 66 bottles of beer.  Take one down pass it around, 65 bottles of beer on the wall.\n",
        "65 bottles of beer on the wall, 65 bottles of beer.  Take one down pass it around, 64 bottles of beer on the wall.\n",
        "64 bottles of beer on the wall, 64 bottles of beer.  Take one down pass it around, 63 bottles of beer on the wall.\n",
        "63 bottles of beer on the wall, 63 bottles of beer.  Take one down pass it around, 62 bottles of beer on the wall.\n",
        "62 bottles of beer on the wall, 62 bottles of beer.  Take one down pass it around, 61 bottles of beer on the wall.\n",
        "61 bottles of beer on the wall, 61 bottles of beer.  Take one down pass it around, 60 bottles of beer on the wall.\n",
        "60 bottles of beer on the wall, 60 bottles of beer.  Take one down pass it around, 59 bottles of beer on the wall.\n",
        "59 bottles of beer on the wall, 59 bottles of beer.  Take one down pass it around, 58 bottles of beer on the wall.\n",
        "58 bottles of beer on the wall, 58 bottles of beer.  Take one down pass it around, 57 bottles of beer on the wall.\n",
        "57 bottles of beer on the wall, 57 bottles of beer.  Take one down pass it around, 56 bottles of beer on the wall.\n",
        "56 bottles of beer on the wall, 56 bottles of beer.  Take one down pass it around, 55 bottles of beer on the wall.\n",
        "55 bottles of beer on the wall, 55 bottles of beer.  Take one down pass it around, 54 bottles of beer on the wall.\n",
        "54 bottles of beer on the wall, 54 bottles of beer.  Take one down pass it around, 53 bottles of beer on the wall.\n",
        "53 bottles of beer on the wall, 53 bottles of beer.  Take one down pass it around, 52 bottles of beer on the wall.\n",
        "52 bottles of beer on the wall, 52 bottles of beer.  Take one down pass it around, 51 bottles of beer on the wall.\n",
        "51 bottles of beer on the wall, 51 bottles of beer.  Take one down pass it around, 50 bottles of beer on the wall.\n",
        "50 bottles of beer on the wall, 50 bottles of beer.  Take one down pass it around, 49 bottles of beer on the wall.\n",
        "49 bottles of beer on the wall, 49 bottles of beer.  Take one down pass it around, 48 bottles of beer on the wall.\n",
        "48 bottles of beer on the wall, 48 bottles of beer.  Take one down pass it around, 47 bottles of beer on the wall.\n",
        "47 bottles of beer on the wall, 47 bottles of beer.  Take one down pass it around, 46 bottles of beer on the wall.\n",
        "46 bottles of beer on the wall, 46 bottles of beer.  Take one down pass it around, 45 bottles of beer on the wall.\n",
        "45 bottles of beer on the wall, 45 bottles of beer.  Take one down pass it around, 44 bottles of beer on the wall.\n",
        "44 bottles of beer on the wall, 44 bottles of beer.  Take one down pass it around, 43 bottles of beer on the wall.\n",
        "43 bottles of beer on the wall, 43 bottles of beer.  Take one down pass it around, 42 bottles of beer on the wall.\n",
        "42 bottles of beer on the wall, 42 bottles of beer.  Take one down pass it around, 41 bottles of beer on the wall.\n",
        "41 bottles of beer on the wall, 41 bottles of beer.  Take one down pass it around, 40 bottles of beer on the wall.\n",
        "40 bottles of beer on the wall, 40 bottles of beer.  Take one down pass it around, 39 bottles of beer on the wall.\n",
        "39 bottles of beer on the wall, 39 bottles of beer.  Take one down pass it around, 38 bottles of beer on the wall.\n",
        "38 bottles of beer on the wall, 38 bottles of beer.  Take one down pass it around, 37 bottles of beer on the wall.\n",
        "37 bottles of beer on the wall, 37 bottles of beer.  Take one down pass it around, 36 bottles of beer on the wall.\n",
        "36 bottles of beer on the wall, 36 bottles of beer.  Take one down pass it around, 35 bottles of beer on the wall.\n",
        "35 bottles of beer on the wall, 35 bottles of beer.  Take one down pass it around, 34 bottles of beer on the wall.\n",
        "34 bottles of beer on the wall, 34 bottles of beer.  Take one down pass it around, 33 bottles of beer on the wall.\n",
        "33 bottles of beer on the wall, 33 bottles of beer.  Take one down pass it around, 32 bottles of beer on the wall.\n",
        "32 bottles of beer on the wall, 32 bottles of beer.  Take one down pass it around, 31 bottles of beer on the wall.\n",
        "31 bottles of beer on the wall, 31 bottles of beer.  Take one down pass it around, 30 bottles of beer on the wall.\n",
        "30 bottles of beer on the wall, 30 bottles of beer.  Take one down pass it around, 29 bottles of beer on the wall.\n",
        "29 bottles of beer on the wall, 29 bottles of beer.  Take one down pass it around, 28 bottles of beer on the wall.\n",
        "28 bottles of beer on the wall, 28 bottles of beer.  Take one down pass it around, 27 bottles of beer on the wall.\n",
        "27 bottles of beer on the wall, 27 bottles of beer.  Take one down pass it around, 26 bottles of beer on the wall.\n",
        "26 bottles of beer on the wall, 26 bottles of beer.  Take one down pass it around, 25 bottles of beer on the wall.\n",
        "25 bottles of beer on the wall, 25 bottles of beer.  Take one down pass it around, 24 bottles of beer on the wall.\n",
        "24 bottles of beer on the wall, 24 bottles of beer.  Take one down pass it around, 23 bottles of beer on the wall.\n",
        "23 bottles of beer on the wall, 23 bottles of beer.  Take one down pass it around, 22 bottles of beer on the wall.\n",
        "22 bottles of beer on the wall, 22 bottles of beer.  Take one down pass it around, 21 bottles of beer on the wall.\n",
        "21 bottles of beer on the wall, 21 bottles of beer.  Take one down pass it around, 20 bottles of beer on the wall.\n",
        "20 bottles of beer on the wall, 20 bottles of beer.  Take one down pass it around, 19 bottles of beer on the wall.\n",
        "19 bottles of beer on the wall, 19 bottles of beer.  Take one down pass it around, 18 bottles of beer on the wall.\n",
        "18 bottles of beer on the wall, 18 bottles of beer.  Take one down pass it around, 17 bottles of beer on the wall.\n",
        "17 bottles of beer on the wall, 17 bottles of beer.  Take one down pass it around, 16 bottles of beer on the wall.\n",
        "16 bottles of beer on the wall, 16 bottles of beer.  Take one down pass it around, 15 bottles of beer on the wall.\n",
        "15 bottles of beer on the wall, 15 bottles of beer.  Take one down pass it around, 14 bottles of beer on the wall.\n",
        "14 bottles of beer on the wall, 14 bottles of beer.  Take one down pass it around, 13 bottles of beer on the wall.\n",
        "13 bottles of beer on the wall, 13 bottles of beer.  Take one down pass it around, 12 bottles of beer on the wall.\n",
        "12 bottles of beer on the wall, 12 bottles of beer.  Take one down pass it around, 11 bottles of beer on the wall.\n",
        "11 bottles of beer on the wall, 11 bottles of beer.  Take one down pass it around, 10 bottles of beer on the wall.\n",
        "10 bottles of beer on the wall, 10 bottles of beer.  Take one down pass it around, 9 bottles of beer on the wall.\n",
        "9 bottles of beer on the wall, 9 bottles of beer.  Take one down pass it around, 8 bottles of beer on the wall.\n",
        "8 bottles of beer on the wall, 8 bottles of beer.  Take one down pass it around, 7 bottles of beer on the wall.\n",
        "7 bottles of beer on the wall, 7 bottles of beer.  Take one down pass it around, 6 bottles of beer on the wall.\n",
        "6 bottles of beer on the wall, 6 bottles of beer.  Take one down pass it around, 5 bottles of beer on the wall.\n",
        "5 bottles of beer on the wall, 5 bottles of beer.  Take one down pass it around, 4 bottles of beer on the wall.\n",
        "4 bottles of beer on the wall, 4 bottles of beer.  Take one down pass it around, 3 bottles of beer on the wall.\n",
        "3 bottles of beer on the wall, 3 bottles of beer.  Take one down pass it around, 2 bottles of beer on the wall.\n",
        "2 bottles of beer on the wall, 2 bottles of beer.  Take one down pass it around, 1 bottles of beer on the wall.\n",
        "1 bottles of beer on the wall, 1 bottles of beer.  Take one down pass it around, 0 bottles of beer on the wall.\n"
       ]
      }
     ],
     "prompt_number": 25
    },
    {
     "cell_type": "heading",
     "level": 2,
     "metadata": {},
     "source": [
      "Question 4"
     ]
    },
    {
     "cell_type": "code",
     "collapsed": false,
     "input": [
      "%pylab inline"
     ],
     "language": "python",
     "metadata": {},
     "outputs": [
      {
       "output_type": "stream",
       "stream": "stdout",
       "text": [
        "Populating the interactive namespace from numpy and matplotlib\n"
       ]
      }
     ],
     "prompt_number": 36
    },
    {
     "cell_type": "code",
     "collapsed": false,
     "input": [
      "x = np.linspace(0, 3, 30)\n",
      "y = np.sin(x)\n",
      "plt.plot(x, y, color='red', linewidth=1.0, linestyle = \"-\")\n",
      "plt.plot(x, y, 'd', markersize = 7, color = 'g', label = 'sine')\n",
      "\n",
      "plt.legend(loc='upper left')\n",
      "plt.xlabel('time', fontsize=12)\n",
      "plt.ylabel('hight', fontsize=12)\n",
      "plt.grid()"
     ],
     "language": "python",
     "metadata": {},
     "outputs": [
      {
       "metadata": {},
       "output_type": "display_data",
       "png": "[encoded data removed]",
       "text": [
        "<matplotlib.figure.Figure at 0x106e7be10>"
       ]
      }
     ],
     "prompt_number": 50
    },
    {
     "cell_type": "heading",
     "level": 2,
     "metadata": {},
     "source": [
      "Question 5"
     ]
    },
    {
     "cell_type": "code",
     "collapsed": false,
     "input": [
      "import numpy as np"
     ],
     "language": "python",
     "metadata": {},
     "outputs": [],
     "prompt_number": 52
    },
    {
     "cell_type": "code",
     "collapsed": false,
     "input": [
      "arr = np.random.uniform(10.7, 36.2, [100,5])\n",
      "arr.shape\n",
      "print arr"
     ],
     "language": "python",
     "metadata": {},
     "outputs": [
      {
       "output_type": "stream",
       "stream": "stdout",
       "text": [
        "[[ 14.19436226  22.86631038  30.32084459  14.04977757  18.95288215]\n",
        " [ 34.55553832  17.35629124  11.1192895   23.31073449  19.33823385]\n",
        " [ 19.47359358  17.95885238  11.3629792   22.69327976  24.98858078]\n",
        " [ 18.25781183  26.3832463   24.29357848  22.27886501  16.71210226]\n",
        " [ 13.11409973  22.30331613  24.00447485  20.84093229  25.98021302]\n",
        " [ 30.71817875  10.905481    25.7731765   18.82835411  34.87297482]\n",
        " [ 31.79624043  22.74945096  32.57012956  18.8004971   18.78633776]\n",
        " [ 32.70641083  33.36196825  11.81890306  32.49845713  15.35810559]\n",
        " [ 14.37382681  24.45642925  11.07168793  23.11563019  19.64413474]\n",
        " [ 26.1752115   21.63410655  18.12129008  30.3446155   15.57322713]\n",
        " [ 27.99341638  22.44579832  26.0375593   27.0680207   12.29874067]\n",
        " [ 14.1127671   15.51241337  20.45333347  34.52707921  34.05218109]\n",
        " [ 12.76495534  31.26142976  30.08459222  18.3361708   34.31297882]\n",
        " [ 27.29965988  16.13546168  21.09377294  16.59476019  19.70674252]\n",
        " [ 21.56340542  25.05460176  35.51181625  26.91060634  13.3387559 ]\n",
        " [ 30.08683511  30.27926802  15.3999495   35.80384488  28.90501423]\n",
        " [ 33.27442252  30.58585867  30.43085089  32.70055735  35.18497982]\n",
        " [ 27.94934597  16.02406038  34.11239118  35.97806798  35.87581589]\n",
        " [ 19.12160518  21.43421226  31.86951599  15.8266505   15.221123  ]\n",
        " [ 27.95068896  11.18544689  15.04539821  21.37077765  15.79141451]\n",
        " [ 27.47372667  25.70936832  25.54551908  16.28812948  13.31204393]\n",
        " [ 13.8426903   27.79888537  11.77096602  26.50867603  29.56291625]\n",
        " [ 28.77502772  24.22725153  35.29840264  31.58293546  20.99647531]\n",
        " [ 28.69686707  14.07750712  16.89983741  31.55359306  10.87433106]\n",
        " [ 17.51321538  32.41143845  35.95748863  23.70854784  24.37934095]\n",
        " [ 27.55942704  30.22984834  19.43000126  31.94983819  22.68085224]\n",
        " [ 26.14402811  16.27397751  26.38506849  26.25397729  31.90589058]\n",
        " [ 22.44818077  35.02765789  35.14716733  19.18061862  12.02967894]\n",
        " [ 19.54009785  35.7129807   17.4501203   15.95404526  15.89949327]\n",
        " [ 12.81984317  24.84803779  20.22938215  31.04404426  25.18528679]\n",
        " [ 33.62113672  30.34613771  24.33056147  14.14265901  34.63236822]\n",
        " [ 17.28534407  32.33818514  32.99716156  26.47412473  23.52342055]\n",
        " [ 17.13716333  14.9692249   22.64357223  19.28104808  30.64496418]\n",
        " [ 20.42235839  21.96541742  18.71241424  16.92312002  18.55806536]\n",
        " [ 25.2715899   31.86667977  30.83094456  28.46125947  27.14275543]\n",
        " [ 20.84451326  25.43676731  25.24295386  34.58394337  30.10847068]\n",
        " [ 30.39735718  18.9994217   31.29007888  14.42628357  13.03049502]\n",
        " [ 13.83710056  29.53222333  24.8696133   19.41789047  24.09965912]\n",
        " [ 23.03754221  10.87767038  34.2892671   18.58949741  11.49396255]\n",
        " [ 16.66231466  23.67177046  32.35599292  17.4083961   17.73400365]\n",
        " [ 12.15226242  23.77422957  28.56445249  31.88469324  13.06282805]\n",
        " [ 16.480392    26.32142159  26.668932    34.57395238  28.97166538]\n",
        " [ 31.99221745  15.94971307  29.43513771  31.37989726  24.88656254]\n",
        " [ 19.88482579  25.4692315   34.40706902  22.66893731  31.60448191]\n",
        " [ 21.76926165  23.45005187  12.15603627  30.97838047  26.19509932]\n",
        " [ 33.12270499  16.36558496  21.14190795  10.89499167  21.92260412]\n",
        " [ 16.6766517   29.62270599  33.70178421  31.9378038   30.61583135]\n",
        " [ 18.21973323  18.32381719  10.80199744  24.26062944  32.47248897]\n",
        " [ 30.3649543   13.52884191  24.01992508  14.36978809  18.56924451]\n",
        " [ 13.94462708  30.1985893   29.80772771  23.27476158  12.77804501]\n",
        " [ 24.47370711  14.68773217  14.06950977  27.7565866   32.79824688]\n",
        " [ 15.11314319  18.98697731  11.83813603  30.52482743  34.0097407 ]\n",
        " [ 23.80173485  33.00279044  22.64021075  29.73646552  29.06099618]\n",
        " [ 22.61110632  12.67174454  30.4414466   14.19130742  27.50066498]\n",
        " [ 29.53783669  13.65872123  28.53043189  19.09345731  21.71911811]\n",
        " [ 17.23715372  17.40638018  10.8069617   35.94729107  14.6703963 ]\n",
        " [ 27.22773746  32.50663037  32.78151156  19.78300042  10.95689448]\n",
        " [ 16.53570405  26.77600943  29.90991764  26.49027694  10.84125724]\n",
        " [ 19.02765606  12.24400884  20.10497694  16.02385681  22.89948524]\n",
        " [ 32.79779539  15.54708588  16.46379577  15.50764231  21.81246986]\n",
        " [ 13.5960814   32.98835519  21.46058571  22.57570883  16.38043336]\n",
        " [ 20.25560082  29.894796    26.4371853   30.42899788  11.70452627]\n",
        " [ 24.23716878  27.66638352  16.15213272  36.13126698  35.03585191]\n",
        " [ 22.78964986  21.62700343  35.55130989  35.15663465  34.84935085]\n",
        " [ 18.17090072  21.90358225  23.41994886  21.46717301  31.19411127]\n",
        " [ 35.1091781   24.29147622  18.27043041  25.07434353  29.26459925]\n",
        " [ 11.35214879  28.0399769   34.07682141  10.95566871  32.78734516]\n",
        " [ 11.73356686  23.86706295  31.87347648  29.14896983  27.67009599]\n",
        " [ 30.3518456   22.17279796  16.93488225  28.56457915  16.25658894]\n",
        " [ 19.43924812  28.04579416  26.57123377  16.17400601  28.01512386]\n",
        " [ 25.34707029  32.10497445  26.03809104  17.24097165  32.67116967]\n",
        " [ 23.16283957  29.0367917   30.01445358  33.38155375  30.11865574]\n",
        " [ 15.29909665  18.67968555  20.59598372  36.07972753  14.26663122]\n",
        " [ 17.56843468  33.49308983  32.94272097  16.85034061  25.12566663]\n",
        " [ 21.47035219  31.05354178  22.22142909  27.32419392  35.23980564]\n",
        " [ 32.81410957  33.3930724   29.26713119  14.49953081  20.69951954]\n",
        " [ 19.97869288  13.70752175  30.71238818  26.39210992  17.82287049]\n",
        " [ 29.45967742  11.35628807  33.59275635  23.2064233   11.89624332]\n",
        " [ 13.07643546  20.86083752  32.59109018  19.7482148   17.55095792]\n",
        " [ 20.79980662  32.77765639  27.23922774  20.69676295  16.16059761]\n",
        " [ 27.8137715   20.90455799  14.36118291  31.07569234  34.16193362]\n",
        " [ 31.86730016  18.81354538  22.0938881   12.87490858  22.24127136]\n",
        " [ 22.99793467  29.12673544  24.33763282  11.29166225  27.54073762]\n",
        " [ 17.66693662  20.29308668  33.03074437  11.76955448  11.78394299]\n",
        " [ 13.96595666  25.24922229  29.39209389  20.48277608  17.95379557]\n",
        " [ 30.34683427  31.44292703  25.30061104  20.68102172  32.09980152]\n",
        " [ 13.49775992  24.53305133  31.87966322  28.95688102  21.04398492]\n",
        " [ 27.61702477  20.18280852  34.62346851  23.61020971  19.52347021]\n",
        " [ 25.70660598  11.11045381  16.38738875  24.96466816  17.68519448]\n",
        " [ 13.30792768  15.76466654  21.81565694  14.4965878   34.12365009]\n",
        " [ 27.79251466  14.78176476  34.32560894  19.45337626  18.68363104]\n",
        " [ 31.31717575  11.49892436  12.26744737  33.55274237  22.0321258 ]\n",
        " [ 20.73746853  12.68180783  14.28405047  28.02009534  31.50043434]\n",
        " [ 13.12560179  29.88559235  23.76583856  19.6041127   32.68154226]\n",
        " [ 30.86073509  30.44391669  15.70050768  13.45292511  20.6311274 ]\n",
        " [ 12.95436417  26.56285617  29.99419998  34.11539262  19.06436323]\n",
        " [ 21.48311682  35.96770007  23.21751004  19.07798047  30.78089624]\n",
        " [ 25.11642487  21.73851778  16.47360257  13.22699951  18.01739693]\n",
        " [ 16.45277172  31.73374395  19.99257905  22.13090815  27.39502242]\n",
        " [ 18.8878941   10.96606893  27.22921258  21.86796951  35.51754546]]\n"
       ]
      }
     ],
     "prompt_number": 65
    },
    {
     "cell_type": "code",
     "collapsed": false,
     "input": [
      "today = !date\n",
      "date = 'number', str(today), 'file'\n",
      "print date\n",
      "savetxt('numbers.txt', arr, fmt=('%4.3f  '*5), header = \"number \\n29 April 2014  \\nfile\")"
     ],
     "language": "python",
     "metadata": {},
     "outputs": [
      {
       "output_type": "stream",
       "stream": "stdout",
       "text": [
        "('number', \"['Tue Apr 29 13:46:37 PDT 2014']\", 'file')\n"
       ]
      }
     ],
     "prompt_number": 121
    },
    {
     "cell_type": "code",
     "collapsed": false,
     "input": [
      "!cat numbers.txt"
     ],
     "language": "python",
     "metadata": {},
     "outputs": [
      {
       "output_type": "stream",
       "stream": "stdout",
       "text": [
        "# number \r\n",
        "# 29 April 2014  \r\n",
        "# file\r\n",
        "14.194  22.866  30.321  14.050  18.953  \r\n",
        "34.556  17.356  11.119  23.311  19.338  \r\n",
        "19.474  17.959  11.363  22.693  24.989  \r\n",
        "18.258  26.383  24.294  22.279  16.712  \r\n",
        "13.114  22.303  24.004  20.841  25.980  \r\n",
        "30.718  10.905  25.773  18.828  34.873  \r\n",
        "31.796  22.749  32.570  18.800  18.786  \r\n",
        "32.706  33.362  11.819  32.498  15.358  \r\n",
        "14.374  24.456  11.072  23.116  19.644  \r\n",
        "26.175  21.634  18.121  30.345  15.573  \r\n",
        "27.993  22.446  26.038  27.068  12.299  \r\n",
        "14.113  15.512  20.453  34.527  34.052  \r\n",
        "12.765  31.261  30.085  18.336  34.313  \r\n",
        "27.300  16.135  21.094  16.595  19.707  \r\n",
        "21.563  25.055  35.512  26.911  13.339  \r\n",
        "30.087  30.279  15.400  35.804  28.905  \r\n",
        "33.274  30.586  30.431  32.701  35.185  \r\n",
        "27.949  16.024  34.112  35.978  35.876  \r\n",
        "19.122  21.434  31.870  15.827  15.221  \r\n",
        "27.951  11.185  15.045  21.371  15.791  \r\n",
        "27.474  25.709  25.546  16.288  13.312  \r\n",
        "13.843  27.799  11.771  26.509  29.563  \r\n",
        "28.775  24.227  35.298  31.583  20.996  \r\n",
        "28.697  14.078  16.900  31.554  10.874  \r\n",
        "17.513  32.411  35.957  23.709  24.379  \r\n",
        "27.559  30.230  19.430  31.950  22.681  \r\n",
        "26.144  16.274  26.385  26.254  31.906  \r\n",
        "22.448  35.028  35.147  19.181  12.030  \r\n",
        "19.540  35.713  17.450  15.954  15.899  \r\n",
        "12.820  24.848  20.229  31.044  25.185  \r\n",
        "33.621  30.346  24.331  14.143  34.632  \r\n",
        "17.285  32.338  32.997  26.474  23.523  \r\n",
        "17.137  14.969  22.644  19.281  30.645  \r\n",
        "20.422  21.965  18.712  16.923  18.558  \r\n",
        "25.272  31.867  30.831  28.461  27.143  \r\n",
        "20.845  25.437  25.243  34.584  30.108  \r\n",
        "30.397  18.999  31.290  14.426  13.030  \r\n",
        "13.837  29.532  24.870  19.418  24.100  \r\n",
        "23.038  10.878  34.289  18.589  11.494  \r\n",
        "16.662  23.672  32.356  17.408  17.734  \r\n",
        "12.152  23.774  28.564  31.885  13.063  \r\n",
        "16.480  26.321  26.669  34.574  28.972  \r\n",
        "31.992  15.950  29.435  31.380  24.887  \r\n",
        "19.885  25.469  34.407  22.669  31.604  \r\n",
        "21.769  23.450  12.156  30.978  26.195  \r\n",
        "33.123  16.366  21.142  10.895  21.923  \r\n",
        "16.677  29.623  33.702  31.938  30.616  \r\n",
        "18.220  18.324  10.802  24.261  32.472  \r\n",
        "30.365  13.529  24.020  14.370  18.569  \r\n",
        "13.945  30.199  29.808  23.275  12.778  \r\n",
        "24.474  14.688  14.070  27.757  32.798  \r\n",
        "15.113  18.987  11.838  30.525  34.010  \r\n",
        "23.802  33.003  22.640  29.736  29.061  \r\n",
        "22.611  12.672  30.441  14.191  27.501  \r\n",
        "29.538  13.659  28.530  19.093  21.719  \r\n",
        "17.237  17.406  10.807  35.947  14.670  \r\n",
        "27.228  32.507  32.782  19.783  10.957  \r\n",
        "16.536  26.776  29.910  26.490  10.841  \r\n",
        "19.028  12.244  20.105  16.024  22.899  \r\n",
        "32.798  15.547  16.464  15.508  21.812  \r\n",
        "13.596  32.988  21.461  22.576  16.380  \r\n",
        "20.256  29.895  26.437  30.429  11.705  \r\n",
        "24.237  27.666  16.152  36.131  35.036  \r\n",
        "22.790  21.627  35.551  35.157  34.849  \r\n",
        "18.171  21.904  23.420  21.467  31.194  \r\n",
        "35.109  24.291  18.270  25.074  29.265  \r\n",
        "11.352  28.040  34.077  10.956  32.787  \r\n",
        "11.734  23.867  31.873  29.149  27.670  \r\n",
        "30.352  22.173  16.935  28.565  16.257  \r\n",
        "19.439  28.046  26.571  16.174  28.015  \r\n",
        "25.347  32.105  26.038  17.241  32.671  \r\n",
        "23.163  29.037  30.014  33.382  30.119  \r\n",
        "15.299  18.680  20.596  36.080  14.267  \r\n",
        "17.568  33.493  32.943  16.850  25.126  \r\n",
        "21.470  31.054  22.221  27.324  35.240  \r\n",
        "32.814  33.393  29.267  14.500  20.700  \r\n",
        "19.979  13.708  30.712  26.392  17.823  \r\n",
        "29.460  11.356  33.593  23.206  11.896  \r\n",
        "13.076  20.861  32.591  19.748  17.551  \r\n",
        "20.800  32.778  27.239  20.697  16.161  \r\n",
        "27.814  20.905  14.361  31.076  34.162  \r\n",
        "31.867  18.814  22.094  12.875  22.241  \r\n",
        "22.998  29.127  24.338  11.292  27.541  \r\n",
        "17.667  20.293  33.031  11.770  11.784  \r\n",
        "13.966  25.249  29.392  20.483  17.954  \r\n",
        "30.347  31.443  25.301  20.681  32.100  \r\n",
        "13.498  24.533  31.880  28.957  21.044  \r\n",
        "27.617  20.183  34.623  23.610  19.523  \r\n",
        "25.707  11.110  16.387  24.965  17.685  \r\n",
        "13.308  15.765  21.816  14.497  34.124  \r\n",
        "27.793  14.782  34.326  19.453  18.684  \r\n",
        "31.317  11.499  12.267  33.553  22.032  \r\n",
        "20.737  12.682  14.284  28.020  31.500  \r\n",
        "13.126  29.886  23.766  19.604  32.682  \r\n",
        "30.861  30.444  15.701  13.453  20.631  \r\n",
        "12.954  26.563  29.994  34.115  19.064  \r\n",
        "21.483  35.968  23.218  19.078  30.781  \r\n",
        "25.116  21.739  16.474  13.227  18.017  \r\n",
        "16.453  31.734  19.993  22.131  27.395  \r\n",
        "18.888  10.966  27.229  21.868  35.518  \r\n"
       ]
      }
     ],
     "prompt_number": 122
    },
    {
     "cell_type": "code",
     "collapsed": false,
     "input": [
      "!head -10 number.txt"
     ],
     "language": "python",
     "metadata": {},
     "outputs": [
      {
       "output_type": "stream",
       "stream": "stdout",
       "text": [
        "14.194  22.866  30.321  14.050  18.953  \r\n",
        "34.556  17.356  11.119  23.311  19.338  \r\n",
        "19.474  17.959  11.363  22.693  24.989  \r\n",
        "18.258  26.383  24.294  22.279  16.712  \r\n",
        "13.114  22.303  24.004  20.841  25.980  \r\n",
        "30.718  10.905  25.773  18.828  34.873  \r\n",
        "31.796  22.749  32.570  18.800  18.786  \r\n",
        "32.706  33.362  11.819  32.498  15.358  \r\n",
        "14.374  24.456  11.072  23.116  19.644  \r\n",
        "26.175  21.634  18.121  30.345  15.573  \r\n"
       ]
      }
     ],
     "prompt_number": 94
    },
    {
     "cell_type": "code",
     "collapsed": false,
     "input": [
      "arr2 = np.loadtxt('number.txt')\n",
      "print arr2[0:10]"
     ],
     "language": "python",
     "metadata": {},
     "outputs": [
      {
       "output_type": "stream",
       "stream": "stdout",
       "text": [
        "[[ 14.194  22.866  30.321  14.05   18.953]\n",
        " [ 34.556  17.356  11.119  23.311  19.338]\n",
        " [ 19.474  17.959  11.363  22.693  24.989]\n",
        " [ 18.258  26.383  24.294  22.279  16.712]\n",
        " [ 13.114  22.303  24.004  20.841  25.98 ]\n",
        " [ 30.718  10.905  25.773  18.828  34.873]\n",
        " [ 31.796  22.749  32.57   18.8    18.786]\n",
        " [ 32.706  33.362  11.819  32.498  15.358]\n",
        " [ 14.374  24.456  11.072  23.116  19.644]\n",
        " [ 26.175  21.634  18.121  30.345  15.573]]\n"
       ]
      }
     ],
     "prompt_number": 97
    },
    {
     "cell_type": "code",
     "collapsed": false,
     "input": [],
     "language": "python",
     "metadata": {},
     "outputs": []
    }
   ],
   "metadata": {}
  }
 ]
}