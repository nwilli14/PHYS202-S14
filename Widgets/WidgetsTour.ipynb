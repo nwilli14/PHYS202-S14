{
 "metadata": {
  "name": "",
  "signature": "sha256:06d9fe4330f98457832e93368a4dae925d475be0a9e1350bf09da4d8a8c3bed8"
 },
 "nbformat": 3,
 "nbformat_minor": 0,
 "worksheets": [
  {
   "cells": [
    {
     "cell_type": "code",
     "collapsed": false,
     "input": [
      "%pylab inline"
     ],
     "language": "python",
     "metadata": {},
     "outputs": [
      {
       "output_type": "stream",
       "stream": "stdout",
       "text": [
        "Populating the interactive namespace from numpy and matplotlib\n"
       ]
      }
     ],
     "prompt_number": 1
    },
    {
     "cell_type": "heading",
     "level": 2,
     "metadata": {},
     "source": [
      "mpld3"
     ]
    },
    {
     "cell_type": "markdown",
     "metadata": {},
     "source": [
      "The mpld3 project brings together Matplotlib, the popular Python-based graphing library, and D3js, the popular Javascript library for creating interactive data visualizations for the web. The result is a simple API for exporting your matplotlib graphics to HTML code which can be used within the browser, within standard web pages, blogs, or tools such as the IPython notebook.\n",
      "(Description taken from the mpld3 webpage)\n",
      "To appreciate the power of this API, have a look at the graph below. It is a static png file that is created with Matplotlib. You cannot interact with it."
     ]
    },
    {
     "cell_type": "code",
     "collapsed": false,
     "input": [
      "#scatter points\n",
      "fig, ax = plt.sublots()\n",
      "np.random.seed(0)\n",
      "x, y = np.random.normal(size=(2, 200))"
     ],
     "language": "python",
     "metadata": {},
     "outputs": []
    }
   ],
   "metadata": {}
  }
 ]
}