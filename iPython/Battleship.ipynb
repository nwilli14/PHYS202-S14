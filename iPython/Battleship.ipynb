{
 "metadata": {
  "name": "",
  "signature": "sha256:c7eeb0a62fae4be81eafc98aab5622f52d98fd63cf7551d477f4b020c4ecdfde"
 },
 "nbformat": 3,
 "nbformat_minor": 0,
 "worksheets": [
  {
   "cells": [
    {
     "cell_type": "markdown",
     "metadata": {},
     "source": [
      "This is a Battleship simulator.  You can try to hunt the battleship on the 8 x 8 grid by guessing individual  locations.  The first row is number 1 and the last row is number 8. The columns are indexed the same way, with the first column being numbered at 1 and the last one numbered 8.  You can choose however many turns you want. The Battleship may be placed horizontally or vertically on the board.  If you hit the square Hit all three spots on the ship and you win."
     ]
    },
    {
     "cell_type": "code",
     "collapsed": false,
     "input": [
      "from random import randint\n",
      "from ipythonblocks import BlockGrid\n",
      "grid= BlockGrid(8, 8, fill = (30, 144, 255))\n",
      "\n",
      "\n",
      "print \"Let's play Battleship!\"\n",
      "grid.show()\n",
      "\n",
      "def random_row(grid):\n",
      "    return randint(2, grid.width - 1)\n",
      "\n",
      "def random_col(grid):\n",
      "    return randint(2, grid.height - 1)\n",
      "my_turns = int(raw_input(\"Number of Turns:\"))\n",
      "turn = 0\n",
      "\n",
      "random_num = randint (0, 1)\n",
      "\n",
      "if random_num == 0:\n",
      "    ship_row = random_row(grid)\n",
      "    ship_col = random_col(grid)\n",
      "    ship_row1 = ship_row - 1\n",
      "    ship_row2 = ship_row - 2\n",
      "    ship_col1 = False\n",
      "    ship_col2 = False\n",
      "    \n",
      "elif random_num == 1:\n",
      "    ship_row = random_row(grid)\n",
      "    ship_col = random_col(grid)\n",
      "    ship_col1 = ship_col - 1\n",
      "    ship_col2 = ship_col - 2\n",
      "    ship_row1 = False\n",
      "    ship_row2 = False\n",
      "    \n",
      "\n",
      "for trn in range(my_turns + 1):\n",
      "    guess_row = int(raw_input(\"Guess Row:\")) - 1\n",
      "    guess_col = int(raw_input(\"Guess Col:\")) - 1\n",
      "    \n",
      "    if guess_row == ship_row and guess_col == ship_col:\n",
      "        grid[ship_row, ship_col].red = 255\n",
      "        grid[ship_row, ship_col].green = 0\n",
      "        grid[ship_row, ship_col].blue = 0\n",
      "        turn += 1\n",
      "        print \"HIT\"\n",
      "        print \"on turn\", turn\n",
      "    \n",
      "    elif guess_row == ship_row1 and guess_col == ship_col:\n",
      "        grid[ship_row1, ship_col].red = 255\n",
      "        grid[ship_row1, ship_col].green = 0\n",
      "        grid[ship_row1, ship_col].blue = 0\n",
      "        turn += 1\n",
      "        print \"HIT\"\n",
      "        print \"on turn\", turn\n",
      "    \n",
      "    elif guess_row == ship_row2 and guess_col == ship_col:\n",
      "        grid[ship_row2, ship_col].red = 255\n",
      "        grid[ship_row2, ship_col].green = 0\n",
      "        grid[ship_row2, ship_col].blue = 0\n",
      "        turn += 1\n",
      "        print \"HIT\"\n",
      "        print \"on turn\", turn\n",
      "    \n",
      "    elif guess_row == ship_row and guess_col == ship_col1:\n",
      "        grid[ship_row, ship_col1].red = 255\n",
      "        grid[ship_row, ship_col1].green = 0\n",
      "        grid[ship_row, ship_col1].blue = 0\n",
      "        turn += 1\n",
      "        print \"HIT\"\n",
      "        print \"on turn\", turn\n",
      "    \n",
      "    elif guess_row == ship_row and guess_col == ship_col2:\n",
      "        grid[ship_row, ship_col2].red = 255\n",
      "        grid[ship_row, ship_col2].green = 0\n",
      "        grid[ship_row, ship_col2].blue = 0\n",
      "        turn += 1\n",
      "        print \"HIT\"\n",
      "        print \"on turn\", turn\n",
      "    \n",
      "    else:\n",
      "        if (guess_row < 0 or guess_row > 7) or (guess_col < 0 or guess_col > 7):\n",
      "            print \"Oops, that's not even in the ocean.\"\n",
      "        \n",
      "        elif (grid[guess_row, guess_col].red,grid[guess_row, guess_col].green, grid[guess_row, guess_col].blue)  == (255, 255, 255) or grid[guess_row, guess_col] == (255, 0, 0):\n",
      "            print \"You guessed that one already.\"\n",
      "        \n",
      "        else:\n",
      "            print \"You missed my battleship!\"\n",
      "            grid[guess_row, guess_col] = (255, 255, 255)\n",
      "            turn += 1\n",
      "            print \"on turn\", turn\n",
      " \n",
      "    if grid[ship_row, ship_col].red == 255 and (grid[ship_row1, ship_col].red == 255 or grid[ship_row, ship_col1].red == 255) \\\n",
      "    and (grid[ship_row2, ship_col].red == 255 or grid[ship_row, ship_col2] == 255):\n",
      "        print \"You sunk my Battleship\"\n",
      "        grid.show()\n",
      "        break\n",
      "    \n",
      "    elif turn == my_turns:\n",
      "        if random_num == 0:\n",
      "            grid[ship_row, ship_col].red = 255\n",
      "            grid[ship_row, ship_col].green = 0\n",
      "            grid[ship_row, ship_col].blue = 0\n",
      "            grid[ship_row1, ship_col].red = 255\n",
      "            grid[ship_row1, ship_col].green = 0\n",
      "            grid[ship_row1, ship_col].blue = 0\n",
      "            grid[ship_row2, ship_col].red = 255\n",
      "            grid[ship_row2, ship_col].green = 0\n",
      "            grid[ship_row2, ship_col].blue = 0\n",
      "            print \"Game Over\"\n",
      "        \n",
      "        elif random_num == 1:\n",
      "            grid[ship_row, ship_col].red = 255\n",
      "            grid[ship_row, ship_col].green = 0\n",
      "            grid[ship_row, ship_col].blue = 0\n",
      "            grid[ship_row, ship_col1].red = 255\n",
      "            grid[ship_row, ship_col1].green = 0\n",
      "            grid[ship_row, ship_col1].blue = 0\n",
      "            grid[ship_row, ship_col2].red = 255\n",
      "            grid[ship_row, ship_col2].green = 0\n",
      "            grid[ship_row, ship_col2].blue = 0\n",
      "            print \"Game Over\"\n",
      "\n",
      "    grid.show()"
     ],
     "language": "python",
     "metadata": {},
     "outputs": [
      {
       "output_type": "stream",
       "stream": "stdout",
       "text": [
        "Let's play Battleship!\n"
       ]
      },
      {
       "html": [
        "<style type=\"text/css\">table.blockgrid {border: none;} .blockgrid tr {border: none;} .blockgrid td {padding: 0px;} #blocksb73e6f00-936a-4241-a4db-74a5edb607d0 td {border: 1px solid white;}</style><table id=\"blocksb73e6f00-936a-4241-a4db-74a5edb607d0\" class=\"blockgrid\"><tbody><tr><td title=\"Index: [0, 0]&#10;Color: (30, 144, 255)\" style=\"width: 20px; height: 20px;background-color: rgb(30, 144, 255);\"></td><td title=\"Index: [0, 1]&#10;Color: (30, 144, 255)\" style=\"width: 20px; height: 20px;background-color: rgb(30, 144, 255);\"></td><td title=\"Index: [0, 2]&#10;Color: (30, 144, 255)\" style=\"width: 20px; height: 20px;background-color: rgb(30, 144, 255);\"></td><td title=\"Index: [0, 3]&#10;Color: (30, 144, 255)\" style=\"width: 20px; height: 20px;background-color: rgb(30, 144, 255);\"></td><td title=\"Index: [0, 4]&#10;Color: (30, 144, 255)\" style=\"width: 20px; height: 20px;background-color: rgb(30, 144, 255);\"></td><td title=\"Index: [0, 5]&#10;Color: (30, 144, 255)\" style=\"width: 20px; height: 20px;background-color: rgb(30, 144, 255);\"></td><td title=\"Index: [0, 6]&#10;Color: (30, 144, 255)\" style=\"width: 20px; height: 20px;background-color: rgb(30, 144, 255);\"></td><td title=\"Index: [0, 7]&#10;Color: (30, 144, 255)\" style=\"width: 20px; height: 20px;background-color: rgb(30, 144, 255);\"></td></tr><tr><td title=\"Index: [1, 0]&#10;Color: (30, 144, 255)\" style=\"width: 20px; height: 20px;background-color: rgb(30, 144, 255);\"></td><td title=\"Index: [1, 1]&#10;Color: (30, 144, 255)\" style=\"width: 20px; height: 20px;background-color: rgb(30, 144, 255);\"></td><td title=\"Index: [1, 2]&#10;Color: (30, 144, 255)\" style=\"width: 20px; height: 20px;background-color: rgb(30, 144, 255);\"></td><td title=\"Index: [1, 3]&#10;Color: (30, 144, 255)\" style=\"width: 20px; height: 20px;background-color: rgb(30, 144, 255);\"></td><td title=\"Index: [1, 4]&#10;Color: (30, 144, 255)\" style=\"width: 20px; height: 20px;background-color: rgb(30, 144, 255);\"></td><td title=\"Index: [1, 5]&#10;Color: (30, 144, 255)\" style=\"width: 20px; height: 20px;background-color: rgb(30, 144, 255);\"></td><td title=\"Index: [1, 6]&#10;Color: (30, 144, 255)\" style=\"width: 20px; height: 20px;background-color: rgb(30, 144, 255);\"></td><td title=\"Index: [1, 7]&#10;Color: (30, 144, 255)\" style=\"width: 20px; height: 20px;background-color: rgb(30, 144, 255);\"></td></tr><tr><td title=\"Index: [2, 0]&#10;Color: (30, 144, 255)\" style=\"width: 20px; height: 20px;background-color: rgb(30, 144, 255);\"></td><td title=\"Index: [2, 1]&#10;Color: (30, 144, 255)\" style=\"width: 20px; height: 20px;background-color: rgb(30, 144, 255);\"></td><td title=\"Index: [2, 2]&#10;Color: (30, 144, 255)\" style=\"width: 20px; height: 20px;background-color: rgb(30, 144, 255);\"></td><td title=\"Index: [2, 3]&#10;Color: (30, 144, 255)\" style=\"width: 20px; height: 20px;background-color: rgb(30, 144, 255);\"></td><td title=\"Index: [2, 4]&#10;Color: (30, 144, 255)\" style=\"width: 20px; height: 20px;background-color: rgb(30, 144, 255);\"></td><td title=\"Index: [2, 5]&#10;Color: (30, 144, 255)\" style=\"width: 20px; height: 20px;background-color: rgb(30, 144, 255);\"></td><td title=\"Index: [2, 6]&#10;Color: (30, 144, 255)\" style=\"width: 20px; height: 20px;background-color: rgb(30, 144, 255);\"></td><td title=\"Index: [2, 7]&#10;Color: (30, 144, 255)\" style=\"width: 20px; height: 20px;background-color: rgb(30, 144, 255);\"></td></tr><tr><td title=\"Index: [3, 0]&#10;Color: (30, 144, 255)\" style=\"width: 20px; height: 20px;background-color: rgb(30, 144, 255);\"></td><td title=\"Index: [3, 1]&#10;Color: (30, 144, 255)\" style=\"width: 20px; height: 20px;background-color: rgb(30, 144, 255);\"></td><td title=\"Index: [3, 2]&#10;Color: (30, 144, 255)\" style=\"width: 20px; height: 20px;background-color: rgb(30, 144, 255);\"></td><td title=\"Index: [3, 3]&#10;Color: (30, 144, 255)\" style=\"width: 20px; height: 20px;background-color: rgb(30, 144, 255);\"></td><td title=\"Index: [3, 4]&#10;Color: (30, 144, 255)\" style=\"width: 20px; height: 20px;background-color: rgb(30, 144, 255);\"></td><td title=\"Index: [3, 5]&#10;Color: (30, 144, 255)\" style=\"width: 20px; height: 20px;background-color: rgb(30, 144, 255);\"></td><td title=\"Index: [3, 6]&#10;Color: (30, 144, 255)\" style=\"width: 20px; height: 20px;background-color: rgb(30, 144, 255);\"></td><td title=\"Index: [3, 7]&#10;Color: (30, 144, 255)\" style=\"width: 20px; height: 20px;background-color: rgb(30, 144, 255);\"></td></tr><tr><td title=\"Index: [4, 0]&#10;Color: (30, 144, 255)\" style=\"width: 20px; height: 20px;background-color: rgb(30, 144, 255);\"></td><td title=\"Index: [4, 1]&#10;Color: (30, 144, 255)\" style=\"width: 20px; height: 20px;background-color: rgb(30, 144, 255);\"></td><td title=\"Index: [4, 2]&#10;Color: (30, 144, 255)\" style=\"width: 20px; height: 20px;background-color: rgb(30, 144, 255);\"></td><td title=\"Index: [4, 3]&#10;Color: (30, 144, 255)\" style=\"width: 20px; height: 20px;background-color: rgb(30, 144, 255);\"></td><td title=\"Index: [4, 4]&#10;Color: (30, 144, 255)\" style=\"width: 20px; height: 20px;background-color: rgb(30, 144, 255);\"></td><td title=\"Index: [4, 5]&#10;Color: (30, 144, 255)\" style=\"width: 20px; height: 20px;background-color: rgb(30, 144, 255);\"></td><td title=\"Index: [4, 6]&#10;Color: (30, 144, 255)\" style=\"width: 20px; height: 20px;background-color: rgb(30, 144, 255);\"></td><td title=\"Index: [4, 7]&#10;Color: (30, 144, 255)\" style=\"width: 20px; height: 20px;background-color: rgb(30, 144, 255);\"></td></tr><tr><td title=\"Index: [5, 0]&#10;Color: (30, 144, 255)\" style=\"width: 20px; height: 20px;background-color: rgb(30, 144, 255);\"></td><td title=\"Index: [5, 1]&#10;Color: (30, 144, 255)\" style=\"width: 20px; height: 20px;background-color: rgb(30, 144, 255);\"></td><td title=\"Index: [5, 2]&#10;Color: (30, 144, 255)\" style=\"width: 20px; height: 20px;background-color: rgb(30, 144, 255);\"></td><td title=\"Index: [5, 3]&#10;Color: (30, 144, 255)\" style=\"width: 20px; height: 20px;background-color: rgb(30, 144, 255);\"></td><td title=\"Index: [5, 4]&#10;Color: (30, 144, 255)\" style=\"width: 20px; height: 20px;background-color: rgb(30, 144, 255);\"></td><td title=\"Index: [5, 5]&#10;Color: (30, 144, 255)\" style=\"width: 20px; height: 20px;background-color: rgb(30, 144, 255);\"></td><td title=\"Index: [5, 6]&#10;Color: (30, 144, 255)\" style=\"width: 20px; height: 20px;background-color: rgb(30, 144, 255);\"></td><td title=\"Index: [5, 7]&#10;Color: (30, 144, 255)\" style=\"width: 20px; height: 20px;background-color: rgb(30, 144, 255);\"></td></tr><tr><td title=\"Index: [6, 0]&#10;Color: (30, 144, 255)\" style=\"width: 20px; height: 20px;background-color: rgb(30, 144, 255);\"></td><td title=\"Index: [6, 1]&#10;Color: (30, 144, 255)\" style=\"width: 20px; height: 20px;background-color: rgb(30, 144, 255);\"></td><td title=\"Index: [6, 2]&#10;Color: (30, 144, 255)\" style=\"width: 20px; height: 20px;background-color: rgb(30, 144, 255);\"></td><td title=\"Index: [6, 3]&#10;Color: (30, 144, 255)\" style=\"width: 20px; height: 20px;background-color: rgb(30, 144, 255);\"></td><td title=\"Index: [6, 4]&#10;Color: (30, 144, 255)\" style=\"width: 20px; height: 20px;background-color: rgb(30, 144, 255);\"></td><td title=\"Index: [6, 5]&#10;Color: (30, 144, 255)\" style=\"width: 20px; height: 20px;background-color: rgb(30, 144, 255);\"></td><td title=\"Index: [6, 6]&#10;Color: (30, 144, 255)\" style=\"width: 20px; height: 20px;background-color: rgb(30, 144, 255);\"></td><td title=\"Index: [6, 7]&#10;Color: (30, 144, 255)\" style=\"width: 20px; height: 20px;background-color: rgb(30, 144, 255);\"></td></tr><tr><td title=\"Index: [7, 0]&#10;Color: (30, 144, 255)\" style=\"width: 20px; height: 20px;background-color: rgb(30, 144, 255);\"></td><td title=\"Index: [7, 1]&#10;Color: (30, 144, 255)\" style=\"width: 20px; height: 20px;background-color: rgb(30, 144, 255);\"></td><td title=\"Index: [7, 2]&#10;Color: (30, 144, 255)\" style=\"width: 20px; height: 20px;background-color: rgb(30, 144, 255);\"></td><td title=\"Index: [7, 3]&#10;Color: (30, 144, 255)\" style=\"width: 20px; height: 20px;background-color: rgb(30, 144, 255);\"></td><td title=\"Index: [7, 4]&#10;Color: (30, 144, 255)\" style=\"width: 20px; height: 20px;background-color: rgb(30, 144, 255);\"></td><td title=\"Index: [7, 5]&#10;Color: (30, 144, 255)\" style=\"width: 20px; height: 20px;background-color: rgb(30, 144, 255);\"></td><td title=\"Index: [7, 6]&#10;Color: (30, 144, 255)\" style=\"width: 20px; height: 20px;background-color: rgb(30, 144, 255);\"></td><td title=\"Index: [7, 7]&#10;Color: (30, 144, 255)\" style=\"width: 20px; height: 20px;background-color: rgb(30, 144, 255);\"></td></tr></tbody></table>"
       ],
       "metadata": {},
       "output_type": "display_data",
       "text": [
        "<IPython.core.display.HTML at 0x3ff0e80>"
       ]
      },
      {
       "name": "stdout",
       "output_type": "stream",
       "stream": "stdout",
       "text": [
        "Number of Turns:10\n"
       ]
      },
      {
       "name": "stdout",
       "output_type": "stream",
       "stream": "stdout",
       "text": [
        "Guess Row:3\n"
       ]
      },
      {
       "name": "stdout",
       "output_type": "stream",
       "stream": "stdout",
       "text": [
        "Guess Col:3\n"
       ]
      },
      {
       "output_type": "stream",
       "stream": "stdout",
       "text": [
        "You missed my battleship!\n",
        "on turn 1\n"
       ]
      },
      {
       "html": [
        "<style type=\"text/css\">table.blockgrid {border: none;} .blockgrid tr {border: none;} .blockgrid td {padding: 0px;} #blockse789d019-c47a-4613-85e6-061695f22bbc td {border: 1px solid white;}</style><table id=\"blockse789d019-c47a-4613-85e6-061695f22bbc\" class=\"blockgrid\"><tbody><tr><td title=\"Index: [0, 0]&#10;Color: (30, 144, 255)\" style=\"width: 20px; height: 20px;background-color: rgb(30, 144, 255);\"></td><td title=\"Index: [0, 1]&#10;Color: (30, 144, 255)\" style=\"width: 20px; height: 20px;background-color: rgb(30, 144, 255);\"></td><td title=\"Index: [0, 2]&#10;Color: (30, 144, 255)\" style=\"width: 20px; height: 20px;background-color: rgb(30, 144, 255);\"></td><td title=\"Index: [0, 3]&#10;Color: (30, 144, 255)\" style=\"width: 20px; height: 20px;background-color: rgb(30, 144, 255);\"></td><td title=\"Index: [0, 4]&#10;Color: (30, 144, 255)\" style=\"width: 20px; height: 20px;background-color: rgb(30, 144, 255);\"></td><td title=\"Index: [0, 5]&#10;Color: (30, 144, 255)\" style=\"width: 20px; height: 20px;background-color: rgb(30, 144, 255);\"></td><td title=\"Index: [0, 6]&#10;Color: (30, 144, 255)\" style=\"width: 20px; height: 20px;background-color: rgb(30, 144, 255);\"></td><td title=\"Index: [0, 7]&#10;Color: (30, 144, 255)\" style=\"width: 20px; height: 20px;background-color: rgb(30, 144, 255);\"></td></tr><tr><td title=\"Index: [1, 0]&#10;Color: (30, 144, 255)\" style=\"width: 20px; height: 20px;background-color: rgb(30, 144, 255);\"></td><td title=\"Index: [1, 1]&#10;Color: (30, 144, 255)\" style=\"width: 20px; height: 20px;background-color: rgb(30, 144, 255);\"></td><td title=\"Index: [1, 2]&#10;Color: (30, 144, 255)\" style=\"width: 20px; height: 20px;background-color: rgb(30, 144, 255);\"></td><td title=\"Index: [1, 3]&#10;Color: (30, 144, 255)\" style=\"width: 20px; height: 20px;background-color: rgb(30, 144, 255);\"></td><td title=\"Index: [1, 4]&#10;Color: (30, 144, 255)\" style=\"width: 20px; height: 20px;background-color: rgb(30, 144, 255);\"></td><td title=\"Index: [1, 5]&#10;Color: (30, 144, 255)\" style=\"width: 20px; height: 20px;background-color: rgb(30, 144, 255);\"></td><td title=\"Index: [1, 6]&#10;Color: (30, 144, 255)\" style=\"width: 20px; height: 20px;background-color: rgb(30, 144, 255);\"></td><td title=\"Index: [1, 7]&#10;Color: (30, 144, 255)\" style=\"width: 20px; height: 20px;background-color: rgb(30, 144, 255);\"></td></tr><tr><td title=\"Index: [2, 0]&#10;Color: (30, 144, 255)\" style=\"width: 20px; height: 20px;background-color: rgb(30, 144, 255);\"></td><td title=\"Index: [2, 1]&#10;Color: (30, 144, 255)\" style=\"width: 20px; height: 20px;background-color: rgb(30, 144, 255);\"></td><td title=\"Index: [2, 2]&#10;Color: (255, 255, 255)\" style=\"width: 20px; height: 20px;background-color: rgb(255, 255, 255);\"></td><td title=\"Index: [2, 3]&#10;Color: (30, 144, 255)\" style=\"width: 20px; height: 20px;background-color: rgb(30, 144, 255);\"></td><td title=\"Index: [2, 4]&#10;Color: (30, 144, 255)\" style=\"width: 20px; height: 20px;background-color: rgb(30, 144, 255);\"></td><td title=\"Index: [2, 5]&#10;Color: (30, 144, 255)\" style=\"width: 20px; height: 20px;background-color: rgb(30, 144, 255);\"></td><td title=\"Index: [2, 6]&#10;Color: (30, 144, 255)\" style=\"width: 20px; height: 20px;background-color: rgb(30, 144, 255);\"></td><td title=\"Index: [2, 7]&#10;Color: (30, 144, 255)\" style=\"width: 20px; height: 20px;background-color: rgb(30, 144, 255);\"></td></tr><tr><td title=\"Index: [3, 0]&#10;Color: (30, 144, 255)\" style=\"width: 20px; height: 20px;background-color: rgb(30, 144, 255);\"></td><td title=\"Index: [3, 1]&#10;Color: (30, 144, 255)\" style=\"width: 20px; height: 20px;background-color: rgb(30, 144, 255);\"></td><td title=\"Index: [3, 2]&#10;Color: (30, 144, 255)\" style=\"width: 20px; height: 20px;background-color: rgb(30, 144, 255);\"></td><td title=\"Index: [3, 3]&#10;Color: (30, 144, 255)\" style=\"width: 20px; height: 20px;background-color: rgb(30, 144, 255);\"></td><td title=\"Index: [3, 4]&#10;Color: (30, 144, 255)\" style=\"width: 20px; height: 20px;background-color: rgb(30, 144, 255);\"></td><td title=\"Index: [3, 5]&#10;Color: (30, 144, 255)\" style=\"width: 20px; height: 20px;background-color: rgb(30, 144, 255);\"></td><td title=\"Index: [3, 6]&#10;Color: (30, 144, 255)\" style=\"width: 20px; height: 20px;background-color: rgb(30, 144, 255);\"></td><td title=\"Index: [3, 7]&#10;Color: (30, 144, 255)\" style=\"width: 20px; height: 20px;background-color: rgb(30, 144, 255);\"></td></tr><tr><td title=\"Index: [4, 0]&#10;Color: (30, 144, 255)\" style=\"width: 20px; height: 20px;background-color: rgb(30, 144, 255);\"></td><td title=\"Index: [4, 1]&#10;Color: (30, 144, 255)\" style=\"width: 20px; height: 20px;background-color: rgb(30, 144, 255);\"></td><td title=\"Index: [4, 2]&#10;Color: (30, 144, 255)\" style=\"width: 20px; height: 20px;background-color: rgb(30, 144, 255);\"></td><td title=\"Index: [4, 3]&#10;Color: (30, 144, 255)\" style=\"width: 20px; height: 20px;background-color: rgb(30, 144, 255);\"></td><td title=\"Index: [4, 4]&#10;Color: (30, 144, 255)\" style=\"width: 20px; height: 20px;background-color: rgb(30, 144, 255);\"></td><td title=\"Index: [4, 5]&#10;Color: (30, 144, 255)\" style=\"width: 20px; height: 20px;background-color: rgb(30, 144, 255);\"></td><td title=\"Index: [4, 6]&#10;Color: (30, 144, 255)\" style=\"width: 20px; height: 20px;background-color: rgb(30, 144, 255);\"></td><td title=\"Index: [4, 7]&#10;Color: (30, 144, 255)\" style=\"width: 20px; height: 20px;background-color: rgb(30, 144, 255);\"></td></tr><tr><td title=\"Index: [5, 0]&#10;Color: (30, 144, 255)\" style=\"width: 20px; height: 20px;background-color: rgb(30, 144, 255);\"></td><td title=\"Index: [5, 1]&#10;Color: (30, 144, 255)\" style=\"width: 20px; height: 20px;background-color: rgb(30, 144, 255);\"></td><td title=\"Index: [5, 2]&#10;Color: (30, 144, 255)\" style=\"width: 20px; height: 20px;background-color: rgb(30, 144, 255);\"></td><td title=\"Index: [5, 3]&#10;Color: (30, 144, 255)\" style=\"width: 20px; height: 20px;background-color: rgb(30, 144, 255);\"></td><td title=\"Index: [5, 4]&#10;Color: (30, 144, 255)\" style=\"width: 20px; height: 20px;background-color: rgb(30, 144, 255);\"></td><td title=\"Index: [5, 5]&#10;Color: (30, 144, 255)\" style=\"width: 20px; height: 20px;background-color: rgb(30, 144, 255);\"></td><td title=\"Index: [5, 6]&#10;Color: (30, 144, 255)\" style=\"width: 20px; height: 20px;background-color: rgb(30, 144, 255);\"></td><td title=\"Index: [5, 7]&#10;Color: (30, 144, 255)\" style=\"width: 20px; height: 20px;background-color: rgb(30, 144, 255);\"></td></tr><tr><td title=\"Index: [6, 0]&#10;Color: (30, 144, 255)\" style=\"width: 20px; height: 20px;background-color: rgb(30, 144, 255);\"></td><td title=\"Index: [6, 1]&#10;Color: (30, 144, 255)\" style=\"width: 20px; height: 20px;background-color: rgb(30, 144, 255);\"></td><td title=\"Index: [6, 2]&#10;Color: (30, 144, 255)\" style=\"width: 20px; height: 20px;background-color: rgb(30, 144, 255);\"></td><td title=\"Index: [6, 3]&#10;Color: (30, 144, 255)\" style=\"width: 20px; height: 20px;background-color: rgb(30, 144, 255);\"></td><td title=\"Index: [6, 4]&#10;Color: (30, 144, 255)\" style=\"width: 20px; height: 20px;background-color: rgb(30, 144, 255);\"></td><td title=\"Index: [6, 5]&#10;Color: (30, 144, 255)\" style=\"width: 20px; height: 20px;background-color: rgb(30, 144, 255);\"></td><td title=\"Index: [6, 6]&#10;Color: (30, 144, 255)\" style=\"width: 20px; height: 20px;background-color: rgb(30, 144, 255);\"></td><td title=\"Index: [6, 7]&#10;Color: (30, 144, 255)\" style=\"width: 20px; height: 20px;background-color: rgb(30, 144, 255);\"></td></tr><tr><td title=\"Index: [7, 0]&#10;Color: (30, 144, 255)\" style=\"width: 20px; height: 20px;background-color: rgb(30, 144, 255);\"></td><td title=\"Index: [7, 1]&#10;Color: (30, 144, 255)\" style=\"width: 20px; height: 20px;background-color: rgb(30, 144, 255);\"></td><td title=\"Index: [7, 2]&#10;Color: (30, 144, 255)\" style=\"width: 20px; height: 20px;background-color: rgb(30, 144, 255);\"></td><td title=\"Index: [7, 3]&#10;Color: (30, 144, 255)\" style=\"width: 20px; height: 20px;background-color: rgb(30, 144, 255);\"></td><td title=\"Index: [7, 4]&#10;Color: (30, 144, 255)\" style=\"width: 20px; height: 20px;background-color: rgb(30, 144, 255);\"></td><td title=\"Index: [7, 5]&#10;Color: (30, 144, 255)\" style=\"width: 20px; height: 20px;background-color: rgb(30, 144, 255);\"></td><td title=\"Index: [7, 6]&#10;Color: (30, 144, 255)\" style=\"width: 20px; height: 20px;background-color: rgb(30, 144, 255);\"></td><td title=\"Index: [7, 7]&#10;Color: (30, 144, 255)\" style=\"width: 20px; height: 20px;background-color: rgb(30, 144, 255);\"></td></tr></tbody></table>"
       ],
       "metadata": {},
       "output_type": "display_data",
       "text": [
        "<IPython.core.display.HTML at 0x21bee48>"
       ]
      },
      {
       "name": "stdout",
       "output_type": "stream",
       "stream": "stdout",
       "text": [
        "Guess Row:3\n"
       ]
      },
      {
       "name": "stdout",
       "output_type": "stream",
       "stream": "stdout",
       "text": [
        "Guess Col:3\n"
       ]
      },
      {
       "output_type": "stream",
       "stream": "stdout",
       "text": [
        "You guessed that one already.\n"
       ]
      },
      {
       "html": [
        "<style type=\"text/css\">table.blockgrid {border: none;} .blockgrid tr {border: none;} .blockgrid td {padding: 0px;} #blocks1a9d19e0-bf00-4966-b0a8-d605052bb1a7 td {border: 1px solid white;}</style><table id=\"blocks1a9d19e0-bf00-4966-b0a8-d605052bb1a7\" class=\"blockgrid\"><tbody><tr><td title=\"Index: [0, 0]&#10;Color: (30, 144, 255)\" style=\"width: 20px; height: 20px;background-color: rgb(30, 144, 255);\"></td><td title=\"Index: [0, 1]&#10;Color: (30, 144, 255)\" style=\"width: 20px; height: 20px;background-color: rgb(30, 144, 255);\"></td><td title=\"Index: [0, 2]&#10;Color: (30, 144, 255)\" style=\"width: 20px; height: 20px;background-color: rgb(30, 144, 255);\"></td><td title=\"Index: [0, 3]&#10;Color: (30, 144, 255)\" style=\"width: 20px; height: 20px;background-color: rgb(30, 144, 255);\"></td><td title=\"Index: [0, 4]&#10;Color: (30, 144, 255)\" style=\"width: 20px; height: 20px;background-color: rgb(30, 144, 255);\"></td><td title=\"Index: [0, 5]&#10;Color: (30, 144, 255)\" style=\"width: 20px; height: 20px;background-color: rgb(30, 144, 255);\"></td><td title=\"Index: [0, 6]&#10;Color: (30, 144, 255)\" style=\"width: 20px; height: 20px;background-color: rgb(30, 144, 255);\"></td><td title=\"Index: [0, 7]&#10;Color: (30, 144, 255)\" style=\"width: 20px; height: 20px;background-color: rgb(30, 144, 255);\"></td></tr><tr><td title=\"Index: [1, 0]&#10;Color: (30, 144, 255)\" style=\"width: 20px; height: 20px;background-color: rgb(30, 144, 255);\"></td><td title=\"Index: [1, 1]&#10;Color: (30, 144, 255)\" style=\"width: 20px; height: 20px;background-color: rgb(30, 144, 255);\"></td><td title=\"Index: [1, 2]&#10;Color: (30, 144, 255)\" style=\"width: 20px; height: 20px;background-color: rgb(30, 144, 255);\"></td><td title=\"Index: [1, 3]&#10;Color: (30, 144, 255)\" style=\"width: 20px; height: 20px;background-color: rgb(30, 144, 255);\"></td><td title=\"Index: [1, 4]&#10;Color: (30, 144, 255)\" style=\"width: 20px; height: 20px;background-color: rgb(30, 144, 255);\"></td><td title=\"Index: [1, 5]&#10;Color: (30, 144, 255)\" style=\"width: 20px; height: 20px;background-color: rgb(30, 144, 255);\"></td><td title=\"Index: [1, 6]&#10;Color: (30, 144, 255)\" style=\"width: 20px; height: 20px;background-color: rgb(30, 144, 255);\"></td><td title=\"Index: [1, 7]&#10;Color: (30, 144, 255)\" style=\"width: 20px; height: 20px;background-color: rgb(30, 144, 255);\"></td></tr><tr><td title=\"Index: [2, 0]&#10;Color: (30, 144, 255)\" style=\"width: 20px; height: 20px;background-color: rgb(30, 144, 255);\"></td><td title=\"Index: [2, 1]&#10;Color: (30, 144, 255)\" style=\"width: 20px; height: 20px;background-color: rgb(30, 144, 255);\"></td><td title=\"Index: [2, 2]&#10;Color: (255, 255, 255)\" style=\"width: 20px; height: 20px;background-color: rgb(255, 255, 255);\"></td><td title=\"Index: [2, 3]&#10;Color: (30, 144, 255)\" style=\"width: 20px; height: 20px;background-color: rgb(30, 144, 255);\"></td><td title=\"Index: [2, 4]&#10;Color: (30, 144, 255)\" style=\"width: 20px; height: 20px;background-color: rgb(30, 144, 255);\"></td><td title=\"Index: [2, 5]&#10;Color: (30, 144, 255)\" style=\"width: 20px; height: 20px;background-color: rgb(30, 144, 255);\"></td><td title=\"Index: [2, 6]&#10;Color: (30, 144, 255)\" style=\"width: 20px; height: 20px;background-color: rgb(30, 144, 255);\"></td><td title=\"Index: [2, 7]&#10;Color: (30, 144, 255)\" style=\"width: 20px; height: 20px;background-color: rgb(30, 144, 255);\"></td></tr><tr><td title=\"Index: [3, 0]&#10;Color: (30, 144, 255)\" style=\"width: 20px; height: 20px;background-color: rgb(30, 144, 255);\"></td><td title=\"Index: [3, 1]&#10;Color: (30, 144, 255)\" style=\"width: 20px; height: 20px;background-color: rgb(30, 144, 255);\"></td><td title=\"Index: [3, 2]&#10;Color: (30, 144, 255)\" style=\"width: 20px; height: 20px;background-color: rgb(30, 144, 255);\"></td><td title=\"Index: [3, 3]&#10;Color: (30, 144, 255)\" style=\"width: 20px; height: 20px;background-color: rgb(30, 144, 255);\"></td><td title=\"Index: [3, 4]&#10;Color: (30, 144, 255)\" style=\"width: 20px; height: 20px;background-color: rgb(30, 144, 255);\"></td><td title=\"Index: [3, 5]&#10;Color: (30, 144, 255)\" style=\"width: 20px; height: 20px;background-color: rgb(30, 144, 255);\"></td><td title=\"Index: [3, 6]&#10;Color: (30, 144, 255)\" style=\"width: 20px; height: 20px;background-color: rgb(30, 144, 255);\"></td><td title=\"Index: [3, 7]&#10;Color: (30, 144, 255)\" style=\"width: 20px; height: 20px;background-color: rgb(30, 144, 255);\"></td></tr><tr><td title=\"Index: [4, 0]&#10;Color: (30, 144, 255)\" style=\"width: 20px; height: 20px;background-color: rgb(30, 144, 255);\"></td><td title=\"Index: [4, 1]&#10;Color: (30, 144, 255)\" style=\"width: 20px; height: 20px;background-color: rgb(30, 144, 255);\"></td><td title=\"Index: [4, 2]&#10;Color: (30, 144, 255)\" style=\"width: 20px; height: 20px;background-color: rgb(30, 144, 255);\"></td><td title=\"Index: [4, 3]&#10;Color: (30, 144, 255)\" style=\"width: 20px; height: 20px;background-color: rgb(30, 144, 255);\"></td><td title=\"Index: [4, 4]&#10;Color: (30, 144, 255)\" style=\"width: 20px; height: 20px;background-color: rgb(30, 144, 255);\"></td><td title=\"Index: [4, 5]&#10;Color: (30, 144, 255)\" style=\"width: 20px; height: 20px;background-color: rgb(30, 144, 255);\"></td><td title=\"Index: [4, 6]&#10;Color: (30, 144, 255)\" style=\"width: 20px; height: 20px;background-color: rgb(30, 144, 255);\"></td><td title=\"Index: [4, 7]&#10;Color: (30, 144, 255)\" style=\"width: 20px; height: 20px;background-color: rgb(30, 144, 255);\"></td></tr><tr><td title=\"Index: [5, 0]&#10;Color: (30, 144, 255)\" style=\"width: 20px; height: 20px;background-color: rgb(30, 144, 255);\"></td><td title=\"Index: [5, 1]&#10;Color: (30, 144, 255)\" style=\"width: 20px; height: 20px;background-color: rgb(30, 144, 255);\"></td><td title=\"Index: [5, 2]&#10;Color: (30, 144, 255)\" style=\"width: 20px; height: 20px;background-color: rgb(30, 144, 255);\"></td><td title=\"Index: [5, 3]&#10;Color: (30, 144, 255)\" style=\"width: 20px; height: 20px;background-color: rgb(30, 144, 255);\"></td><td title=\"Index: [5, 4]&#10;Color: (30, 144, 255)\" style=\"width: 20px; height: 20px;background-color: rgb(30, 144, 255);\"></td><td title=\"Index: [5, 5]&#10;Color: (30, 144, 255)\" style=\"width: 20px; height: 20px;background-color: rgb(30, 144, 255);\"></td><td title=\"Index: [5, 6]&#10;Color: (30, 144, 255)\" style=\"width: 20px; height: 20px;background-color: rgb(30, 144, 255);\"></td><td title=\"Index: [5, 7]&#10;Color: (30, 144, 255)\" style=\"width: 20px; height: 20px;background-color: rgb(30, 144, 255);\"></td></tr><tr><td title=\"Index: [6, 0]&#10;Color: (30, 144, 255)\" style=\"width: 20px; height: 20px;background-color: rgb(30, 144, 255);\"></td><td title=\"Index: [6, 1]&#10;Color: (30, 144, 255)\" style=\"width: 20px; height: 20px;background-color: rgb(30, 144, 255);\"></td><td title=\"Index: [6, 2]&#10;Color: (30, 144, 255)\" style=\"width: 20px; height: 20px;background-color: rgb(30, 144, 255);\"></td><td title=\"Index: [6, 3]&#10;Color: (30, 144, 255)\" style=\"width: 20px; height: 20px;background-color: rgb(30, 144, 255);\"></td><td title=\"Index: [6, 4]&#10;Color: (30, 144, 255)\" style=\"width: 20px; height: 20px;background-color: rgb(30, 144, 255);\"></td><td title=\"Index: [6, 5]&#10;Color: (30, 144, 255)\" style=\"width: 20px; height: 20px;background-color: rgb(30, 144, 255);\"></td><td title=\"Index: [6, 6]&#10;Color: (30, 144, 255)\" style=\"width: 20px; height: 20px;background-color: rgb(30, 144, 255);\"></td><td title=\"Index: [6, 7]&#10;Color: (30, 144, 255)\" style=\"width: 20px; height: 20px;background-color: rgb(30, 144, 255);\"></td></tr><tr><td title=\"Index: [7, 0]&#10;Color: (30, 144, 255)\" style=\"width: 20px; height: 20px;background-color: rgb(30, 144, 255);\"></td><td title=\"Index: [7, 1]&#10;Color: (30, 144, 255)\" style=\"width: 20px; height: 20px;background-color: rgb(30, 144, 255);\"></td><td title=\"Index: [7, 2]&#10;Color: (30, 144, 255)\" style=\"width: 20px; height: 20px;background-color: rgb(30, 144, 255);\"></td><td title=\"Index: [7, 3]&#10;Color: (30, 144, 255)\" style=\"width: 20px; height: 20px;background-color: rgb(30, 144, 255);\"></td><td title=\"Index: [7, 4]&#10;Color: (30, 144, 255)\" style=\"width: 20px; height: 20px;background-color: rgb(30, 144, 255);\"></td><td title=\"Index: [7, 5]&#10;Color: (30, 144, 255)\" style=\"width: 20px; height: 20px;background-color: rgb(30, 144, 255);\"></td><td title=\"Index: [7, 6]&#10;Color: (30, 144, 255)\" style=\"width: 20px; height: 20px;background-color: rgb(30, 144, 255);\"></td><td title=\"Index: [7, 7]&#10;Color: (30, 144, 255)\" style=\"width: 20px; height: 20px;background-color: rgb(30, 144, 255);\"></td></tr></tbody></table>"
       ],
       "metadata": {},
       "output_type": "display_data",
       "text": [
        "<IPython.core.display.HTML at 0x21d2400>"
       ]
      }
     ]
    },
    {
     "cell_type": "code",
     "collapsed": false,
     "input": [],
     "language": "python",
     "metadata": {},
     "outputs": []
    },
    {
     "cell_type": "code",
     "collapsed": false,
     "input": [],
     "language": "python",
     "metadata": {},
     "outputs": []
    },
    {
     "cell_type": "code",
     "collapsed": false,
     "input": [],
     "language": "python",
     "metadata": {},
     "outputs": []
    },
    {
     "cell_type": "code",
     "collapsed": false,
     "input": [],
     "language": "python",
     "metadata": {},
     "outputs": []
    }
   ],
   "metadata": {}
  }
 ]
}