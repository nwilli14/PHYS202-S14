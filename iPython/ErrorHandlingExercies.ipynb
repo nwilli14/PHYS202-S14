{
 "metadata": {
  "name": "",
  "signature": "sha256:b2e2639cd33eed9bb52d3f156644ccea6b83782b8692987773b8a36bb3c40c76"
 },
 "nbformat": 3,
 "nbformat_minor": 0,
 "worksheets": [
  {
   "cells": [
    {
     "cell_type": "heading",
     "level": 1,
     "metadata": {},
     "source": [
      "Error Handling Exercises"
     ]
    },
    {
     "cell_type": "code",
     "collapsed": false,
     "input": [
      "%pylab inline"
     ],
     "language": "python",
     "metadata": {},
     "outputs": [
      {
       "output_type": "stream",
       "stream": "stdout",
       "text": [
        "Populating the interactive namespace from numpy and matplotlib\n"
       ]
      }
     ],
     "prompt_number": 1
    },
    {
     "cell_type": "markdown",
     "metadata": {},
     "source": [
      "Driver Nick Williams\n",
      "\n",
      "Navigator "
     ]
    },
    {
     "cell_type": "code",
     "collapsed": false,
     "input": [
      "from random import randint\n",
      "from ipythonblocks import BlockGrid\n",
      "grid= BlockGrid(8, 8, fill = (30, 144, 255))\n",
      "\n",
      "\n",
      "print \"Let's play Battleship!\"\n",
      "grid.show()\n",
      "\n",
      "def random_row(grid):\n",
      "    return randint(2, grid.width - 1)\n",
      "\n",
      "def random_col(grid):\n",
      "    return randint(2, grid.height - 1)\n",
      "\n",
      "while True:\n",
      "    int_turns = raw_input(\"Number of Turns:\")\n",
      "    try:\n",
      "        my_turns = int(int_turns)\n",
      "        break\n",
      "    except ValueError as err:\n",
      "        print \"not an integer, Try again\"\n",
      "        continue \n",
      "\n",
      "turn = 0\n",
      "\n",
      "random_num = randint (0, 1)\n",
      "\n",
      "if random_num == 0:\n",
      "    ship_row = random_row(grid)\n",
      "    ship_col = random_col(grid)\n",
      "    ship_row1 = ship_row - 1\n",
      "    ship_row2 = ship_row - 2\n",
      "    ship_col1 = False\n",
      "    ship_col2 = False\n",
      "    \n",
      "elif random_num == 1:\n",
      "    ship_row = random_row(grid)\n",
      "    ship_col = random_col(grid)\n",
      "    ship_col1 = ship_col - 1\n",
      "    ship_col2 = ship_col - 2\n",
      "    ship_row1 = False\n",
      "    ship_row2 = False\n",
      "\n",
      "for trn in range(my_turns + 1):      \n",
      "    while True:\n",
      "            int_guess_row = raw_input(\"Guess Row:\")\n",
      "            int_guess_col = raw_input(\"Guess Col:\")\n",
      "            try:\n",
      "                guess_row = int(int_guess_row) - 1\n",
      "                guess_col = int(int_guess_col) - 1\n",
      "                break\n",
      "    \n",
      "            except ValueError as err:\n",
      "                print \"not an integer, Try again\"\n",
      "                continue\n",
      "                \n",
      "    if guess_row == ship_row and guess_col == ship_col:\n",
      "        grid[ship_row, ship_col].red = 255\n",
      "        grid[ship_row, ship_col].green = 0\n",
      "        grid[ship_row, ship_col].blue = 0\n",
      "        turn += 1\n",
      "        print \"HIT\"\n",
      "        print \"on turn\", turn\n",
      "    \n",
      "    elif guess_row == ship_row1 and guess_col == ship_col:\n",
      "        grid[ship_row1, ship_col].red = 255\n",
      "        grid[ship_row1, ship_col].green = 0\n",
      "        grid[ship_row1, ship_col].blue = 0\n",
      "        turn += 1\n",
      "        print \"HIT\"\n",
      "        print \"on turn\", turn\n",
      "    \n",
      "    elif guess_row == ship_row2 and guess_col == ship_col:\n",
      "        grid[ship_row2, ship_col].red = 255\n",
      "        grid[ship_row2, ship_col].green = 0\n",
      "        grid[ship_row2, ship_col].blue = 0\n",
      "        turn += 1\n",
      "        print \"HIT\"\n",
      "        print \"on turn\", turn\n",
      "    \n",
      "    elif guess_row == ship_row and guess_col == ship_col1:\n",
      "        grid[ship_row, ship_col1].red = 255\n",
      "        grid[ship_row, ship_col1].green = 0\n",
      "        grid[ship_row, ship_col1].blue = 0\n",
      "        turn += 1\n",
      "        print \"HIT\"\n",
      "        print \"on turn\", turn\n",
      "    \n",
      "    elif guess_row == ship_row and guess_col == ship_col2:\n",
      "        grid[ship_row, ship_col2].red = 255\n",
      "        grid[ship_row, ship_col2].green = 0\n",
      "        grid[ship_row, ship_col2].blue = 0\n",
      "        turn += 1\n",
      "        print \"HIT\"\n",
      "        print \"on turn\", turn\n",
      "    \n",
      "    else:\n",
      "        if (guess_row < 0 or guess_row > 7) or (guess_col < 0 or guess_col > 7):\n",
      "            print \"Oops, that's not even in the ocean.\"\n",
      "        \n",
      "        elif grid[guess_row, guess_col] == (255, 255, 255) or grid[guess_row, guess_col] == (255, 0, 0):\n",
      "            print \"You guessed that one already.\"\n",
      "        \n",
      "        else:\n",
      "            print \"You missed my battleship!\"\n",
      "            grid[guess_row, guess_col] = (255, 255, 255)\n",
      "            turn += 1\n",
      "            print \"on turn\", turn\n",
      " \n",
      "    if grid[ship_row, ship_col].red == 255 and (grid[ship_row1, ship_col].red == 255 or grid[ship_row, ship_col1].red == 255) \\\n",
      "    and (grid[ship_row2, ship_col].red == 255 or grid[ship_row, ship_col2] == 255):\n",
      "        print \"You sunk my Battleship\"\n",
      "        grid.show()\n",
      "        break\n",
      "    \n",
      "    elif turn == my_turns + 1:\n",
      "        if random_num == 0:\n",
      "            grid[ship_row, ship_col].red = 255\n",
      "            grid[ship_row, ship_col].green = 0\n",
      "            grid[ship_row, ship_col].blue = 0\n",
      "            grid[ship_row1, ship_col].red = 255\n",
      "            grid[ship_row1, ship_col].green = 0\n",
      "            grid[ship_row1, ship_col].blue = 0\n",
      "            grid[ship_row2, ship_col].red = 255\n",
      "            grid[ship_row2, ship_col].green = 0\n",
      "            grid[ship_row2, ship_col].blue = 0\n",
      "            print \"Game Over\"\n",
      "        \n",
      "        elif random_num == 1:\n",
      "            grid[ship_row, ship_col].red = 255\n",
      "            grid[ship_row, ship_col].green = 0\n",
      "            grid[ship_row, ship_col].blue = 0\n",
      "            grid[ship_row, ship_col1].red = 255\n",
      "            grid[ship_row, ship_col1].green = 0\n",
      "            grid[ship_row, ship_col1].blue = 0\n",
      "            grid[ship_row, ship_col2].red = 255\n",
      "            grid[ship_row, ship_col2].green = 0\n",
      "            grid[ship_row, ship_col2].blue = 0\n",
      "            print \"Game Over\"\n",
      "\n",
      "    grid.show()"
     ],
     "language": "python",
     "metadata": {},
     "outputs": [
      {
       "output_type": "stream",
       "stream": "stdout",
       "text": [
        "Let's play Battleship!\n"
       ]
      },
      {
       "html": [
        "<style type=\"text/css\">table.blockgrid {border: none;} .blockgrid tr {border: none;} .blockgrid td {padding: 0px;} #blocksbbc405ff-7313-4a94-9a73-2de16bff17cd td {border: 1px solid white;}</style><table id=\"blocksbbc405ff-7313-4a94-9a73-2de16bff17cd\" class=\"blockgrid\"><tbody><tr><td title=\"Index: [0, 0]&#10;Color: (30, 144, 255)\" style=\"width: 20px; height: 20px;background-color: rgb(30, 144, 255);\"></td><td title=\"Index: [0, 1]&#10;Color: (30, 144, 255)\" style=\"width: 20px; height: 20px;background-color: rgb(30, 144, 255);\"></td><td title=\"Index: [0, 2]&#10;Color: (30, 144, 255)\" style=\"width: 20px; height: 20px;background-color: rgb(30, 144, 255);\"></td><td title=\"Index: [0, 3]&#10;Color: (30, 144, 255)\" style=\"width: 20px; height: 20px;background-color: rgb(30, 144, 255);\"></td><td title=\"Index: [0, 4]&#10;Color: (30, 144, 255)\" style=\"width: 20px; height: 20px;background-color: rgb(30, 144, 255);\"></td><td title=\"Index: [0, 5]&#10;Color: (30, 144, 255)\" style=\"width: 20px; height: 20px;background-color: rgb(30, 144, 255);\"></td><td title=\"Index: [0, 6]&#10;Color: (30, 144, 255)\" style=\"width: 20px; height: 20px;background-color: rgb(30, 144, 255);\"></td><td title=\"Index: [0, 7]&#10;Color: (30, 144, 255)\" style=\"width: 20px; height: 20px;background-color: rgb(30, 144, 255);\"></td></tr><tr><td title=\"Index: [1, 0]&#10;Color: (30, 144, 255)\" style=\"width: 20px; height: 20px;background-color: rgb(30, 144, 255);\"></td><td title=\"Index: [1, 1]&#10;Color: (30, 144, 255)\" style=\"width: 20px; height: 20px;background-color: rgb(30, 144, 255);\"></td><td title=\"Index: [1, 2]&#10;Color: (30, 144, 255)\" style=\"width: 20px; height: 20px;background-color: rgb(30, 144, 255);\"></td><td title=\"Index: [1, 3]&#10;Color: (30, 144, 255)\" style=\"width: 20px; height: 20px;background-color: rgb(30, 144, 255);\"></td><td title=\"Index: [1, 4]&#10;Color: (30, 144, 255)\" style=\"width: 20px; height: 20px;background-color: rgb(30, 144, 255);\"></td><td title=\"Index: [1, 5]&#10;Color: (30, 144, 255)\" style=\"width: 20px; height: 20px;background-color: rgb(30, 144, 255);\"></td><td title=\"Index: [1, 6]&#10;Color: (30, 144, 255)\" style=\"width: 20px; height: 20px;background-color: rgb(30, 144, 255);\"></td><td title=\"Index: [1, 7]&#10;Color: (30, 144, 255)\" style=\"width: 20px; height: 20px;background-color: rgb(30, 144, 255);\"></td></tr><tr><td title=\"Index: [2, 0]&#10;Color: (30, 144, 255)\" style=\"width: 20px; height: 20px;background-color: rgb(30, 144, 255);\"></td><td title=\"Index: [2, 1]&#10;Color: (30, 144, 255)\" style=\"width: 20px; height: 20px;background-color: rgb(30, 144, 255);\"></td><td title=\"Index: [2, 2]&#10;Color: (30, 144, 255)\" style=\"width: 20px; height: 20px;background-color: rgb(30, 144, 255);\"></td><td title=\"Index: [2, 3]&#10;Color: (30, 144, 255)\" style=\"width: 20px; height: 20px;background-color: rgb(30, 144, 255);\"></td><td title=\"Index: [2, 4]&#10;Color: (30, 144, 255)\" style=\"width: 20px; height: 20px;background-color: rgb(30, 144, 255);\"></td><td title=\"Index: [2, 5]&#10;Color: (30, 144, 255)\" style=\"width: 20px; height: 20px;background-color: rgb(30, 144, 255);\"></td><td title=\"Index: [2, 6]&#10;Color: (30, 144, 255)\" style=\"width: 20px; height: 20px;background-color: rgb(30, 144, 255);\"></td><td title=\"Index: [2, 7]&#10;Color: (30, 144, 255)\" style=\"width: 20px; height: 20px;background-color: rgb(30, 144, 255);\"></td></tr><tr><td title=\"Index: [3, 0]&#10;Color: (30, 144, 255)\" style=\"width: 20px; height: 20px;background-color: rgb(30, 144, 255);\"></td><td title=\"Index: [3, 1]&#10;Color: (30, 144, 255)\" style=\"width: 20px; height: 20px;background-color: rgb(30, 144, 255);\"></td><td title=\"Index: [3, 2]&#10;Color: (30, 144, 255)\" style=\"width: 20px; height: 20px;background-color: rgb(30, 144, 255);\"></td><td title=\"Index: [3, 3]&#10;Color: (30, 144, 255)\" style=\"width: 20px; height: 20px;background-color: rgb(30, 144, 255);\"></td><td title=\"Index: [3, 4]&#10;Color: (30, 144, 255)\" style=\"width: 20px; height: 20px;background-color: rgb(30, 144, 255);\"></td><td title=\"Index: [3, 5]&#10;Color: (30, 144, 255)\" style=\"width: 20px; height: 20px;background-color: rgb(30, 144, 255);\"></td><td title=\"Index: [3, 6]&#10;Color: (30, 144, 255)\" style=\"width: 20px; height: 20px;background-color: rgb(30, 144, 255);\"></td><td title=\"Index: [3, 7]&#10;Color: (30, 144, 255)\" style=\"width: 20px; height: 20px;background-color: rgb(30, 144, 255);\"></td></tr><tr><td title=\"Index: [4, 0]&#10;Color: (30, 144, 255)\" style=\"width: 20px; height: 20px;background-color: rgb(30, 144, 255);\"></td><td title=\"Index: [4, 1]&#10;Color: (30, 144, 255)\" style=\"width: 20px; height: 20px;background-color: rgb(30, 144, 255);\"></td><td title=\"Index: [4, 2]&#10;Color: (30, 144, 255)\" style=\"width: 20px; height: 20px;background-color: rgb(30, 144, 255);\"></td><td title=\"Index: [4, 3]&#10;Color: (30, 144, 255)\" style=\"width: 20px; height: 20px;background-color: rgb(30, 144, 255);\"></td><td title=\"Index: [4, 4]&#10;Color: (30, 144, 255)\" style=\"width: 20px; height: 20px;background-color: rgb(30, 144, 255);\"></td><td title=\"Index: [4, 5]&#10;Color: (30, 144, 255)\" style=\"width: 20px; height: 20px;background-color: rgb(30, 144, 255);\"></td><td title=\"Index: [4, 6]&#10;Color: (30, 144, 255)\" style=\"width: 20px; height: 20px;background-color: rgb(30, 144, 255);\"></td><td title=\"Index: [4, 7]&#10;Color: (30, 144, 255)\" style=\"width: 20px; height: 20px;background-color: rgb(30, 144, 255);\"></td></tr><tr><td title=\"Index: [5, 0]&#10;Color: (30, 144, 255)\" style=\"width: 20px; height: 20px;background-color: rgb(30, 144, 255);\"></td><td title=\"Index: [5, 1]&#10;Color: (30, 144, 255)\" style=\"width: 20px; height: 20px;background-color: rgb(30, 144, 255);\"></td><td title=\"Index: [5, 2]&#10;Color: (30, 144, 255)\" style=\"width: 20px; height: 20px;background-color: rgb(30, 144, 255);\"></td><td title=\"Index: [5, 3]&#10;Color: (30, 144, 255)\" style=\"width: 20px; height: 20px;background-color: rgb(30, 144, 255);\"></td><td title=\"Index: [5, 4]&#10;Color: (30, 144, 255)\" style=\"width: 20px; height: 20px;background-color: rgb(30, 144, 255);\"></td><td title=\"Index: [5, 5]&#10;Color: (30, 144, 255)\" style=\"width: 20px; height: 20px;background-color: rgb(30, 144, 255);\"></td><td title=\"Index: [5, 6]&#10;Color: (30, 144, 255)\" style=\"width: 20px; height: 20px;background-color: rgb(30, 144, 255);\"></td><td title=\"Index: [5, 7]&#10;Color: (30, 144, 255)\" style=\"width: 20px; height: 20px;background-color: rgb(30, 144, 255);\"></td></tr><tr><td title=\"Index: [6, 0]&#10;Color: (30, 144, 255)\" style=\"width: 20px; height: 20px;background-color: rgb(30, 144, 255);\"></td><td title=\"Index: [6, 1]&#10;Color: (30, 144, 255)\" style=\"width: 20px; height: 20px;background-color: rgb(30, 144, 255);\"></td><td title=\"Index: [6, 2]&#10;Color: (30, 144, 255)\" style=\"width: 20px; height: 20px;background-color: rgb(30, 144, 255);\"></td><td title=\"Index: [6, 3]&#10;Color: (30, 144, 255)\" style=\"width: 20px; height: 20px;background-color: rgb(30, 144, 255);\"></td><td title=\"Index: [6, 4]&#10;Color: (30, 144, 255)\" style=\"width: 20px; height: 20px;background-color: rgb(30, 144, 255);\"></td><td title=\"Index: [6, 5]&#10;Color: (30, 144, 255)\" style=\"width: 20px; height: 20px;background-color: rgb(30, 144, 255);\"></td><td title=\"Index: [6, 6]&#10;Color: (30, 144, 255)\" style=\"width: 20px; height: 20px;background-color: rgb(30, 144, 255);\"></td><td title=\"Index: [6, 7]&#10;Color: (30, 144, 255)\" style=\"width: 20px; height: 20px;background-color: rgb(30, 144, 255);\"></td></tr><tr><td title=\"Index: [7, 0]&#10;Color: (30, 144, 255)\" style=\"width: 20px; height: 20px;background-color: rgb(30, 144, 255);\"></td><td title=\"Index: [7, 1]&#10;Color: (30, 144, 255)\" style=\"width: 20px; height: 20px;background-color: rgb(30, 144, 255);\"></td><td title=\"Index: [7, 2]&#10;Color: (30, 144, 255)\" style=\"width: 20px; height: 20px;background-color: rgb(30, 144, 255);\"></td><td title=\"Index: [7, 3]&#10;Color: (30, 144, 255)\" style=\"width: 20px; height: 20px;background-color: rgb(30, 144, 255);\"></td><td title=\"Index: [7, 4]&#10;Color: (30, 144, 255)\" style=\"width: 20px; height: 20px;background-color: rgb(30, 144, 255);\"></td><td title=\"Index: [7, 5]&#10;Color: (30, 144, 255)\" style=\"width: 20px; height: 20px;background-color: rgb(30, 144, 255);\"></td><td title=\"Index: [7, 6]&#10;Color: (30, 144, 255)\" style=\"width: 20px; height: 20px;background-color: rgb(30, 144, 255);\"></td><td title=\"Index: [7, 7]&#10;Color: (30, 144, 255)\" style=\"width: 20px; height: 20px;background-color: rgb(30, 144, 255);\"></td></tr></tbody></table>"
       ],
       "metadata": {},
       "output_type": "display_data",
       "text": [
        "<IPython.core.display.HTML at 0x3f53780>"
       ]
      },
      {
       "name": "stdout",
       "output_type": "stream",
       "stream": "stdout",
       "text": [
        "Number of Turns:a\n"
       ]
      },
      {
       "output_type": "stream",
       "stream": "stdout",
       "text": [
        "not an integer, Try again\n"
       ]
      },
      {
       "name": "stdout",
       "output_type": "stream",
       "stream": "stdout",
       "text": [
        "Number of Turns:3\n"
       ]
      },
      {
       "name": "stdout",
       "output_type": "stream",
       "stream": "stdout",
       "text": [
        "Guess Row:a\n"
       ]
      },
      {
       "name": "stdout",
       "output_type": "stream",
       "stream": "stdout",
       "text": [
        "Guess Col:3\n"
       ]
      },
      {
       "output_type": "stream",
       "stream": "stdout",
       "text": [
        "not an integer, Try again\n"
       ]
      },
      {
       "name": "stdout",
       "output_type": "stream",
       "stream": "stdout",
       "text": [
        "Guess Row:3\n"
       ]
      },
      {
       "name": "stdout",
       "output_type": "stream",
       "stream": "stdout",
       "text": [
        "Guess Col:4\n"
       ]
      },
      {
       "output_type": "stream",
       "stream": "stdout",
       "text": [
        "You missed my battleship!\n",
        "on turn 1\n"
       ]
      },
      {
       "html": [
        "<style type=\"text/css\">table.blockgrid {border: none;} .blockgrid tr {border: none;} .blockgrid td {padding: 0px;} #blocksfb40ac19-044e-430a-a8b3-e81f8ed311ce td {border: 1px solid white;}</style><table id=\"blocksfb40ac19-044e-430a-a8b3-e81f8ed311ce\" class=\"blockgrid\"><tbody><tr><td title=\"Index: [0, 0]&#10;Color: (30, 144, 255)\" style=\"width: 20px; height: 20px;background-color: rgb(30, 144, 255);\"></td><td title=\"Index: [0, 1]&#10;Color: (30, 144, 255)\" style=\"width: 20px; height: 20px;background-color: rgb(30, 144, 255);\"></td><td title=\"Index: [0, 2]&#10;Color: (30, 144, 255)\" style=\"width: 20px; height: 20px;background-color: rgb(30, 144, 255);\"></td><td title=\"Index: [0, 3]&#10;Color: (30, 144, 255)\" style=\"width: 20px; height: 20px;background-color: rgb(30, 144, 255);\"></td><td title=\"Index: [0, 4]&#10;Color: (30, 144, 255)\" style=\"width: 20px; height: 20px;background-color: rgb(30, 144, 255);\"></td><td title=\"Index: [0, 5]&#10;Color: (30, 144, 255)\" style=\"width: 20px; height: 20px;background-color: rgb(30, 144, 255);\"></td><td title=\"Index: [0, 6]&#10;Color: (30, 144, 255)\" style=\"width: 20px; height: 20px;background-color: rgb(30, 144, 255);\"></td><td title=\"Index: [0, 7]&#10;Color: (30, 144, 255)\" style=\"width: 20px; height: 20px;background-color: rgb(30, 144, 255);\"></td></tr><tr><td title=\"Index: [1, 0]&#10;Color: (30, 144, 255)\" style=\"width: 20px; height: 20px;background-color: rgb(30, 144, 255);\"></td><td title=\"Index: [1, 1]&#10;Color: (30, 144, 255)\" style=\"width: 20px; height: 20px;background-color: rgb(30, 144, 255);\"></td><td title=\"Index: [1, 2]&#10;Color: (30, 144, 255)\" style=\"width: 20px; height: 20px;background-color: rgb(30, 144, 255);\"></td><td title=\"Index: [1, 3]&#10;Color: (30, 144, 255)\" style=\"width: 20px; height: 20px;background-color: rgb(30, 144, 255);\"></td><td title=\"Index: [1, 4]&#10;Color: (30, 144, 255)\" style=\"width: 20px; height: 20px;background-color: rgb(30, 144, 255);\"></td><td title=\"Index: [1, 5]&#10;Color: (30, 144, 255)\" style=\"width: 20px; height: 20px;background-color: rgb(30, 144, 255);\"></td><td title=\"Index: [1, 6]&#10;Color: (30, 144, 255)\" style=\"width: 20px; height: 20px;background-color: rgb(30, 144, 255);\"></td><td title=\"Index: [1, 7]&#10;Color: (30, 144, 255)\" style=\"width: 20px; height: 20px;background-color: rgb(30, 144, 255);\"></td></tr><tr><td title=\"Index: [2, 0]&#10;Color: (30, 144, 255)\" style=\"width: 20px; height: 20px;background-color: rgb(30, 144, 255);\"></td><td title=\"Index: [2, 1]&#10;Color: (30, 144, 255)\" style=\"width: 20px; height: 20px;background-color: rgb(30, 144, 255);\"></td><td title=\"Index: [2, 2]&#10;Color: (30, 144, 255)\" style=\"width: 20px; height: 20px;background-color: rgb(30, 144, 255);\"></td><td title=\"Index: [2, 3]&#10;Color: (255, 255, 255)\" style=\"width: 20px; height: 20px;background-color: rgb(255, 255, 255);\"></td><td title=\"Index: [2, 4]&#10;Color: (30, 144, 255)\" style=\"width: 20px; height: 20px;background-color: rgb(30, 144, 255);\"></td><td title=\"Index: [2, 5]&#10;Color: (30, 144, 255)\" style=\"width: 20px; height: 20px;background-color: rgb(30, 144, 255);\"></td><td title=\"Index: [2, 6]&#10;Color: (30, 144, 255)\" style=\"width: 20px; height: 20px;background-color: rgb(30, 144, 255);\"></td><td title=\"Index: [2, 7]&#10;Color: (30, 144, 255)\" style=\"width: 20px; height: 20px;background-color: rgb(30, 144, 255);\"></td></tr><tr><td title=\"Index: [3, 0]&#10;Color: (30, 144, 255)\" style=\"width: 20px; height: 20px;background-color: rgb(30, 144, 255);\"></td><td title=\"Index: [3, 1]&#10;Color: (30, 144, 255)\" style=\"width: 20px; height: 20px;background-color: rgb(30, 144, 255);\"></td><td title=\"Index: [3, 2]&#10;Color: (30, 144, 255)\" style=\"width: 20px; height: 20px;background-color: rgb(30, 144, 255);\"></td><td title=\"Index: [3, 3]&#10;Color: (30, 144, 255)\" style=\"width: 20px; height: 20px;background-color: rgb(30, 144, 255);\"></td><td title=\"Index: [3, 4]&#10;Color: (30, 144, 255)\" style=\"width: 20px; height: 20px;background-color: rgb(30, 144, 255);\"></td><td title=\"Index: [3, 5]&#10;Color: (30, 144, 255)\" style=\"width: 20px; height: 20px;background-color: rgb(30, 144, 255);\"></td><td title=\"Index: [3, 6]&#10;Color: (30, 144, 255)\" style=\"width: 20px; height: 20px;background-color: rgb(30, 144, 255);\"></td><td title=\"Index: [3, 7]&#10;Color: (30, 144, 255)\" style=\"width: 20px; height: 20px;background-color: rgb(30, 144, 255);\"></td></tr><tr><td title=\"Index: [4, 0]&#10;Color: (30, 144, 255)\" style=\"width: 20px; height: 20px;background-color: rgb(30, 144, 255);\"></td><td title=\"Index: [4, 1]&#10;Color: (30, 144, 255)\" style=\"width: 20px; height: 20px;background-color: rgb(30, 144, 255);\"></td><td title=\"Index: [4, 2]&#10;Color: (30, 144, 255)\" style=\"width: 20px; height: 20px;background-color: rgb(30, 144, 255);\"></td><td title=\"Index: [4, 3]&#10;Color: (30, 144, 255)\" style=\"width: 20px; height: 20px;background-color: rgb(30, 144, 255);\"></td><td title=\"Index: [4, 4]&#10;Color: (30, 144, 255)\" style=\"width: 20px; height: 20px;background-color: rgb(30, 144, 255);\"></td><td title=\"Index: [4, 5]&#10;Color: (30, 144, 255)\" style=\"width: 20px; height: 20px;background-color: rgb(30, 144, 255);\"></td><td title=\"Index: [4, 6]&#10;Color: (30, 144, 255)\" style=\"width: 20px; height: 20px;background-color: rgb(30, 144, 255);\"></td><td title=\"Index: [4, 7]&#10;Color: (30, 144, 255)\" style=\"width: 20px; height: 20px;background-color: rgb(30, 144, 255);\"></td></tr><tr><td title=\"Index: [5, 0]&#10;Color: (30, 144, 255)\" style=\"width: 20px; height: 20px;background-color: rgb(30, 144, 255);\"></td><td title=\"Index: [5, 1]&#10;Color: (30, 144, 255)\" style=\"width: 20px; height: 20px;background-color: rgb(30, 144, 255);\"></td><td title=\"Index: [5, 2]&#10;Color: (30, 144, 255)\" style=\"width: 20px; height: 20px;background-color: rgb(30, 144, 255);\"></td><td title=\"Index: [5, 3]&#10;Color: (30, 144, 255)\" style=\"width: 20px; height: 20px;background-color: rgb(30, 144, 255);\"></td><td title=\"Index: [5, 4]&#10;Color: (30, 144, 255)\" style=\"width: 20px; height: 20px;background-color: rgb(30, 144, 255);\"></td><td title=\"Index: [5, 5]&#10;Color: (30, 144, 255)\" style=\"width: 20px; height: 20px;background-color: rgb(30, 144, 255);\"></td><td title=\"Index: [5, 6]&#10;Color: (30, 144, 255)\" style=\"width: 20px; height: 20px;background-color: rgb(30, 144, 255);\"></td><td title=\"Index: [5, 7]&#10;Color: (30, 144, 255)\" style=\"width: 20px; height: 20px;background-color: rgb(30, 144, 255);\"></td></tr><tr><td title=\"Index: [6, 0]&#10;Color: (30, 144, 255)\" style=\"width: 20px; height: 20px;background-color: rgb(30, 144, 255);\"></td><td title=\"Index: [6, 1]&#10;Color: (30, 144, 255)\" style=\"width: 20px; height: 20px;background-color: rgb(30, 144, 255);\"></td><td title=\"Index: [6, 2]&#10;Color: (30, 144, 255)\" style=\"width: 20px; height: 20px;background-color: rgb(30, 144, 255);\"></td><td title=\"Index: [6, 3]&#10;Color: (30, 144, 255)\" style=\"width: 20px; height: 20px;background-color: rgb(30, 144, 255);\"></td><td title=\"Index: [6, 4]&#10;Color: (30, 144, 255)\" style=\"width: 20px; height: 20px;background-color: rgb(30, 144, 255);\"></td><td title=\"Index: [6, 5]&#10;Color: (30, 144, 255)\" style=\"width: 20px; height: 20px;background-color: rgb(30, 144, 255);\"></td><td title=\"Index: [6, 6]&#10;Color: (30, 144, 255)\" style=\"width: 20px; height: 20px;background-color: rgb(30, 144, 255);\"></td><td title=\"Index: [6, 7]&#10;Color: (30, 144, 255)\" style=\"width: 20px; height: 20px;background-color: rgb(30, 144, 255);\"></td></tr><tr><td title=\"Index: [7, 0]&#10;Color: (30, 144, 255)\" style=\"width: 20px; height: 20px;background-color: rgb(30, 144, 255);\"></td><td title=\"Index: [7, 1]&#10;Color: (30, 144, 255)\" style=\"width: 20px; height: 20px;background-color: rgb(30, 144, 255);\"></td><td title=\"Index: [7, 2]&#10;Color: (30, 144, 255)\" style=\"width: 20px; height: 20px;background-color: rgb(30, 144, 255);\"></td><td title=\"Index: [7, 3]&#10;Color: (30, 144, 255)\" style=\"width: 20px; height: 20px;background-color: rgb(30, 144, 255);\"></td><td title=\"Index: [7, 4]&#10;Color: (30, 144, 255)\" style=\"width: 20px; height: 20px;background-color: rgb(30, 144, 255);\"></td><td title=\"Index: [7, 5]&#10;Color: (30, 144, 255)\" style=\"width: 20px; height: 20px;background-color: rgb(30, 144, 255);\"></td><td title=\"Index: [7, 6]&#10;Color: (30, 144, 255)\" style=\"width: 20px; height: 20px;background-color: rgb(30, 144, 255);\"></td><td title=\"Index: [7, 7]&#10;Color: (30, 144, 255)\" style=\"width: 20px; height: 20px;background-color: rgb(30, 144, 255);\"></td></tr></tbody></table>"
       ],
       "metadata": {},
       "output_type": "display_data",
       "text": [
        "<IPython.core.display.HTML at 0x221ee48>"
       ]
      },
      {
       "name": "stdout",
       "output_type": "stream",
       "stream": "stdout",
       "text": [
        "Guess Row:3\n"
       ]
      },
      {
       "name": "stdout",
       "output_type": "stream",
       "stream": "stdout",
       "text": [
        "Guess Col:4\n"
       ]
      },
      {
       "output_type": "stream",
       "stream": "stdout",
       "text": [
        "You missed my battleship!\n",
        "on turn 2\n"
       ]
      },
      {
       "html": [
        "<style type=\"text/css\">table.blockgrid {border: none;} .blockgrid tr {border: none;} .blockgrid td {padding: 0px;} #blocks5563160c-bfc4-41fc-8bf3-5f52044aa7e3 td {border: 1px solid white;}</style><table id=\"blocks5563160c-bfc4-41fc-8bf3-5f52044aa7e3\" class=\"blockgrid\"><tbody><tr><td title=\"Index: [0, 0]&#10;Color: (30, 144, 255)\" style=\"width: 20px; height: 20px;background-color: rgb(30, 144, 255);\"></td><td title=\"Index: [0, 1]&#10;Color: (30, 144, 255)\" style=\"width: 20px; height: 20px;background-color: rgb(30, 144, 255);\"></td><td title=\"Index: [0, 2]&#10;Color: (30, 144, 255)\" style=\"width: 20px; height: 20px;background-color: rgb(30, 144, 255);\"></td><td title=\"Index: [0, 3]&#10;Color: (30, 144, 255)\" style=\"width: 20px; height: 20px;background-color: rgb(30, 144, 255);\"></td><td title=\"Index: [0, 4]&#10;Color: (30, 144, 255)\" style=\"width: 20px; height: 20px;background-color: rgb(30, 144, 255);\"></td><td title=\"Index: [0, 5]&#10;Color: (30, 144, 255)\" style=\"width: 20px; height: 20px;background-color: rgb(30, 144, 255);\"></td><td title=\"Index: [0, 6]&#10;Color: (30, 144, 255)\" style=\"width: 20px; height: 20px;background-color: rgb(30, 144, 255);\"></td><td title=\"Index: [0, 7]&#10;Color: (30, 144, 255)\" style=\"width: 20px; height: 20px;background-color: rgb(30, 144, 255);\"></td></tr><tr><td title=\"Index: [1, 0]&#10;Color: (30, 144, 255)\" style=\"width: 20px; height: 20px;background-color: rgb(30, 144, 255);\"></td><td title=\"Index: [1, 1]&#10;Color: (30, 144, 255)\" style=\"width: 20px; height: 20px;background-color: rgb(30, 144, 255);\"></td><td title=\"Index: [1, 2]&#10;Color: (30, 144, 255)\" style=\"width: 20px; height: 20px;background-color: rgb(30, 144, 255);\"></td><td title=\"Index: [1, 3]&#10;Color: (30, 144, 255)\" style=\"width: 20px; height: 20px;background-color: rgb(30, 144, 255);\"></td><td title=\"Index: [1, 4]&#10;Color: (30, 144, 255)\" style=\"width: 20px; height: 20px;background-color: rgb(30, 144, 255);\"></td><td title=\"Index: [1, 5]&#10;Color: (30, 144, 255)\" style=\"width: 20px; height: 20px;background-color: rgb(30, 144, 255);\"></td><td title=\"Index: [1, 6]&#10;Color: (30, 144, 255)\" style=\"width: 20px; height: 20px;background-color: rgb(30, 144, 255);\"></td><td title=\"Index: [1, 7]&#10;Color: (30, 144, 255)\" style=\"width: 20px; height: 20px;background-color: rgb(30, 144, 255);\"></td></tr><tr><td title=\"Index: [2, 0]&#10;Color: (30, 144, 255)\" style=\"width: 20px; height: 20px;background-color: rgb(30, 144, 255);\"></td><td title=\"Index: [2, 1]&#10;Color: (30, 144, 255)\" style=\"width: 20px; height: 20px;background-color: rgb(30, 144, 255);\"></td><td title=\"Index: [2, 2]&#10;Color: (30, 144, 255)\" style=\"width: 20px; height: 20px;background-color: rgb(30, 144, 255);\"></td><td title=\"Index: [2, 3]&#10;Color: (255, 255, 255)\" style=\"width: 20px; height: 20px;background-color: rgb(255, 255, 255);\"></td><td title=\"Index: [2, 4]&#10;Color: (30, 144, 255)\" style=\"width: 20px; height: 20px;background-color: rgb(30, 144, 255);\"></td><td title=\"Index: [2, 5]&#10;Color: (30, 144, 255)\" style=\"width: 20px; height: 20px;background-color: rgb(30, 144, 255);\"></td><td title=\"Index: [2, 6]&#10;Color: (30, 144, 255)\" style=\"width: 20px; height: 20px;background-color: rgb(30, 144, 255);\"></td><td title=\"Index: [2, 7]&#10;Color: (30, 144, 255)\" style=\"width: 20px; height: 20px;background-color: rgb(30, 144, 255);\"></td></tr><tr><td title=\"Index: [3, 0]&#10;Color: (30, 144, 255)\" style=\"width: 20px; height: 20px;background-color: rgb(30, 144, 255);\"></td><td title=\"Index: [3, 1]&#10;Color: (30, 144, 255)\" style=\"width: 20px; height: 20px;background-color: rgb(30, 144, 255);\"></td><td title=\"Index: [3, 2]&#10;Color: (30, 144, 255)\" style=\"width: 20px; height: 20px;background-color: rgb(30, 144, 255);\"></td><td title=\"Index: [3, 3]&#10;Color: (30, 144, 255)\" style=\"width: 20px; height: 20px;background-color: rgb(30, 144, 255);\"></td><td title=\"Index: [3, 4]&#10;Color: (30, 144, 255)\" style=\"width: 20px; height: 20px;background-color: rgb(30, 144, 255);\"></td><td title=\"Index: [3, 5]&#10;Color: (30, 144, 255)\" style=\"width: 20px; height: 20px;background-color: rgb(30, 144, 255);\"></td><td title=\"Index: [3, 6]&#10;Color: (30, 144, 255)\" style=\"width: 20px; height: 20px;background-color: rgb(30, 144, 255);\"></td><td title=\"Index: [3, 7]&#10;Color: (30, 144, 255)\" style=\"width: 20px; height: 20px;background-color: rgb(30, 144, 255);\"></td></tr><tr><td title=\"Index: [4, 0]&#10;Color: (30, 144, 255)\" style=\"width: 20px; height: 20px;background-color: rgb(30, 144, 255);\"></td><td title=\"Index: [4, 1]&#10;Color: (30, 144, 255)\" style=\"width: 20px; height: 20px;background-color: rgb(30, 144, 255);\"></td><td title=\"Index: [4, 2]&#10;Color: (30, 144, 255)\" style=\"width: 20px; height: 20px;background-color: rgb(30, 144, 255);\"></td><td title=\"Index: [4, 3]&#10;Color: (30, 144, 255)\" style=\"width: 20px; height: 20px;background-color: rgb(30, 144, 255);\"></td><td title=\"Index: [4, 4]&#10;Color: (30, 144, 255)\" style=\"width: 20px; height: 20px;background-color: rgb(30, 144, 255);\"></td><td title=\"Index: [4, 5]&#10;Color: (30, 144, 255)\" style=\"width: 20px; height: 20px;background-color: rgb(30, 144, 255);\"></td><td title=\"Index: [4, 6]&#10;Color: (30, 144, 255)\" style=\"width: 20px; height: 20px;background-color: rgb(30, 144, 255);\"></td><td title=\"Index: [4, 7]&#10;Color: (30, 144, 255)\" style=\"width: 20px; height: 20px;background-color: rgb(30, 144, 255);\"></td></tr><tr><td title=\"Index: [5, 0]&#10;Color: (30, 144, 255)\" style=\"width: 20px; height: 20px;background-color: rgb(30, 144, 255);\"></td><td title=\"Index: [5, 1]&#10;Color: (30, 144, 255)\" style=\"width: 20px; height: 20px;background-color: rgb(30, 144, 255);\"></td><td title=\"Index: [5, 2]&#10;Color: (30, 144, 255)\" style=\"width: 20px; height: 20px;background-color: rgb(30, 144, 255);\"></td><td title=\"Index: [5, 3]&#10;Color: (30, 144, 255)\" style=\"width: 20px; height: 20px;background-color: rgb(30, 144, 255);\"></td><td title=\"Index: [5, 4]&#10;Color: (30, 144, 255)\" style=\"width: 20px; height: 20px;background-color: rgb(30, 144, 255);\"></td><td title=\"Index: [5, 5]&#10;Color: (30, 144, 255)\" style=\"width: 20px; height: 20px;background-color: rgb(30, 144, 255);\"></td><td title=\"Index: [5, 6]&#10;Color: (30, 144, 255)\" style=\"width: 20px; height: 20px;background-color: rgb(30, 144, 255);\"></td><td title=\"Index: [5, 7]&#10;Color: (30, 144, 255)\" style=\"width: 20px; height: 20px;background-color: rgb(30, 144, 255);\"></td></tr><tr><td title=\"Index: [6, 0]&#10;Color: (30, 144, 255)\" style=\"width: 20px; height: 20px;background-color: rgb(30, 144, 255);\"></td><td title=\"Index: [6, 1]&#10;Color: (30, 144, 255)\" style=\"width: 20px; height: 20px;background-color: rgb(30, 144, 255);\"></td><td title=\"Index: [6, 2]&#10;Color: (30, 144, 255)\" style=\"width: 20px; height: 20px;background-color: rgb(30, 144, 255);\"></td><td title=\"Index: [6, 3]&#10;Color: (30, 144, 255)\" style=\"width: 20px; height: 20px;background-color: rgb(30, 144, 255);\"></td><td title=\"Index: [6, 4]&#10;Color: (30, 144, 255)\" style=\"width: 20px; height: 20px;background-color: rgb(30, 144, 255);\"></td><td title=\"Index: [6, 5]&#10;Color: (30, 144, 255)\" style=\"width: 20px; height: 20px;background-color: rgb(30, 144, 255);\"></td><td title=\"Index: [6, 6]&#10;Color: (30, 144, 255)\" style=\"width: 20px; height: 20px;background-color: rgb(30, 144, 255);\"></td><td title=\"Index: [6, 7]&#10;Color: (30, 144, 255)\" style=\"width: 20px; height: 20px;background-color: rgb(30, 144, 255);\"></td></tr><tr><td title=\"Index: [7, 0]&#10;Color: (30, 144, 255)\" style=\"width: 20px; height: 20px;background-color: rgb(30, 144, 255);\"></td><td title=\"Index: [7, 1]&#10;Color: (30, 144, 255)\" style=\"width: 20px; height: 20px;background-color: rgb(30, 144, 255);\"></td><td title=\"Index: [7, 2]&#10;Color: (30, 144, 255)\" style=\"width: 20px; height: 20px;background-color: rgb(30, 144, 255);\"></td><td title=\"Index: [7, 3]&#10;Color: (30, 144, 255)\" style=\"width: 20px; height: 20px;background-color: rgb(30, 144, 255);\"></td><td title=\"Index: [7, 4]&#10;Color: (30, 144, 255)\" style=\"width: 20px; height: 20px;background-color: rgb(30, 144, 255);\"></td><td title=\"Index: [7, 5]&#10;Color: (30, 144, 255)\" style=\"width: 20px; height: 20px;background-color: rgb(30, 144, 255);\"></td><td title=\"Index: [7, 6]&#10;Color: (30, 144, 255)\" style=\"width: 20px; height: 20px;background-color: rgb(30, 144, 255);\"></td><td title=\"Index: [7, 7]&#10;Color: (30, 144, 255)\" style=\"width: 20px; height: 20px;background-color: rgb(30, 144, 255);\"></td></tr></tbody></table>"
       ],
       "metadata": {},
       "output_type": "display_data",
       "text": [
        "<IPython.core.display.HTML at 0x2232400>"
       ]
      },
      {
       "name": "stdout",
       "output_type": "stream",
       "stream": "stdout",
       "text": [
        "Guess Row:2\n"
       ]
      },
      {
       "name": "stdout",
       "output_type": "stream",
       "stream": "stdout",
       "text": [
        "Guess Col:5\n"
       ]
      },
      {
       "output_type": "stream",
       "stream": "stdout",
       "text": [
        "You missed my battleship!\n",
        "on turn 3\n"
       ]
      },
      {
       "html": [
        "<style type=\"text/css\">table.blockgrid {border: none;} .blockgrid tr {border: none;} .blockgrid td {padding: 0px;} #blockscb4714ec-2c65-46d2-b0b2-b50c18bfa985 td {border: 1px solid white;}</style><table id=\"blockscb4714ec-2c65-46d2-b0b2-b50c18bfa985\" class=\"blockgrid\"><tbody><tr><td title=\"Index: [0, 0]&#10;Color: (30, 144, 255)\" style=\"width: 20px; height: 20px;background-color: rgb(30, 144, 255);\"></td><td title=\"Index: [0, 1]&#10;Color: (30, 144, 255)\" style=\"width: 20px; height: 20px;background-color: rgb(30, 144, 255);\"></td><td title=\"Index: [0, 2]&#10;Color: (30, 144, 255)\" style=\"width: 20px; height: 20px;background-color: rgb(30, 144, 255);\"></td><td title=\"Index: [0, 3]&#10;Color: (30, 144, 255)\" style=\"width: 20px; height: 20px;background-color: rgb(30, 144, 255);\"></td><td title=\"Index: [0, 4]&#10;Color: (30, 144, 255)\" style=\"width: 20px; height: 20px;background-color: rgb(30, 144, 255);\"></td><td title=\"Index: [0, 5]&#10;Color: (30, 144, 255)\" style=\"width: 20px; height: 20px;background-color: rgb(30, 144, 255);\"></td><td title=\"Index: [0, 6]&#10;Color: (30, 144, 255)\" style=\"width: 20px; height: 20px;background-color: rgb(30, 144, 255);\"></td><td title=\"Index: [0, 7]&#10;Color: (30, 144, 255)\" style=\"width: 20px; height: 20px;background-color: rgb(30, 144, 255);\"></td></tr><tr><td title=\"Index: [1, 0]&#10;Color: (30, 144, 255)\" style=\"width: 20px; height: 20px;background-color: rgb(30, 144, 255);\"></td><td title=\"Index: [1, 1]&#10;Color: (30, 144, 255)\" style=\"width: 20px; height: 20px;background-color: rgb(30, 144, 255);\"></td><td title=\"Index: [1, 2]&#10;Color: (30, 144, 255)\" style=\"width: 20px; height: 20px;background-color: rgb(30, 144, 255);\"></td><td title=\"Index: [1, 3]&#10;Color: (30, 144, 255)\" style=\"width: 20px; height: 20px;background-color: rgb(30, 144, 255);\"></td><td title=\"Index: [1, 4]&#10;Color: (255, 255, 255)\" style=\"width: 20px; height: 20px;background-color: rgb(255, 255, 255);\"></td><td title=\"Index: [1, 5]&#10;Color: (30, 144, 255)\" style=\"width: 20px; height: 20px;background-color: rgb(30, 144, 255);\"></td><td title=\"Index: [1, 6]&#10;Color: (30, 144, 255)\" style=\"width: 20px; height: 20px;background-color: rgb(30, 144, 255);\"></td><td title=\"Index: [1, 7]&#10;Color: (30, 144, 255)\" style=\"width: 20px; height: 20px;background-color: rgb(30, 144, 255);\"></td></tr><tr><td title=\"Index: [2, 0]&#10;Color: (30, 144, 255)\" style=\"width: 20px; height: 20px;background-color: rgb(30, 144, 255);\"></td><td title=\"Index: [2, 1]&#10;Color: (30, 144, 255)\" style=\"width: 20px; height: 20px;background-color: rgb(30, 144, 255);\"></td><td title=\"Index: [2, 2]&#10;Color: (30, 144, 255)\" style=\"width: 20px; height: 20px;background-color: rgb(30, 144, 255);\"></td><td title=\"Index: [2, 3]&#10;Color: (255, 255, 255)\" style=\"width: 20px; height: 20px;background-color: rgb(255, 255, 255);\"></td><td title=\"Index: [2, 4]&#10;Color: (30, 144, 255)\" style=\"width: 20px; height: 20px;background-color: rgb(30, 144, 255);\"></td><td title=\"Index: [2, 5]&#10;Color: (30, 144, 255)\" style=\"width: 20px; height: 20px;background-color: rgb(30, 144, 255);\"></td><td title=\"Index: [2, 6]&#10;Color: (30, 144, 255)\" style=\"width: 20px; height: 20px;background-color: rgb(30, 144, 255);\"></td><td title=\"Index: [2, 7]&#10;Color: (30, 144, 255)\" style=\"width: 20px; height: 20px;background-color: rgb(30, 144, 255);\"></td></tr><tr><td title=\"Index: [3, 0]&#10;Color: (30, 144, 255)\" style=\"width: 20px; height: 20px;background-color: rgb(30, 144, 255);\"></td><td title=\"Index: [3, 1]&#10;Color: (30, 144, 255)\" style=\"width: 20px; height: 20px;background-color: rgb(30, 144, 255);\"></td><td title=\"Index: [3, 2]&#10;Color: (30, 144, 255)\" style=\"width: 20px; height: 20px;background-color: rgb(30, 144, 255);\"></td><td title=\"Index: [3, 3]&#10;Color: (30, 144, 255)\" style=\"width: 20px; height: 20px;background-color: rgb(30, 144, 255);\"></td><td title=\"Index: [3, 4]&#10;Color: (30, 144, 255)\" style=\"width: 20px; height: 20px;background-color: rgb(30, 144, 255);\"></td><td title=\"Index: [3, 5]&#10;Color: (30, 144, 255)\" style=\"width: 20px; height: 20px;background-color: rgb(30, 144, 255);\"></td><td title=\"Index: [3, 6]&#10;Color: (30, 144, 255)\" style=\"width: 20px; height: 20px;background-color: rgb(30, 144, 255);\"></td><td title=\"Index: [3, 7]&#10;Color: (30, 144, 255)\" style=\"width: 20px; height: 20px;background-color: rgb(30, 144, 255);\"></td></tr><tr><td title=\"Index: [4, 0]&#10;Color: (30, 144, 255)\" style=\"width: 20px; height: 20px;background-color: rgb(30, 144, 255);\"></td><td title=\"Index: [4, 1]&#10;Color: (30, 144, 255)\" style=\"width: 20px; height: 20px;background-color: rgb(30, 144, 255);\"></td><td title=\"Index: [4, 2]&#10;Color: (30, 144, 255)\" style=\"width: 20px; height: 20px;background-color: rgb(30, 144, 255);\"></td><td title=\"Index: [4, 3]&#10;Color: (30, 144, 255)\" style=\"width: 20px; height: 20px;background-color: rgb(30, 144, 255);\"></td><td title=\"Index: [4, 4]&#10;Color: (30, 144, 255)\" style=\"width: 20px; height: 20px;background-color: rgb(30, 144, 255);\"></td><td title=\"Index: [4, 5]&#10;Color: (30, 144, 255)\" style=\"width: 20px; height: 20px;background-color: rgb(30, 144, 255);\"></td><td title=\"Index: [4, 6]&#10;Color: (30, 144, 255)\" style=\"width: 20px; height: 20px;background-color: rgb(30, 144, 255);\"></td><td title=\"Index: [4, 7]&#10;Color: (30, 144, 255)\" style=\"width: 20px; height: 20px;background-color: rgb(30, 144, 255);\"></td></tr><tr><td title=\"Index: [5, 0]&#10;Color: (30, 144, 255)\" style=\"width: 20px; height: 20px;background-color: rgb(30, 144, 255);\"></td><td title=\"Index: [5, 1]&#10;Color: (30, 144, 255)\" style=\"width: 20px; height: 20px;background-color: rgb(30, 144, 255);\"></td><td title=\"Index: [5, 2]&#10;Color: (30, 144, 255)\" style=\"width: 20px; height: 20px;background-color: rgb(30, 144, 255);\"></td><td title=\"Index: [5, 3]&#10;Color: (30, 144, 255)\" style=\"width: 20px; height: 20px;background-color: rgb(30, 144, 255);\"></td><td title=\"Index: [5, 4]&#10;Color: (30, 144, 255)\" style=\"width: 20px; height: 20px;background-color: rgb(30, 144, 255);\"></td><td title=\"Index: [5, 5]&#10;Color: (30, 144, 255)\" style=\"width: 20px; height: 20px;background-color: rgb(30, 144, 255);\"></td><td title=\"Index: [5, 6]&#10;Color: (30, 144, 255)\" style=\"width: 20px; height: 20px;background-color: rgb(30, 144, 255);\"></td><td title=\"Index: [5, 7]&#10;Color: (30, 144, 255)\" style=\"width: 20px; height: 20px;background-color: rgb(30, 144, 255);\"></td></tr><tr><td title=\"Index: [6, 0]&#10;Color: (30, 144, 255)\" style=\"width: 20px; height: 20px;background-color: rgb(30, 144, 255);\"></td><td title=\"Index: [6, 1]&#10;Color: (30, 144, 255)\" style=\"width: 20px; height: 20px;background-color: rgb(30, 144, 255);\"></td><td title=\"Index: [6, 2]&#10;Color: (30, 144, 255)\" style=\"width: 20px; height: 20px;background-color: rgb(30, 144, 255);\"></td><td title=\"Index: [6, 3]&#10;Color: (30, 144, 255)\" style=\"width: 20px; height: 20px;background-color: rgb(30, 144, 255);\"></td><td title=\"Index: [6, 4]&#10;Color: (30, 144, 255)\" style=\"width: 20px; height: 20px;background-color: rgb(30, 144, 255);\"></td><td title=\"Index: [6, 5]&#10;Color: (30, 144, 255)\" style=\"width: 20px; height: 20px;background-color: rgb(30, 144, 255);\"></td><td title=\"Index: [6, 6]&#10;Color: (30, 144, 255)\" style=\"width: 20px; height: 20px;background-color: rgb(30, 144, 255);\"></td><td title=\"Index: [6, 7]&#10;Color: (30, 144, 255)\" style=\"width: 20px; height: 20px;background-color: rgb(30, 144, 255);\"></td></tr><tr><td title=\"Index: [7, 0]&#10;Color: (30, 144, 255)\" style=\"width: 20px; height: 20px;background-color: rgb(30, 144, 255);\"></td><td title=\"Index: [7, 1]&#10;Color: (30, 144, 255)\" style=\"width: 20px; height: 20px;background-color: rgb(30, 144, 255);\"></td><td title=\"Index: [7, 2]&#10;Color: (30, 144, 255)\" style=\"width: 20px; height: 20px;background-color: rgb(30, 144, 255);\"></td><td title=\"Index: [7, 3]&#10;Color: (30, 144, 255)\" style=\"width: 20px; height: 20px;background-color: rgb(30, 144, 255);\"></td><td title=\"Index: [7, 4]&#10;Color: (30, 144, 255)\" style=\"width: 20px; height: 20px;background-color: rgb(30, 144, 255);\"></td><td title=\"Index: [7, 5]&#10;Color: (30, 144, 255)\" style=\"width: 20px; height: 20px;background-color: rgb(30, 144, 255);\"></td><td title=\"Index: [7, 6]&#10;Color: (30, 144, 255)\" style=\"width: 20px; height: 20px;background-color: rgb(30, 144, 255);\"></td><td title=\"Index: [7, 7]&#10;Color: (30, 144, 255)\" style=\"width: 20px; height: 20px;background-color: rgb(30, 144, 255);\"></td></tr></tbody></table>"
       ],
       "metadata": {},
       "output_type": "display_data",
       "text": [
        "<IPython.core.display.HTML at 0x2e5e5f8>"
       ]
      },
      {
       "name": "stdout",
       "output_type": "stream",
       "stream": "stdout",
       "text": [
        "Guess Row:2\n"
       ]
      },
      {
       "name": "stdout",
       "output_type": "stream",
       "stream": "stdout",
       "text": [
        "Guess Col:1\n"
       ]
      },
      {
       "output_type": "stream",
       "stream": "stdout",
       "text": [
        "You missed my battleship!\n",
        "on turn 4\n",
        "Game Over\n"
       ]
      },
      {
       "html": [
        "<style type=\"text/css\">table.blockgrid {border: none;} .blockgrid tr {border: none;} .blockgrid td {padding: 0px;} #blocks1ada93e1-56f4-4746-b535-7fa6823021f2 td {border: 1px solid white;}</style><table id=\"blocks1ada93e1-56f4-4746-b535-7fa6823021f2\" class=\"blockgrid\"><tbody><tr><td title=\"Index: [0, 0]&#10;Color: (30, 144, 255)\" style=\"width: 20px; height: 20px;background-color: rgb(30, 144, 255);\"></td><td title=\"Index: [0, 1]&#10;Color: (30, 144, 255)\" style=\"width: 20px; height: 20px;background-color: rgb(30, 144, 255);\"></td><td title=\"Index: [0, 2]&#10;Color: (30, 144, 255)\" style=\"width: 20px; height: 20px;background-color: rgb(30, 144, 255);\"></td><td title=\"Index: [0, 3]&#10;Color: (30, 144, 255)\" style=\"width: 20px; height: 20px;background-color: rgb(30, 144, 255);\"></td><td title=\"Index: [0, 4]&#10;Color: (30, 144, 255)\" style=\"width: 20px; height: 20px;background-color: rgb(30, 144, 255);\"></td><td title=\"Index: [0, 5]&#10;Color: (30, 144, 255)\" style=\"width: 20px; height: 20px;background-color: rgb(30, 144, 255);\"></td><td title=\"Index: [0, 6]&#10;Color: (30, 144, 255)\" style=\"width: 20px; height: 20px;background-color: rgb(30, 144, 255);\"></td><td title=\"Index: [0, 7]&#10;Color: (30, 144, 255)\" style=\"width: 20px; height: 20px;background-color: rgb(30, 144, 255);\"></td></tr><tr><td title=\"Index: [1, 0]&#10;Color: (255, 255, 255)\" style=\"width: 20px; height: 20px;background-color: rgb(255, 255, 255);\"></td><td title=\"Index: [1, 1]&#10;Color: (30, 144, 255)\" style=\"width: 20px; height: 20px;background-color: rgb(30, 144, 255);\"></td><td title=\"Index: [1, 2]&#10;Color: (30, 144, 255)\" style=\"width: 20px; height: 20px;background-color: rgb(30, 144, 255);\"></td><td title=\"Index: [1, 3]&#10;Color: (30, 144, 255)\" style=\"width: 20px; height: 20px;background-color: rgb(30, 144, 255);\"></td><td title=\"Index: [1, 4]&#10;Color: (255, 255, 255)\" style=\"width: 20px; height: 20px;background-color: rgb(255, 255, 255);\"></td><td title=\"Index: [1, 5]&#10;Color: (30, 144, 255)\" style=\"width: 20px; height: 20px;background-color: rgb(30, 144, 255);\"></td><td title=\"Index: [1, 6]&#10;Color: (30, 144, 255)\" style=\"width: 20px; height: 20px;background-color: rgb(30, 144, 255);\"></td><td title=\"Index: [1, 7]&#10;Color: (30, 144, 255)\" style=\"width: 20px; height: 20px;background-color: rgb(30, 144, 255);\"></td></tr><tr><td title=\"Index: [2, 0]&#10;Color: (30, 144, 255)\" style=\"width: 20px; height: 20px;background-color: rgb(30, 144, 255);\"></td><td title=\"Index: [2, 1]&#10;Color: (30, 144, 255)\" style=\"width: 20px; height: 20px;background-color: rgb(30, 144, 255);\"></td><td title=\"Index: [2, 2]&#10;Color: (30, 144, 255)\" style=\"width: 20px; height: 20px;background-color: rgb(30, 144, 255);\"></td><td title=\"Index: [2, 3]&#10;Color: (255, 255, 255)\" style=\"width: 20px; height: 20px;background-color: rgb(255, 255, 255);\"></td><td title=\"Index: [2, 4]&#10;Color: (30, 144, 255)\" style=\"width: 20px; height: 20px;background-color: rgb(30, 144, 255);\"></td><td title=\"Index: [2, 5]&#10;Color: (30, 144, 255)\" style=\"width: 20px; height: 20px;background-color: rgb(30, 144, 255);\"></td><td title=\"Index: [2, 6]&#10;Color: (30, 144, 255)\" style=\"width: 20px; height: 20px;background-color: rgb(30, 144, 255);\"></td><td title=\"Index: [2, 7]&#10;Color: (30, 144, 255)\" style=\"width: 20px; height: 20px;background-color: rgb(30, 144, 255);\"></td></tr><tr><td title=\"Index: [3, 0]&#10;Color: (30, 144, 255)\" style=\"width: 20px; height: 20px;background-color: rgb(30, 144, 255);\"></td><td title=\"Index: [3, 1]&#10;Color: (30, 144, 255)\" style=\"width: 20px; height: 20px;background-color: rgb(30, 144, 255);\"></td><td title=\"Index: [3, 2]&#10;Color: (30, 144, 255)\" style=\"width: 20px; height: 20px;background-color: rgb(30, 144, 255);\"></td><td title=\"Index: [3, 3]&#10;Color: (30, 144, 255)\" style=\"width: 20px; height: 20px;background-color: rgb(30, 144, 255);\"></td><td title=\"Index: [3, 4]&#10;Color: (30, 144, 255)\" style=\"width: 20px; height: 20px;background-color: rgb(30, 144, 255);\"></td><td title=\"Index: [3, 5]&#10;Color: (30, 144, 255)\" style=\"width: 20px; height: 20px;background-color: rgb(30, 144, 255);\"></td><td title=\"Index: [3, 6]&#10;Color: (255, 0, 0)\" style=\"width: 20px; height: 20px;background-color: rgb(255, 0, 0);\"></td><td title=\"Index: [3, 7]&#10;Color: (30, 144, 255)\" style=\"width: 20px; height: 20px;background-color: rgb(30, 144, 255);\"></td></tr><tr><td title=\"Index: [4, 0]&#10;Color: (30, 144, 255)\" style=\"width: 20px; height: 20px;background-color: rgb(30, 144, 255);\"></td><td title=\"Index: [4, 1]&#10;Color: (30, 144, 255)\" style=\"width: 20px; height: 20px;background-color: rgb(30, 144, 255);\"></td><td title=\"Index: [4, 2]&#10;Color: (30, 144, 255)\" style=\"width: 20px; height: 20px;background-color: rgb(30, 144, 255);\"></td><td title=\"Index: [4, 3]&#10;Color: (30, 144, 255)\" style=\"width: 20px; height: 20px;background-color: rgb(30, 144, 255);\"></td><td title=\"Index: [4, 4]&#10;Color: (30, 144, 255)\" style=\"width: 20px; height: 20px;background-color: rgb(30, 144, 255);\"></td><td title=\"Index: [4, 5]&#10;Color: (30, 144, 255)\" style=\"width: 20px; height: 20px;background-color: rgb(30, 144, 255);\"></td><td title=\"Index: [4, 6]&#10;Color: (255, 0, 0)\" style=\"width: 20px; height: 20px;background-color: rgb(255, 0, 0);\"></td><td title=\"Index: [4, 7]&#10;Color: (30, 144, 255)\" style=\"width: 20px; height: 20px;background-color: rgb(30, 144, 255);\"></td></tr><tr><td title=\"Index: [5, 0]&#10;Color: (30, 144, 255)\" style=\"width: 20px; height: 20px;background-color: rgb(30, 144, 255);\"></td><td title=\"Index: [5, 1]&#10;Color: (30, 144, 255)\" style=\"width: 20px; height: 20px;background-color: rgb(30, 144, 255);\"></td><td title=\"Index: [5, 2]&#10;Color: (30, 144, 255)\" style=\"width: 20px; height: 20px;background-color: rgb(30, 144, 255);\"></td><td title=\"Index: [5, 3]&#10;Color: (30, 144, 255)\" style=\"width: 20px; height: 20px;background-color: rgb(30, 144, 255);\"></td><td title=\"Index: [5, 4]&#10;Color: (30, 144, 255)\" style=\"width: 20px; height: 20px;background-color: rgb(30, 144, 255);\"></td><td title=\"Index: [5, 5]&#10;Color: (30, 144, 255)\" style=\"width: 20px; height: 20px;background-color: rgb(30, 144, 255);\"></td><td title=\"Index: [5, 6]&#10;Color: (255, 0, 0)\" style=\"width: 20px; height: 20px;background-color: rgb(255, 0, 0);\"></td><td title=\"Index: [5, 7]&#10;Color: (30, 144, 255)\" style=\"width: 20px; height: 20px;background-color: rgb(30, 144, 255);\"></td></tr><tr><td title=\"Index: [6, 0]&#10;Color: (30, 144, 255)\" style=\"width: 20px; height: 20px;background-color: rgb(30, 144, 255);\"></td><td title=\"Index: [6, 1]&#10;Color: (30, 144, 255)\" style=\"width: 20px; height: 20px;background-color: rgb(30, 144, 255);\"></td><td title=\"Index: [6, 2]&#10;Color: (30, 144, 255)\" style=\"width: 20px; height: 20px;background-color: rgb(30, 144, 255);\"></td><td title=\"Index: [6, 3]&#10;Color: (30, 144, 255)\" style=\"width: 20px; height: 20px;background-color: rgb(30, 144, 255);\"></td><td title=\"Index: [6, 4]&#10;Color: (30, 144, 255)\" style=\"width: 20px; height: 20px;background-color: rgb(30, 144, 255);\"></td><td title=\"Index: [6, 5]&#10;Color: (30, 144, 255)\" style=\"width: 20px; height: 20px;background-color: rgb(30, 144, 255);\"></td><td title=\"Index: [6, 6]&#10;Color: (30, 144, 255)\" style=\"width: 20px; height: 20px;background-color: rgb(30, 144, 255);\"></td><td title=\"Index: [6, 7]&#10;Color: (30, 144, 255)\" style=\"width: 20px; height: 20px;background-color: rgb(30, 144, 255);\"></td></tr><tr><td title=\"Index: [7, 0]&#10;Color: (30, 144, 255)\" style=\"width: 20px; height: 20px;background-color: rgb(30, 144, 255);\"></td><td title=\"Index: [7, 1]&#10;Color: (30, 144, 255)\" style=\"width: 20px; height: 20px;background-color: rgb(30, 144, 255);\"></td><td title=\"Index: [7, 2]&#10;Color: (30, 144, 255)\" style=\"width: 20px; height: 20px;background-color: rgb(30, 144, 255);\"></td><td title=\"Index: [7, 3]&#10;Color: (30, 144, 255)\" style=\"width: 20px; height: 20px;background-color: rgb(30, 144, 255);\"></td><td title=\"Index: [7, 4]&#10;Color: (30, 144, 255)\" style=\"width: 20px; height: 20px;background-color: rgb(30, 144, 255);\"></td><td title=\"Index: [7, 5]&#10;Color: (30, 144, 255)\" style=\"width: 20px; height: 20px;background-color: rgb(30, 144, 255);\"></td><td title=\"Index: [7, 6]&#10;Color: (30, 144, 255)\" style=\"width: 20px; height: 20px;background-color: rgb(30, 144, 255);\"></td><td title=\"Index: [7, 7]&#10;Color: (30, 144, 255)\" style=\"width: 20px; height: 20px;background-color: rgb(30, 144, 255);\"></td></tr></tbody></table>"
       ],
       "metadata": {},
       "output_type": "display_data",
       "text": [
        "<IPython.core.display.HTML at 0x2232320>"
       ]
      }
     ],
     "prompt_number": 2
    },
    {
     "cell_type": "code",
     "collapsed": false,
     "input": [
      "def read_all_from_file(filename, safe=False):\n",
      "    if safe == True:\n",
      "        return \" \"\n",
      "    else:\n",
      "        try:\n",
      "            f = open(filename)\n",
      "        except IOError as err:\n",
      "            print \"This is not the file you are looking for\"\n",
      "            print \"because it does not exist\"\n",
      "            return None\n",
      "        else:\n",
      "            contents = f.read()\n",
      "            f.close()\n",
      "        finally:\n",
      "            print \"Happy reading/not reading\"\n",
      "        return contents"
     ],
     "language": "python",
     "metadata": {},
     "outputs": [],
     "prompt_number": 3
    },
    {
     "cell_type": "code",
     "collapsed": false,
     "input": [
      "read_all_from_file(\"txt.txt\", safe=True)"
     ],
     "language": "python",
     "metadata": {},
     "outputs": [
      {
       "metadata": {},
       "output_type": "pyout",
       "prompt_number": 11,
       "text": [
        "' '"
       ]
      }
     ],
     "prompt_number": 11
    },
    {
     "cell_type": "code",
     "collapsed": false,
     "input": [
      "read_all_from_file('txt.txt')"
     ],
     "language": "python",
     "metadata": {},
     "outputs": [
      {
       "output_type": "stream",
       "stream": "stdout",
       "text": [
        "This is not the file you are looking for\n",
        "because it does not exist\n",
        "Happy reading/not reading\n"
       ]
      }
     ],
     "prompt_number": 4
    },
    {
     "cell_type": "code",
     "collapsed": false,
     "input": [],
     "language": "python",
     "metadata": {},
     "outputs": []
    }
   ],
   "metadata": {}
  }
 ]
}